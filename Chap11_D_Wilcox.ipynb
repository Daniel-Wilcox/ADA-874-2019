{
 "cells": [
  {
   "cell_type": "markdown",
   "metadata": {},
   "source": [
    "# Tensor-Flow\n",
    "\n",
    "## Daniel Wilcox: 19147414\n",
    "\n",
    "This example problem can be found within chapter 11 of the \"Hands-on Machine Learning with Scikit-Learn and TensorFlow\" by Aurélien Géron. \n"
   ]
  },
  {
   "cell_type": "code",
   "execution_count": 1,
   "metadata": {},
   "outputs": [],
   "source": [
    "import tensorflow as tf\n",
    "\n",
    "import time\n",
    "import os\n",
    "\n",
    "import numpy as np\n",
    "import pandas as pd\n",
    "import matplotlib.pyplot as plt\n",
    "\n",
    "\n",
    "def reset_graph(seed=42):\n",
    "    tf.reset_default_graph()\n",
    "    tf.set_random_seed(seed)\n",
    "    np.random.seed(seed)"
   ]
  },
  {
   "cell_type": "code",
   "execution_count": 2,
   "metadata": {},
   "outputs": [],
   "source": [
    "#MNist Data:\n",
    "(X_train, y_train), (X_test, y_test) = tf.keras.datasets.mnist.load_data()\n",
    "\n",
    "X_train = X_train.astype(np.float32).reshape(-1, 28*28) / 255.0\n",
    "X_test = X_test.astype(np.float32).reshape(-1, 28*28) / 255.0\n",
    "y_train = y_train.astype(np.int32)\n",
    "y_test = y_test.astype(np.int32)\n",
    "X_valid, X_train = X_train[:5000], X_train[5000:]\n",
    "y_valid, y_train = y_train[:5000], y_train[5000:]"
   ]
  },
  {
   "cell_type": "markdown",
   "metadata": {},
   "source": [
    "# Exercises:\n",
    "\n",
    "## 8.\n",
    "### 8.1) \n",
    "Build a DNN with five hidden layers of 100 neurons each, He initialization, and the ELU activation function.\n",
    "\n",
    "\n",
    "   "
   ]
  },
  {
   "cell_type": "code",
   "execution_count": 3,
   "metadata": {},
   "outputs": [],
   "source": [
    "#Hidden Layers and neurons per layer:\n",
    "n_layers = 5\n",
    "n_neurons = 100\n",
    "\n",
    "#He initialization:\n",
    "he_init = tf.variance_scaling_initializer()\n",
    "\n",
    "#ELU activation:\n",
    "elu_act = tf.nn.elu\n",
    "\n",
    "#Function to make dnn layers of equal size:\n",
    "def make_eq_dnn(inputs, n_hidden_layers=n_layers, n_neurons=n_neurons, \n",
    "        initializer=he_init, activation=elu_act, name=None):\n",
    "    \n",
    "    with tf.variable_scope(name, \"dnn\"):\n",
    "        \n",
    "        for layer in range(n_hidden_layers):\n",
    "            inputs = tf.layers.dense(inputs, n_neurons, activation=activation,\n",
    "                                     kernel_initializer=initializer,\n",
    "                                     name=\"hidden%d\" % (layer + 1))\n",
    "        return inputs\n"
   ]
  },
  {
   "cell_type": "code",
   "execution_count": 4,
   "metadata": {},
   "outputs": [
    {
     "name": "stdout",
     "output_type": "stream",
     "text": [
      "WARNING:tensorflow:From <ipython-input-3-7a3833bd96d2>:20: dense (from tensorflow.python.layers.core) is deprecated and will be removed in a future version.\n",
      "Instructions for updating:\n",
      "Use keras.layers.dense instead.\n",
      "WARNING:tensorflow:From /anaconda3/lib/python3.7/site-packages/tensorflow/python/framework/op_def_library.py:263: colocate_with (from tensorflow.python.framework.ops) is deprecated and will be removed in a future version.\n",
      "Instructions for updating:\n",
      "Colocations handled automatically by placer.\n"
     ]
    }
   ],
   "source": [
    "reset_graph()\n",
    "\n",
    "# MNIST\n",
    "n_inputs = 28 * 28 # MNIST\n",
    "\n",
    "#Input layer/labels\n",
    "X = tf.placeholder(tf.float32, shape=(None, n_inputs), name=\"X\")\n",
    "y = tf.placeholder(tf.int32, shape=(None), name=\"y\")\n",
    "\n",
    "#hidden layers\n",
    "dnn_layers = make_eq_dnn(X) \n"
   ]
  },
  {
   "cell_type": "markdown",
   "metadata": {},
   "source": [
    "### 8.2)\n",
    "Using Adam optimization and early stopping, try training it on MNIST but only on digits 0 to 4, as we will use transfer learning for digits 5 to 9 in the next exercise. You will need a softmax output layer with five neurons, and as always make sure to save checkpoints at regular intervals and save the final model so you can reuse it later."
   ]
  },
  {
   "cell_type": "code",
   "execution_count": 5,
   "metadata": {},
   "outputs": [],
   "source": [
    "n_outputs = 5 #Same as n_layers\n",
    "    \n",
    "#Output layer:\n",
    "\n",
    "\n",
    "logits = tf.layers.dense(dnn_layers, n_outputs, kernel_initializer=he_init, name=\"logits\")\n",
    "Y_proba = tf.nn.softmax(logits, name=\"Y_proba\")"
   ]
  },
  {
   "cell_type": "code",
   "execution_count": 6,
   "metadata": {},
   "outputs": [],
   "source": [
    "#Cost function:\n",
    "with tf.name_scope(\"loss\"):\n",
    "    xentropy = tf.nn.sparse_softmax_cross_entropy_with_logits(labels=y, logits=logits)\n",
    "    loss = tf.reduce_mean(xentropy, name=\"loss\")\n",
    "    \n",
    "#Adam Optimization:\n",
    "learning_rate = 0.01\n",
    "\n",
    "with tf.name_scope(\"train\"):\n",
    "    optimizer = tf.train.AdamOptimizer(learning_rate=learning_rate)\n",
    "    training_op = optimizer.minimize(loss, name=\"training_op\")\n",
    "\n",
    "#Evaluation:    \n",
    "with tf.name_scope(\"eval\"):\n",
    "    correct = tf.nn.in_top_k(logits, y, 1)\n",
    "    accuracy = tf.reduce_mean(tf.cast(correct, tf.float32), name=\"accuracy\")\n",
    "    \n",
    "init = tf.global_variables_initializer()\n",
    "saver = tf.train.Saver()"
   ]
  },
  {
   "cell_type": "code",
   "execution_count": 7,
   "metadata": {},
   "outputs": [],
   "source": [
    "#Dataset for values 0-4\n",
    "X_train_low = X_train[y_train < 5]\n",
    "y_train_low = y_train[y_train < 5]\n",
    "\n",
    "X_valid_low = X_valid[y_valid < 5]\n",
    "y_valid_low = y_valid[y_valid < 5]\n",
    "\n",
    "X_test_low = X_test[y_test < 5]\n",
    "y_test_low = y_test[y_test < 5]"
   ]
  },
  {
   "cell_type": "code",
   "execution_count": 8,
   "metadata": {},
   "outputs": [
    {
     "name": "stdout",
     "output_type": "stream",
     "text": [
      "epoch: 0\tVal_loss: 0.17101\tBest_loss: 0.17101\tVal_Acc: 96.29 %\n",
      "epoch: 1\tVal_loss: 0.10023\tBest_loss: 0.10023\tVal_Acc: 97.69 %\n",
      "epoch: 2\tVal_loss: 0.09042\tBest_loss: 0.09042\tVal_Acc: 97.85 %\n",
      "epoch: 3\tVal_loss: 0.09084\tBest_loss: 0.09042\tVal_Acc: 97.97 %\n",
      "epoch: 4\tVal_loss: 0.09744\tBest_loss: 0.09042\tVal_Acc: 98.20 %\n",
      "epoch: 5\tVal_loss: 0.07220\tBest_loss: 0.07220\tVal_Acc: 98.20 %\n",
      "epoch: 6\tVal_loss: 0.40714\tBest_loss: 0.07220\tVal_Acc: 95.86 %\n",
      "epoch: 7\tVal_loss: 0.07249\tBest_loss: 0.07220\tVal_Acc: 98.44 %\n",
      "epoch: 8\tVal_loss: 0.07518\tBest_loss: 0.07220\tVal_Acc: 97.85 %\n",
      "epoch: 9\tVal_loss: 0.05422\tBest_loss: 0.05422\tVal_Acc: 98.67 %\n",
      "epoch: 10\tVal_loss: 0.05847\tBest_loss: 0.05422\tVal_Acc: 98.75 %\n",
      "epoch: 11\tVal_loss: 0.07658\tBest_loss: 0.05422\tVal_Acc: 98.71 %\n",
      "epoch: 12\tVal_loss: 0.07264\tBest_loss: 0.05422\tVal_Acc: 98.28 %\n",
      "epoch: 13\tVal_loss: 0.21070\tBest_loss: 0.05422\tVal_Acc: 96.40 %\n",
      "epoch: 14\tVal_loss: 0.18337\tBest_loss: 0.05422\tVal_Acc: 98.20 %\n",
      "epoch: 15\tVal_loss: 0.14284\tBest_loss: 0.05422\tVal_Acc: 97.93 %\n",
      "epoch: 16\tVal_loss: 0.18151\tBest_loss: 0.05422\tVal_Acc: 98.67 %\n",
      "epoch: 17\tVal_loss: 0.19796\tBest_loss: 0.05422\tVal_Acc: 97.22 %\n",
      "epoch: 18\tVal_loss: 0.11964\tBest_loss: 0.05422\tVal_Acc: 98.51 %\n",
      "epoch: 19\tVal_loss: 0.18160\tBest_loss: 0.05422\tVal_Acc: 95.04 %\n",
      "epoch: 20\tVal_loss: 0.49591\tBest_loss: 0.05422\tVal_Acc: 96.76 %\n",
      "epoch: 21\tVal_loss: 0.50663\tBest_loss: 0.05422\tVal_Acc: 97.85 %\n",
      "epoch: 22\tVal_loss: 0.13894\tBest_loss: 0.05422\tVal_Acc: 97.54 %\n",
      "epoch: 23\tVal_loss: 0.15370\tBest_loss: 0.05422\tVal_Acc: 98.08 %\n",
      "epoch: 24\tVal_loss: 0.11006\tBest_loss: 0.05422\tVal_Acc: 98.01 %\n",
      "Early Stop condition satisfied.\n"
     ]
    }
   ],
   "source": [
    "n_epochs = 2000\n",
    "batch_size = 50\n",
    "\n",
    "Early_stop = 15\n",
    "Early_checker = 0\n",
    "best_loss = np.infty\n",
    "\n",
    "#Model Training:\n",
    "with tf.Session() as sess:\n",
    "    init.run()\n",
    "    \n",
    "    for epoch in range(n_epochs):\n",
    "        \n",
    "        rand_idx = np.random.permutation(len(X_train_low))\n",
    "        \n",
    "        for rand_idx in np.array_split(rand_idx, len(X_train_low)//batch_size):\n",
    "            X_batch, y_batch = X_train_low[rand_idx], y_train_low[rand_idx]\n",
    "            sess.run(training_op, feed_dict={X: X_batch, y: y_batch})\n",
    "            \n",
    "        val_loss, val_acc = sess.run([loss, accuracy], feed_dict={X: X_valid_low, y: y_valid_low})\n",
    "        \n",
    "        if val_loss < best_loss:\n",
    "            save_path = saver.save(sess, \"./mnist_model_ex_8_2\")\n",
    "            best_loss = val_loss\n",
    "            Early_checker = 0\n",
    "            \n",
    "        else:\n",
    "            Early_checker += 1\n",
    "            \n",
    "            if Early_checker > Early_stop:\n",
    "                print(\"Early Stop condition satisfied.\")\n",
    "                break\n",
    "        \n",
    "        print(\"epoch: {}\\tVal_loss: {:.5f}\\tBest_loss: {:.5f}\\tVal_Acc: {:.2f} %\".\n",
    "              format(epoch, val_loss, best_loss, 100*val_acc))\n",
    "\n",
    "\n"
   ]
  },
  {
   "cell_type": "code",
   "execution_count": 10,
   "metadata": {},
   "outputs": [
    {
     "name": "stdout",
     "output_type": "stream",
     "text": [
      "INFO:tensorflow:Restoring parameters from ./mnist_model_ex_8_2\n",
      "Test Accuracy: 98.83 %\n"
     ]
    }
   ],
   "source": [
    "with tf.Session() as sess:\n",
    "    saver.restore(sess, \"./mnist_model_ex_8_2\")\n",
    "    test_acc = accuracy.eval(feed_dict={X: X_test_low, y: y_test_low})\n",
    "    print(\"Test Accuracy: {:.2f} %\".format(100*test_acc))"
   ]
  },
  {
   "cell_type": "markdown",
   "metadata": {},
   "source": [
    "### 8.3)\n",
    "Tune the hyperparameters using cross-validation and see what precision you can achieve."
   ]
  },
  {
   "cell_type": "code",
   "execution_count": null,
   "metadata": {},
   "outputs": [],
   "source": []
  }
 ],
 "metadata": {
  "kernelspec": {
   "display_name": "Python 3",
   "language": "python",
   "name": "python3"
  },
  "language_info": {
   "codemirror_mode": {
    "name": "ipython",
    "version": 3
   },
   "file_extension": ".py",
   "mimetype": "text/x-python",
   "name": "python",
   "nbconvert_exporter": "python",
   "pygments_lexer": "ipython3",
   "version": "3.7.1"
  }
 },
 "nbformat": 4,
 "nbformat_minor": 2
}
