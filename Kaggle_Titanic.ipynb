{
 "cells": [
  {
   "cell_type": "markdown",
   "metadata": {},
   "source": [
    "# Kaggle: Titanic Challenge\n",
    "## Coded by Daniel Wilcox\n",
    "\n",
    "This is a notebook showing the process in predicting the survivors of the Titanic."
   ]
  },
  {
   "cell_type": "code",
   "execution_count": 1,
   "metadata": {},
   "outputs": [],
   "source": [
    "import os\n",
    "import pickle\n",
    "import glob\n",
    "\n",
    "import pandas as pd\n",
    "import numpy as np\n",
    "import seaborn as sns\n",
    "\n",
    "from scipy.stats import randint, reciprocal, expon, uniform\n",
    "\n",
    "import matplotlib.pyplot as plt\n",
    "from pandas.plotting import scatter_matrix\n",
    "\n",
    "from sklearn.model_selection import StratifiedShuffleSplit\n",
    "from sklearn.model_selection import StratifiedKFold\n",
    "from sklearn.model_selection import ShuffleSplit\n",
    "from sklearn.base import clone\n",
    "\n",
    "#Fills in values to empty data locations\n",
    "from sklearn.preprocessing import StandardScaler\n",
    "\n",
    "from sklearn.pipeline import Pipeline\n",
    "from sklearn.impute import SimpleImputer\n",
    "from sklearn.pipeline import FeatureUnion\n",
    "\n",
    "\n",
    "from sklearn.preprocessing import LabelEncoder\n",
    "from sklearn.preprocessing import OneHotEncoder\n",
    "\n",
    "#Creating custom Transformers\n",
    "from sklearn.base import BaseEstimator, TransformerMixin\n",
    "from sklearn.preprocessing import FunctionTransformer\n",
    "\n",
    "\n",
    "\n",
    "\n",
    "from sklearn.metrics import accuracy_score\n",
    "from sklearn.model_selection import cross_val_score\n",
    "\n",
    "from sklearn.metrics import confusion_matrix\n",
    "\n",
    "from sklearn.model_selection import GridSearchCV\n",
    "from sklearn.model_selection import RandomizedSearchCV\n",
    "\n",
    "\n",
    "#Classifier Models:\n",
    "from sklearn.svm import LinearSVC\n",
    "from sklearn.svm import SVC\n",
    "from sklearn.svm import NuSVC #-----\n",
    "\n",
    "from sklearn.linear_model import LogisticRegression\n",
    "from sklearn.linear_model import SGDClassifier\n",
    "from sklearn.linear_model import PassiveAggressiveClassifier #-----\n",
    "from sklearn.linear_model import Perceptron #-----\n",
    "from sklearn.linear_model import RidgeClassifier #-----\n",
    "\n",
    "from sklearn.gaussian_process import GaussianProcessClassifier #-----\n",
    "\n",
    "from sklearn.naive_bayes import BernoulliNB #-----\n",
    "from sklearn.naive_bayes import GaussianNB #-----\n",
    "\n",
    "from sklearn.tree import DecisionTreeClassifier\n",
    "\n",
    "from sklearn.neighbors import KNeighborsClassifier\n",
    "\n",
    "from sklearn.ensemble import RandomForestClassifier\n",
    "from sklearn.ensemble import AdaBoostClassifier\n",
    "from sklearn.ensemble import ExtraTreesClassifier\n",
    "from sklearn.ensemble import GradientBoostingClassifier\n",
    "from sklearn.ensemble import BaggingClassifier #-----\n",
    "\n",
    "from sklearn.discriminant_analysis import LinearDiscriminantAnalysis #-----\n",
    "from sklearn.discriminant_analysis import QuadraticDiscriminantAnalysis #-----\n",
    "\n",
    "from sklearn.neural_network import MLPClassifier #-----\n",
    "\n",
    "from sklearn.ensemble import VotingClassifier\n"
   ]
  },
  {
   "cell_type": "code",
   "execution_count": 2,
   "metadata": {},
   "outputs": [],
   "source": [
    "#The Location to save the dataset\n",
    "TITANIC_PATH = \"datasets/titanic\"\n",
    "TITANIC_URL = \"https://github.com/Daniel-Wilcox/ADA-874-2019/blob/master/datasets/titanic/\"\n",
    "train_name = \"train.csv\" \n",
    "test_name = \"test.csv\" \n",
    "\n",
    "\n",
    "#The Location to save the models\n",
    "PICKLE_PATH = \"PickleModels/Titanic\""
   ]
  },
  {
   "cell_type": "code",
   "execution_count": 3,
   "metadata": {},
   "outputs": [],
   "source": [
    "#Pickle functions\n",
    "\n",
    "#Saving and storing the model\n",
    "def save_pickle(model_name, model, pic_path=PICKLE_PATH):\n",
    "    print(\"Saving model...\")\n",
    "    \n",
    "    cwd = os.getcwd()\n",
    "    os.chdir(cwd+\"/\"+pic_path)\n",
    "        \n",
    "    f = open(model_name, \"wb\")\n",
    "    pickle.dump(model, f)\n",
    "    f.close()\n",
    "    \n",
    "    os.chdir(cwd)\n",
    "    print(\"Saved \"+model_name+\" successfully!\\n\")\n",
    "    return None\n",
    "    \n",
    "    \n",
    "#Retrieving and loading the model\n",
    "def load_pickle(model_name, pic_path=PICKLE_PATH):\n",
    "    print(\"Loading \"+model_name+\" from Pickle file...\")\n",
    "    \n",
    "    cwd = os.getcwd()\n",
    "    os.chdir(cwd+\"/\"+pic_path)\n",
    "    \n",
    "    f = open(model_name, \"rb\")\n",
    "    p = pickle.load(f)\n",
    "    f.close()\n",
    "    \n",
    "    os.chdir(cwd)\n",
    "    print(model_name+\" successfully loaded!\\n\")\n",
    "    return p\n",
    "\n",
    "#Check whether the pickel exists\n",
    "def pickle_exist(model_name, pic_path=PICKLE_PATH):\n",
    "    #check if pickle file exists\n",
    "    print(\"Checking if pickle directory exists...\")\n",
    "    if not os.path.isdir(pic_path):\n",
    "        os.makedirs(pic_path)\n",
    "        print(\"Directory does NOT exists\")\n",
    "        print(\"Creating directory\")\n",
    "    \n",
    "    else: \n",
    "        print(\"Directory exists\")\n",
    "        \n",
    "    if os.path.isfile(pic_path+\"/\"+model_name):\n",
    "        print(\"Pickle file does exists...\")\n",
    "        return True\n",
    "    else:\n",
    "        print(\"Pickle file does NOT exists...\")\n",
    "        return False"
   ]
  },
  {
   "cell_type": "code",
   "execution_count": 4,
   "metadata": {},
   "outputs": [],
   "source": [
    "def load_Titanic_data(file_name, titanic_path=TITANIC_PATH):\n",
    "    csv_path = os.path.join(titanic_path, file_name)\n",
    "    return pd.read_csv(csv_path)\n",
    "        \n",
    "    \n",
    "def get_Titanic_data(file_name, titanic_url=TITANIC_URL, titanic_path=TITANIC_PATH):\n",
    "    csv_path = os.path.join(titanic_path, file_name)\n",
    "    \n",
    "    print(\"Checking if directory exists...\")\n",
    "    if not os.path.isdir(titanic_path):\n",
    "        os.makedirs(titanic_path)\n",
    "        print(\"Creating directory\")\n",
    "    \n",
    "    else: \n",
    "        print(\"Directory exists\") \n",
    "            \n",
    "        if os.path.isfile(csv_path):\n",
    "            print(file_name + \" file does exists...\")\n",
    "            print(\"extracting \" + file_name)\n",
    "            \n",
    "            titanic = load_Titanic_data(file_name)\n",
    "            print(\"\\nSuccess!\")\n",
    "            return titanic\n",
    "        \n",
    "        else:\n",
    "            print(file_name + \" file doesn't exists...\")\n",
    "            print(\"Download .csv from Kaggle!\")\n",
    "\n",
    "            return None\n",
    "                   "
   ]
  },
  {
   "cell_type": "code",
   "execution_count": 5,
   "metadata": {},
   "outputs": [
    {
     "name": "stdout",
     "output_type": "stream",
     "text": [
      "Checking if directory exists...\n",
      "Directory exists\n",
      "train.csv file does exists...\n",
      "extracting train.csv\n",
      "\n",
      "Success!\n",
      "Checking if directory exists...\n",
      "Directory exists\n",
      "test.csv file does exists...\n",
      "extracting test.csv\n",
      "\n",
      "Success!\n"
     ]
    }
   ],
   "source": [
    "Train = get_Titanic_data(train_name)\n",
    "Test = get_Titanic_data(test_name)\n"
   ]
  },
  {
   "cell_type": "code",
   "execution_count": 6,
   "metadata": {},
   "outputs": [
    {
     "name": "stdout",
     "output_type": "stream",
     "text": [
      "<class 'pandas.core.frame.DataFrame'>\n",
      "RangeIndex: 891 entries, 0 to 890\n",
      "Data columns (total 12 columns):\n",
      "PassengerId    891 non-null int64\n",
      "Survived       891 non-null int64\n",
      "Pclass         891 non-null int64\n",
      "Name           891 non-null object\n",
      "Sex            891 non-null object\n",
      "Age            714 non-null float64\n",
      "SibSp          891 non-null int64\n",
      "Parch          891 non-null int64\n",
      "Ticket         891 non-null object\n",
      "Fare           891 non-null float64\n",
      "Cabin          204 non-null object\n",
      "Embarked       889 non-null object\n",
      "dtypes: float64(2), int64(5), object(5)\n",
      "memory usage: 83.6+ KB\n"
     ]
    }
   ],
   "source": [
    "Train.info()"
   ]
  },
  {
   "cell_type": "code",
   "execution_count": 7,
   "metadata": {},
   "outputs": [
    {
     "name": "stdout",
     "output_type": "stream",
     "text": [
      "<class 'pandas.core.frame.DataFrame'>\n",
      "RangeIndex: 418 entries, 0 to 417\n",
      "Data columns (total 11 columns):\n",
      "PassengerId    418 non-null int64\n",
      "Pclass         418 non-null int64\n",
      "Name           418 non-null object\n",
      "Sex            418 non-null object\n",
      "Age            332 non-null float64\n",
      "SibSp          418 non-null int64\n",
      "Parch          418 non-null int64\n",
      "Ticket         418 non-null object\n",
      "Fare           417 non-null float64\n",
      "Cabin          91 non-null object\n",
      "Embarked       418 non-null object\n",
      "dtypes: float64(2), int64(4), object(5)\n",
      "memory usage: 36.0+ KB\n"
     ]
    }
   ],
   "source": [
    "Test.info()"
   ]
  },
  {
   "cell_type": "code",
   "execution_count": 8,
   "metadata": {},
   "outputs": [
    {
     "data": {
      "text/plain": [
       "PassengerId      0\n",
       "Survived         0\n",
       "Pclass           0\n",
       "Name             0\n",
       "Sex              0\n",
       "Age            177\n",
       "SibSp            0\n",
       "Parch            0\n",
       "Ticket           0\n",
       "Fare             0\n",
       "Cabin          687\n",
       "Embarked         2\n",
       "dtype: int64"
      ]
     },
     "execution_count": 8,
     "metadata": {},
     "output_type": "execute_result"
    }
   ],
   "source": [
    "Train.isnull().sum()"
   ]
  },
  {
   "cell_type": "markdown",
   "metadata": {},
   "source": [
    "\n",
    "### Variable - Definition                              - Key\n",
    "1. survival - Survival                                - 0/1 = No/Yes\n",
    "2. pclass   - Ticket class                            - 1,2,3 = 1st, 2nd, 3rd class\n",
    "3. sex      - Sex                                     - male, female\n",
    "4. Age      - Age in years                            - ...\n",
    "5. sibsp    - # of siblings/spouses on the Titanic    - ...\n",
    "6. parch    - # of parents/children on the Titanic    - ...\n",
    "7. ticket   - Ticket number                           - ...\n",
    "8. fare     - Passenger fare                          - ...\n",
    "9. cabin    - Cabin number                            - ...\n",
    "10. embarked - Port of Embarkation                     - C = Cherbourg, Q = Queenstown, S = Southampton\n"
   ]
  },
  {
   "cell_type": "code",
   "execution_count": 9,
   "metadata": {},
   "outputs": [],
   "source": [
    "#It can be seen that there are some features that have NaN values."
   ]
  },
  {
   "cell_type": "code",
   "execution_count": 10,
   "metadata": {},
   "outputs": [
    {
     "data": {
      "text/html": [
       "<div>\n",
       "<style scoped>\n",
       "    .dataframe tbody tr th:only-of-type {\n",
       "        vertical-align: middle;\n",
       "    }\n",
       "\n",
       "    .dataframe tbody tr th {\n",
       "        vertical-align: top;\n",
       "    }\n",
       "\n",
       "    .dataframe thead th {\n",
       "        text-align: right;\n",
       "    }\n",
       "</style>\n",
       "<table border=\"1\" class=\"dataframe\">\n",
       "  <thead>\n",
       "    <tr style=\"text-align: right;\">\n",
       "      <th></th>\n",
       "      <th>PassengerId</th>\n",
       "      <th>Survived</th>\n",
       "      <th>Pclass</th>\n",
       "      <th>Name</th>\n",
       "      <th>Sex</th>\n",
       "      <th>Age</th>\n",
       "      <th>SibSp</th>\n",
       "      <th>Parch</th>\n",
       "      <th>Ticket</th>\n",
       "      <th>Fare</th>\n",
       "      <th>Cabin</th>\n",
       "      <th>Embarked</th>\n",
       "    </tr>\n",
       "  </thead>\n",
       "  <tbody>\n",
       "    <tr>\n",
       "      <th>0</th>\n",
       "      <td>1</td>\n",
       "      <td>0</td>\n",
       "      <td>3</td>\n",
       "      <td>Braund, Mr. Owen Harris</td>\n",
       "      <td>male</td>\n",
       "      <td>22.0</td>\n",
       "      <td>1</td>\n",
       "      <td>0</td>\n",
       "      <td>A/5 21171</td>\n",
       "      <td>7.2500</td>\n",
       "      <td>NaN</td>\n",
       "      <td>S</td>\n",
       "    </tr>\n",
       "    <tr>\n",
       "      <th>1</th>\n",
       "      <td>2</td>\n",
       "      <td>1</td>\n",
       "      <td>1</td>\n",
       "      <td>Cumings, Mrs. John Bradley (Florence Briggs Th...</td>\n",
       "      <td>female</td>\n",
       "      <td>38.0</td>\n",
       "      <td>1</td>\n",
       "      <td>0</td>\n",
       "      <td>PC 17599</td>\n",
       "      <td>71.2833</td>\n",
       "      <td>C85</td>\n",
       "      <td>C</td>\n",
       "    </tr>\n",
       "    <tr>\n",
       "      <th>2</th>\n",
       "      <td>3</td>\n",
       "      <td>1</td>\n",
       "      <td>3</td>\n",
       "      <td>Heikkinen, Miss. Laina</td>\n",
       "      <td>female</td>\n",
       "      <td>26.0</td>\n",
       "      <td>0</td>\n",
       "      <td>0</td>\n",
       "      <td>STON/O2. 3101282</td>\n",
       "      <td>7.9250</td>\n",
       "      <td>NaN</td>\n",
       "      <td>S</td>\n",
       "    </tr>\n",
       "    <tr>\n",
       "      <th>3</th>\n",
       "      <td>4</td>\n",
       "      <td>1</td>\n",
       "      <td>1</td>\n",
       "      <td>Futrelle, Mrs. Jacques Heath (Lily May Peel)</td>\n",
       "      <td>female</td>\n",
       "      <td>35.0</td>\n",
       "      <td>1</td>\n",
       "      <td>0</td>\n",
       "      <td>113803</td>\n",
       "      <td>53.1000</td>\n",
       "      <td>C123</td>\n",
       "      <td>S</td>\n",
       "    </tr>\n",
       "    <tr>\n",
       "      <th>4</th>\n",
       "      <td>5</td>\n",
       "      <td>0</td>\n",
       "      <td>3</td>\n",
       "      <td>Allen, Mr. William Henry</td>\n",
       "      <td>male</td>\n",
       "      <td>35.0</td>\n",
       "      <td>0</td>\n",
       "      <td>0</td>\n",
       "      <td>373450</td>\n",
       "      <td>8.0500</td>\n",
       "      <td>NaN</td>\n",
       "      <td>S</td>\n",
       "    </tr>\n",
       "    <tr>\n",
       "      <th>5</th>\n",
       "      <td>6</td>\n",
       "      <td>0</td>\n",
       "      <td>3</td>\n",
       "      <td>Moran, Mr. James</td>\n",
       "      <td>male</td>\n",
       "      <td>NaN</td>\n",
       "      <td>0</td>\n",
       "      <td>0</td>\n",
       "      <td>330877</td>\n",
       "      <td>8.4583</td>\n",
       "      <td>NaN</td>\n",
       "      <td>Q</td>\n",
       "    </tr>\n",
       "  </tbody>\n",
       "</table>\n",
       "</div>"
      ],
      "text/plain": [
       "   PassengerId  Survived  Pclass  \\\n",
       "0            1         0       3   \n",
       "1            2         1       1   \n",
       "2            3         1       3   \n",
       "3            4         1       1   \n",
       "4            5         0       3   \n",
       "5            6         0       3   \n",
       "\n",
       "                                                Name     Sex   Age  SibSp  \\\n",
       "0                            Braund, Mr. Owen Harris    male  22.0      1   \n",
       "1  Cumings, Mrs. John Bradley (Florence Briggs Th...  female  38.0      1   \n",
       "2                             Heikkinen, Miss. Laina  female  26.0      0   \n",
       "3       Futrelle, Mrs. Jacques Heath (Lily May Peel)  female  35.0      1   \n",
       "4                           Allen, Mr. William Henry    male  35.0      0   \n",
       "5                                   Moran, Mr. James    male   NaN      0   \n",
       "\n",
       "   Parch            Ticket     Fare Cabin Embarked  \n",
       "0      0         A/5 21171   7.2500   NaN        S  \n",
       "1      0          PC 17599  71.2833   C85        C  \n",
       "2      0  STON/O2. 3101282   7.9250   NaN        S  \n",
       "3      0            113803  53.1000  C123        S  \n",
       "4      0            373450   8.0500   NaN        S  \n",
       "5      0            330877   8.4583   NaN        Q  "
      ]
     },
     "execution_count": 10,
     "metadata": {},
     "output_type": "execute_result"
    }
   ],
   "source": [
    "Train.head(6)"
   ]
  },
  {
   "cell_type": "code",
   "execution_count": 11,
   "metadata": {},
   "outputs": [
    {
     "name": "stdout",
     "output_type": "stream",
     "text": [
      "38.38% Survived\n",
      "61.62% Died\n"
     ]
    }
   ],
   "source": [
    "sur = Train[\"Survived\"].value_counts() / len(Train)\n",
    "print(\"{:.2f}% Survived\\n{:.2f}% Died\".format(100*sur[1],100*sur[0]))"
   ]
  },
  {
   "cell_type": "code",
   "execution_count": 12,
   "metadata": {},
   "outputs": [
    {
     "data": {
      "text/plain": [
       "Survived       1.000000\n",
       "Fare           0.257307\n",
       "Parch          0.081629\n",
       "PassengerId   -0.005007\n",
       "SibSp         -0.035322\n",
       "Age           -0.077221\n",
       "Pclass        -0.338481\n",
       "Name: Survived, dtype: float64"
      ]
     },
     "execution_count": 12,
     "metadata": {},
     "output_type": "execute_result"
    }
   ],
   "source": [
    "#Correlation matrix (numeric features)\n",
    "corr_matrix = Train.corr()\n",
    "corr_matrix[\"Survived\"].sort_values(ascending=False)"
   ]
  },
  {
   "cell_type": "code",
   "execution_count": 13,
   "metadata": {},
   "outputs": [
    {
     "name": "stderr",
     "output_type": "stream",
     "text": [
      "/anaconda3/lib/python3.7/site-packages/pandas/core/frame.py:6211: FutureWarning: Sorting because non-concatenation axis is not aligned. A future version\n",
      "of pandas will change to not sort by default.\n",
      "\n",
      "To accept the future behavior, pass 'sort=False'.\n",
      "\n",
      "To retain the current behavior and silence the warning, pass 'sort=True'.\n",
      "\n",
      "  sort=sort)\n"
     ]
    },
    {
     "data": {
      "text/plain": [
       "Age              0\n",
       "Cabin            0\n",
       "Embarked         0\n",
       "Fare             0\n",
       "Name             0\n",
       "Parch            0\n",
       "PassengerId      0\n",
       "Pclass           0\n",
       "Sex              0\n",
       "SibSp            0\n",
       "Survived       418\n",
       "Ticket           0\n",
       "Title            0\n",
       "dtype: int64"
      ]
     },
     "execution_count": 13,
     "metadata": {},
     "output_type": "execute_result"
    }
   ],
   "source": [
    "#Full Titanic dataset analysis:\n",
    "titanic = Train.append(Test, ignore_index=True)\n",
    "\n",
    "#Age: fill\n",
    "titanic[\"Age\"] = titanic[\"Age\"].fillna(titanic[\"Fare\"].median())\n",
    "\n",
    "#Cabin:\n",
    "titanic[\"Cabin\"] = titanic[\"Cabin\"].fillna('U')\n",
    "titanic[\"Cabin\"] = titanic[\"Cabin\"].map(lambda x: x[0])\n",
    "\n",
    "#Embarked: fill\n",
    "most_embarked = titanic[\"Embarked\"].value_counts().index[0]\n",
    "titanic[\"Embarked\"] = titanic[\"Embarked\"].fillna(most_embarked)\n",
    "\n",
    "#Fare: fill \n",
    "titanic[\"Fare\"] = titanic[\"Fare\"].fillna(titanic[\"Fare\"].median())\n",
    "\n",
    "#Name:\n",
    "form_name = lambda x: x.split(',')[1].split('.')[0].strip()\n",
    "titanic[\"Title\"] = titanic[\"Name\"].map(form_name)\n",
    "\n",
    "titanic[\"Title\"] = titanic[\"Title\"].replace(['Don', \n",
    "        'Rev', 'Dr', 'Mme', 'Major', 'Lady', \n",
    "        'Sir', 'Mlle', 'Col', 'Capt', 'the Countess',\n",
    "        'Jonkheer', 'Dona'], 'Rare')\n",
    "\n",
    "titanic[\"Title\"] = titanic[\"Title\"].replace(['Mrs',\n",
    "        'Miss', 'Ms'], 'Girls/Women')\n",
    "\n",
    "titanic[\"Title\"] = titanic[\"Title\"].replace(['Master'],\n",
    "        'Boys')\n",
    "\n",
    "titanic[\"Title\"] = titanic[\"Title\"].replace(['Mr'],\n",
    "        'Men')\n",
    "\n",
    "titanic.isnull().sum()\n"
   ]
  },
  {
   "cell_type": "code",
   "execution_count": 14,
   "metadata": {},
   "outputs": [
    {
     "name": "stderr",
     "output_type": "stream",
     "text": [
      "/anaconda3/lib/python3.7/site-packages/scipy/stats/stats.py:1713: FutureWarning: Using a non-tuple sequence for multidimensional indexing is deprecated; use `arr[tuple(seq)]` instead of `arr[seq]`. In the future this will be interpreted as an array index, `arr[np.array(seq)]`, which will result either in an error or a different result.\n",
      "  return np.add.reduce(sorted[indexer] * weights, axis=axis) / sumval\n"
     ]
    },
    {
     "data": {
      "image/png": "[encoded data removed]",
      "text/plain": [
       "<Figure size 432x288 with 1 Axes>"
      ]
     },
     "metadata": {
      "needs_background": "light"
     },
     "output_type": "display_data"
    }
   ],
   "source": [
    "#Pclass\n",
    "\n",
    "fig = sns.barplot(x=\"Pclass\",y=\"Survived\",data=Train)\n",
    "fig = fig.set(xlabel=\"Pclass\", ylabel=\"Survival Probability\")\n",
    "fig = plt.title(\"Survival probability of passanger ticket class\")\n"
   ]
  },
  {
   "cell_type": "code",
   "execution_count": 15,
   "metadata": {},
   "outputs": [
    {
     "data": {
      "image/png": "[encoded data removed]",
      "text/plain": [
       "<Figure size 432x288 with 1 Axes>"
      ]
     },
     "metadata": {
      "needs_background": "light"
     },
     "output_type": "display_data"
    }
   ],
   "source": [
    "#Pclass w/ Sex\n",
    "\n",
    "fig = sns.barplot(x=\"Pclass\",y=\"Survived\", hue=\"Sex\", data=Train)\n",
    "fig = fig.set(xlabel=\"Pclass\", ylabel=\"Survival Probability\")\n",
    "fig = plt.title(\"Survival probability of passanger ticket class (w/ Sex)\")\n"
   ]
  },
  {
   "cell_type": "code",
   "execution_count": 16,
   "metadata": {},
   "outputs": [
    {
     "data": {
      "image/png": "[encoded data removed]",
      "text/plain": [
       "<Figure size 432x288 with 1 Axes>"
      ]
     },
     "metadata": {
      "needs_background": "light"
     },
     "output_type": "display_data"
    }
   ],
   "source": [
    "#Sex\n",
    "fig = sns.barplot(x=\"Sex\",y=\"Survived\",data=Train)\n",
    "fig = fig.set(xlabel=\"Sex\", ylabel=\"Survival Probability\")\n",
    "fig = plt.title(\"Survival probability of passanger's Sex\")\n"
   ]
  },
  {
   "cell_type": "code",
   "execution_count": 17,
   "metadata": {},
   "outputs": [
    {
     "data": {
      "image/png": "[encoded data removed]",
      "text/plain": [
       "<Figure size 432x216 with 2 Axes>"
      ]
     },
     "metadata": {
      "needs_background": "light"
     },
     "output_type": "display_data"
    }
   ],
   "source": [
    "#Age\n",
    "\n",
    "d = {'color': ['r', 'g']}   \n",
    "fig = sns.FacetGrid(Train, col='Survived',  hue_kws=d, hue='Survived')\n",
    "fig = fig.map(sns.distplot, \"Age\")   \n",
    "\n",
    "fig = fig.set(xlabel=\"Age\", ylabel=\"Survival Probability\")"
   ]
  },
  {
   "cell_type": "code",
   "execution_count": 18,
   "metadata": {},
   "outputs": [
    {
     "data": {
      "image/png": "[encoded data removed]",
      "text/plain": [
       "<Figure size 432x288 with 1 Axes>"
      ]
     },
     "metadata": {
      "needs_background": "light"
     },
     "output_type": "display_data"
    }
   ],
   "source": [
    "#SibSp\n",
    "\n",
    "fig = sns.barplot(x=\"SibSp\",y=\"Survived\",data=Train)\n",
    "fig = fig.set(xlabel=\"SibSp\", ylabel=\"Survival Probability\")\n",
    "fig = plt.title(\"Survival probability for number of Siblings/Spouses of passenger\")\n"
   ]
  },
  {
   "cell_type": "code",
   "execution_count": 19,
   "metadata": {},
   "outputs": [
    {
     "data": {
      "image/png": "[encoded data removed]",
      "text/plain": [
       "<Figure size 432x288 with 1 Axes>"
      ]
     },
     "metadata": {
      "needs_background": "light"
     },
     "output_type": "display_data"
    }
   ],
   "source": [
    "#Parch\n",
    "\n",
    "fig = sns.barplot(x=\"Parch\",y=\"Survived\",data=Train)\n",
    "fig = fig.set(xlabel=\"Parch\", ylabel=\"Survival Probability\")\n",
    "fig = plt.title(\"Survival probability for number of Parents/Children of passenger\")\n"
   ]
  },
  {
   "cell_type": "code",
   "execution_count": 20,
   "metadata": {},
   "outputs": [
    {
     "data": {
      "image/png": "[encoded data removed]",
      "text/plain": [
       "<Figure size 432x216 with 2 Axes>"
      ]
     },
     "metadata": {
      "needs_background": "light"
     },
     "output_type": "display_data"
    }
   ],
   "source": [
    "#Fare\n",
    "\n",
    "d = {'color': ['r', 'g']}   \n",
    "fig = sns.FacetGrid(Train, col='Survived',  hue_kws=d, hue='Survived')\n",
    "fig = fig.map(sns.distplot, \"Fare\")   \n",
    "\n",
    "fig = fig.set(xlabel=\"Fare\", ylabel=\"Survival Probability\")"
   ]
  },
  {
   "cell_type": "code",
   "execution_count": 21,
   "metadata": {},
   "outputs": [
    {
     "data": {
      "image/png": "[encoded data removed]",
      "text/plain": [
       "<Figure size 432x288 with 1 Axes>"
      ]
     },
     "metadata": {
      "needs_background": "light"
     },
     "output_type": "display_data"
    }
   ],
   "source": [
    "#Cabin\n",
    "fig = sns.countplot(x=\"Cabin\",data=titanic)\n",
    "fig = plt.setp(fig.get_xticklabels(), rotation=80) \n",
    "fig = plt.title(\"Count of cabin prefix (whole titanic)\")"
   ]
  },
  {
   "cell_type": "code",
   "execution_count": 22,
   "metadata": {},
   "outputs": [
    {
     "name": "stderr",
     "output_type": "stream",
     "text": [
      "/anaconda3/lib/python3.7/site-packages/seaborn/categorical.py:3666: UserWarning: The `factorplot` function has been renamed to `catplot`. The original name will be removed in a future release. Please update your code. Note that the default `kind` in `factorplot` (`'point'`) has changed `'strip'` in `catplot`.\n",
      "  warnings.warn(msg)\n"
     ]
    },
    {
     "data": {
      "image/png": "[encoded data removed]",
      "text/plain": [
       "<Figure size 360x360 with 1 Axes>"
      ]
     },
     "metadata": {
      "needs_background": "light"
     },
     "output_type": "display_data"
    }
   ],
   "source": [
    "order_cabin = ['A','B','C','D','E','F','G','T','U']\n",
    "fig = sns.factorplot(x=\"Cabin\", y=\"Survived\", data=titanic,\n",
    "                    kind=\"bar\", order=order_cabin)\n",
    "fig = plt.title(\"Survival Probability of cabin prefix\")\n"
   ]
  },
  {
   "cell_type": "code",
   "execution_count": 23,
   "metadata": {},
   "outputs": [
    {
     "data": {
      "image/png": "[encoded data removed]",
      "text/plain": [
       "<Figure size 432x288 with 1 Axes>"
      ]
     },
     "metadata": {
      "needs_background": "light"
     },
     "output_type": "display_data"
    }
   ],
   "source": [
    "#Embarked\n",
    "\n",
    "fig = sns.barplot(x=\"Embarked\",y=\"Survived\",data=Train)\n",
    "fig = fig.set(xlabel=\"Embarked\", ylabel=\"Survival Probability\")\n",
    "fig = plt.title(\"Survival probability of passanger port of embarkation \")\n"
   ]
  },
  {
   "cell_type": "code",
   "execution_count": 24,
   "metadata": {},
   "outputs": [
    {
     "name": "stderr",
     "output_type": "stream",
     "text": [
      "/anaconda3/lib/python3.7/site-packages/ipykernel_launcher.py:2: FutureWarning: Sorting because non-concatenation axis is not aligned. A future version\n",
      "of pandas will change to not sort by default.\n",
      "\n",
      "To accept the future behavior, pass 'sort=False'.\n",
      "\n",
      "To retain the current behavior and silence the warning, pass 'sort=True'.\n",
      "\n",
      "  \n"
     ]
    },
    {
     "data": {
      "text/plain": [
       "array(['Mr', 'Mrs', 'Miss', 'Master', 'Don', 'Rev', 'Dr', 'Mme', 'Ms',\n",
       "       'Major', 'Lady', 'Sir', 'Mlle', 'Col', 'Capt', 'the Countess',\n",
       "       'Jonkheer', 'Dona'], dtype=object)"
      ]
     },
     "execution_count": 24,
     "metadata": {},
     "output_type": "execute_result"
    }
   ],
   "source": [
    "#feature eng:\n",
    "Full_set = pd.concat(objs=[Train, Test], axis=0).reset_index(drop=True)\n",
    "\n",
    "#Name: f_name, honorifics. sur_name\n",
    "honorifics = [i.split(\",\")[1].split(\".\")[0].strip() for i in Full_set[\"Name\"]]\n",
    "Full_set[\"Title\"] = pd.Series(honorifics)\n",
    "Full_set.Title.unique()"
   ]
  },
  {
   "cell_type": "code",
   "execution_count": 25,
   "metadata": {},
   "outputs": [
    {
     "data": {
      "image/png": "[encoded data removed]",
      "text/plain": [
       "<Figure size 432x288 with 1 Axes>"
      ]
     },
     "metadata": {
      "needs_background": "light"
     },
     "output_type": "display_data"
    }
   ],
   "source": [
    "fig = sns.countplot(x=\"Title\",data=Full_set)\n",
    "fig = plt.setp(fig.get_xticklabels(), rotation=80) \n",
    "fig = plt.title(\"Count of honorifics (whole titanic)\")\n"
   ]
  },
  {
   "cell_type": "code",
   "execution_count": 26,
   "metadata": {},
   "outputs": [
    {
     "data": {
      "image/png": "[encoded data removed]",
      "text/plain": [
       "<Figure size 432x288 with 1 Axes>"
      ]
     },
     "metadata": {
      "needs_background": "light"
     },
     "output_type": "display_data"
    }
   ],
   "source": [
    "fig = sns.barplot(x=\"Title\",y=\"Survived\",data=titanic)\n",
    "fig = fig.set(xlabel=\"Honorific Title\", ylabel=\"Survival Probability\")\n",
    "fig = plt.title(\"Survival probability for honorific titles\")"
   ]
  },
  {
   "cell_type": "code",
   "execution_count": 27,
   "metadata": {},
   "outputs": [
    {
     "data": {
      "image/png": "[encoded data removed]",
      "text/plain": [
       "<Figure size 432x288 with 1 Axes>"
      ]
     },
     "metadata": {
      "needs_background": "light"
     },
     "output_type": "display_data"
    }
   ],
   "source": [
    "#Family size\n",
    "\n",
    "Full_set[\"Fam_size\"] = Full_set[\"SibSp\"] + Full_set[\"Parch\"] + 1\n",
    "\n",
    "fig = sns.barplot(x=\"Fam_size\",y=\"Survived\", data=Full_set)\n",
    "fig = fig.set(xlabel=\"Fam_size\", ylabel=\"Survival Probability\")\n",
    "fig = plt.title(\"Survival probability for family size\")"
   ]
  },
  {
   "cell_type": "code",
   "execution_count": 28,
   "metadata": {},
   "outputs": [
    {
     "name": "stderr",
     "output_type": "stream",
     "text": [
      "/anaconda3/lib/python3.7/site-packages/pandas/core/indexing.py:189: SettingWithCopyWarning: \n",
      "A value is trying to be set on a copy of a slice from a DataFrame\n",
      "\n",
      "See the caveats in the documentation: http://pandas.pydata.org/pandas-docs/stable/indexing.html#indexing-view-versus-copy\n",
      "  self._setitem_with_indexer(indexer, value)\n"
     ]
    },
    {
     "data": {
      "image/png": "[encoded data removed]",
      "text/plain": [
       "<Figure size 432x288 with 1 Axes>"
      ]
     },
     "metadata": {
      "needs_background": "light"
     },
     "output_type": "display_data"
    }
   ],
   "source": [
    "#Alone\n",
    "Full_set[\"Alone\"] = 1\n",
    "Full_set[\"Alone\"].loc[Full_set['Fam_size'] > 1] = 0\n",
    "\n",
    "fig = sns.barplot(x=\"Alone\",y=\"Survived\", data=Full_set)\n",
    "fig = fig.set(xlabel=\"Alone\", ylabel=\"Survival Probability\")\n",
    "fig = plt.title(\"Survival probability for alone passangers\")"
   ]
  },
  {
   "cell_type": "code",
   "execution_count": 29,
   "metadata": {},
   "outputs": [
    {
     "data": {
      "text/plain": [
       "(891, 12)"
      ]
     },
     "execution_count": 29,
     "metadata": {},
     "output_type": "execute_result"
    }
   ],
   "source": [
    "Train.shape"
   ]
  },
  {
   "cell_type": "code",
   "execution_count": 30,
   "metadata": {},
   "outputs": [
    {
     "name": "stdout",
     "output_type": "stream",
     "text": [
      "<class 'pandas.core.frame.DataFrame'>\n",
      "RangeIndex: 891 entries, 0 to 890\n",
      "Data columns (total 11 columns):\n",
      "PassengerId    891 non-null int64\n",
      "Pclass         891 non-null int64\n",
      "Name           891 non-null object\n",
      "Sex            891 non-null object\n",
      "Age            714 non-null float64\n",
      "SibSp          891 non-null int64\n",
      "Parch          891 non-null int64\n",
      "Ticket         891 non-null object\n",
      "Fare           891 non-null float64\n",
      "Cabin          204 non-null object\n",
      "Embarked       889 non-null object\n",
      "dtypes: float64(2), int64(4), object(5)\n",
      "memory usage: 76.6+ KB\n"
     ]
    }
   ],
   "source": [
    "#Separtate labels from features\n",
    "y_train = Train[\"Survived\"].copy()\n",
    "X_tr = Train.drop(\"Survived\", axis=1)\n",
    "X_tr.info()"
   ]
  },
  {
   "cell_type": "code",
   "execution_count": 31,
   "metadata": {},
   "outputs": [
    {
     "name": "stdout",
     "output_type": "stream",
     "text": [
      "list_num: ['Fare', 'PassengerId', 'SibSp', 'Age', 'Parch', 'Fam_size', 'Alone', 'A', 'B', 'C', 'D', 'E', 'F', 'G', 'T', 'U']\n",
      "list_cat: ['Sex', 'Embarked', 'Title', 'Pclass']\n",
      "list_add: ['Sex', 'Fare', 'PassengerId', 'SibSp', 'Embarked', 'Age', 'Name', 'Parch', 'Cabin', 'Pclass']\n"
     ]
    }
   ],
   "source": [
    "#Remove Features (survived is already removed)\n",
    "list_drop = ['Name', 'Ticket', 'Pclass', 'Cabin']\n",
    "list_excl = ['Ticket'] \n",
    "\n",
    "add_fam_feat = True\n",
    "add_alone = True \n",
    "add_title = True\n",
    "fix_cabin = True\n",
    "    \n",
    "Dropped = X_tr[list(set(X_tr.columns) - set(list_drop))]\n",
    "\n",
    "#Numeric Features\n",
    "list_num = Dropped.select_dtypes(include = [\"number\"]).columns\n",
    "\n",
    "#Catagorical Features (to be transformed into OHE)\n",
    "list_cat = Dropped.select_dtypes(include = [\"object\"]).columns\n",
    "\n",
    "list_add = X_tr[list(set(X_tr.columns) - set(list_excl))].columns\n",
    "\n",
    "\n",
    "if add_fam_feat:\n",
    "    list_num = list_num.insert(len(list_num)+ 1,'Fam_size')\n",
    "    \n",
    "if add_alone:\n",
    "    list_num = list_num.insert(len(list_num)+1,'Alone')    \n",
    "    \n",
    "if add_title:\n",
    "    list_cat = list_cat.insert(len(list_num)+1,'Title')\n",
    "    \n",
    "if fix_cabin:\n",
    "    new_cabin = 'A', 'B', 'C', 'D', 'E', 'F', 'G', 'T', 'U'\n",
    "    for i in new_cabin:\n",
    "        list_num = list_num.insert(len(list_num)+1, i)\n",
    "    \n",
    "    \n",
    "    \n",
    "list_cat = list_cat.insert(len(list_num)+1,'Pclass')\n",
    "\n",
    "print('list_num: {}'.format(list(list_num)))\n",
    "print('list_cat: {}'.format(list(list_cat)))\n",
    "print('list_add: {}'.format(list(list_add)))"
   ]
  },
  {
   "cell_type": "code",
   "execution_count": 32,
   "metadata": {},
   "outputs": [],
   "source": [
    "class Selector(BaseEstimator, TransformerMixin):\n",
    "    def __init__(self, feature_names):\n",
    "        self.feature_names = feature_names\n",
    "        \n",
    "    def fit(self, X, y=None):\n",
    "        return(self)\n",
    "    \n",
    "    def transform(self, X):\n",
    "        return X[self.feature_names].values\n",
    "    \n",
    "    \n",
    "    \n",
    "class add_features(BaseEstimator, TransformerMixin):\n",
    "    def __init__(self, added_feat, add_fam=True, \n",
    "                 add_alone=True, add_title=True,\n",
    "                 fix_cabin = True):\n",
    "        \n",
    "        self.added_feat = added_feat\n",
    "        self.add_fam = add_fam\n",
    "        self.add_alone = add_alone\n",
    "        self.add_title = add_title\n",
    "        self.fix_cabin = fix_cabin\n",
    "   \n",
    "\n",
    "    def fit(self, X, y=None):\n",
    "        return(self)\n",
    "\n",
    "    \n",
    "    def transform(self, X):  \n",
    "        df = X[self.added_feat]\n",
    "        \n",
    "        if self.fix_cabin:\n",
    "            df[\"Cabin\"] = df[\"Cabin\"].fillna('U')\n",
    "            df[\"Cabin\"] = df[\"Cabin\"].map(lambda x: x[0])\n",
    "            \n",
    "            for i in ('A', 'B', 'C', 'D', 'E', 'F', 'G', 'T', 'U'):\n",
    "                df[i] = 0\n",
    "                df[i].loc[df[\"Cabin\"] == i] = 1\n",
    "            \n",
    "            df.drop(labels=[\"Cabin\"], axis = 1, \n",
    "                   inplace = True)\n",
    "            \n",
    "            \n",
    "        if self.add_fam:\n",
    "            df[\"Fam_size\"] = df.loc[:,\"SibSp\"] + df.loc[:,\"Parch\"] + 1\n",
    "            \n",
    "        if self.add_alone:\n",
    "            df[\"Alone\"] = 0\n",
    "            df[\"Alone\"].loc[(df[\"SibSp\"]==0) & \n",
    "                           (df[\"Parch\"]==0)] = 1\n",
    "            \n",
    "        if self.add_title:\n",
    "            honorifics = [i.split(\",\")[1].split(\".\")[0].\n",
    "                          strip() for i in df[\"Name\"]]\n",
    "            \n",
    "            df[\"Title\"] = pd.Series(honorifics)\n",
    "            \n",
    "            df[\"Title\"] = df.loc[:,\"Title\"].replace(\n",
    "                ['Don', 'Rev', 'Dr', 'Mme', 'Major', \n",
    "                 'Lady', 'Sir', 'Mlle', 'Col', 'Capt', \n",
    "                 'the Countess', 'Jonkheer', 'Dona'],\n",
    "                 'Rare')\n",
    "\n",
    "            df[\"Title\"] = df.loc[:,\"Title\"].replace(\n",
    "                ['Mrs','Miss','Ms'], 'Girls/Women')\n",
    "\n",
    "            df[\"Title\"] = df.loc[:,\"Title\"].replace(\n",
    "                ['Master'], 'Boys')\n",
    "\n",
    "            df[\"Title\"] = df.loc[:,\"Title\"].replace(\n",
    "                ['Mr'], 'Men') \n",
    "            \n",
    "            df.drop(labels=[\"Name\"], axis = 1, \n",
    "                   inplace = True)\n",
    "\n",
    "        return df "
   ]
  },
  {
   "cell_type": "code",
   "execution_count": 33,
   "metadata": {},
   "outputs": [],
   "source": [
    "#Add Features\n",
    "add_pipeline = Pipeline([\n",
    "    ('add_feat', add_features(list_add))\n",
    "])\n",
    "\n",
    "#Numeric Transformations\n",
    "num_pipeline = Pipeline([\n",
    "    ('selector', Selector(list_num)),\n",
    "    ('imputer', SimpleImputer(strategy=\"median\")),\n",
    "    ('std_scaler', StandardScaler())\n",
    "])\n",
    "\n",
    "#Catagorical Transformations\n",
    "cat_pipeline = Pipeline([\n",
    "    ('selector', Selector(list_cat)),\n",
    "    ('imputer', SimpleImputer(strategy=\"most_frequent\")),\n",
    "    ('cat_encoder', OneHotEncoder(sparse=False)),\n",
    "])"
   ]
  },
  {
   "cell_type": "code",
   "execution_count": 34,
   "metadata": {},
   "outputs": [
    {
     "name": "stderr",
     "output_type": "stream",
     "text": [
      "/anaconda3/lib/python3.7/site-packages/ipykernel_launcher.py:33: SettingWithCopyWarning: \n",
      "A value is trying to be set on a copy of a slice from a DataFrame.\n",
      "Try using .loc[row_indexer,col_indexer] = value instead\n",
      "\n",
      "See the caveats in the documentation: http://pandas.pydata.org/pandas-docs/stable/indexing.html#indexing-view-versus-copy\n",
      "/anaconda3/lib/python3.7/site-packages/ipykernel_launcher.py:34: SettingWithCopyWarning: \n",
      "A value is trying to be set on a copy of a slice from a DataFrame.\n",
      "Try using .loc[row_indexer,col_indexer] = value instead\n",
      "\n",
      "See the caveats in the documentation: http://pandas.pydata.org/pandas-docs/stable/indexing.html#indexing-view-versus-copy\n"
     ]
    }
   ],
   "source": [
    "a = add_pipeline.fit_transform(X_tr)\n",
    "b = add_pipeline.fit_transform(Test)"
   ]
  },
  {
   "cell_type": "code",
   "execution_count": 35,
   "metadata": {},
   "outputs": [
    {
     "name": "stdout",
     "output_type": "stream",
     "text": [
      "Transformed Dataframe: ['Sex', 'Fare', 'PassengerId', 'SibSp', 'Embarked', 'Age', 'Parch', 'Pclass', 'A', 'B', 'C', 'D', 'E', 'F', 'G', 'T', 'U', 'Fam_size', 'Alone', 'Title']\n"
     ]
    }
   ],
   "source": [
    "print('Transformed Dataframe: {}'.format(list(a.columns)))"
   ]
  },
  {
   "cell_type": "code",
   "execution_count": 36,
   "metadata": {},
   "outputs": [
    {
     "data": {
      "text/html": [
       "<div>\n",
       "<style scoped>\n",
       "    .dataframe tbody tr th:only-of-type {\n",
       "        vertical-align: middle;\n",
       "    }\n",
       "\n",
       "    .dataframe tbody tr th {\n",
       "        vertical-align: top;\n",
       "    }\n",
       "\n",
       "    .dataframe thead th {\n",
       "        text-align: right;\n",
       "    }\n",
       "</style>\n",
       "<table border=\"1\" class=\"dataframe\">\n",
       "  <thead>\n",
       "    <tr style=\"text-align: right;\">\n",
       "      <th></th>\n",
       "      <th>Sex</th>\n",
       "      <th>Fare</th>\n",
       "      <th>PassengerId</th>\n",
       "      <th>SibSp</th>\n",
       "      <th>Embarked</th>\n",
       "      <th>Age</th>\n",
       "      <th>Parch</th>\n",
       "      <th>Pclass</th>\n",
       "      <th>A</th>\n",
       "      <th>B</th>\n",
       "      <th>C</th>\n",
       "      <th>D</th>\n",
       "      <th>E</th>\n",
       "      <th>F</th>\n",
       "      <th>G</th>\n",
       "      <th>T</th>\n",
       "      <th>U</th>\n",
       "      <th>Fam_size</th>\n",
       "      <th>Alone</th>\n",
       "      <th>Title</th>\n",
       "    </tr>\n",
       "  </thead>\n",
       "  <tbody>\n",
       "    <tr>\n",
       "      <th>0</th>\n",
       "      <td>male</td>\n",
       "      <td>7.2500</td>\n",
       "      <td>1</td>\n",
       "      <td>1</td>\n",
       "      <td>S</td>\n",
       "      <td>22.0</td>\n",
       "      <td>0</td>\n",
       "      <td>3</td>\n",
       "      <td>0</td>\n",
       "      <td>0</td>\n",
       "      <td>0</td>\n",
       "      <td>0</td>\n",
       "      <td>0</td>\n",
       "      <td>0</td>\n",
       "      <td>0</td>\n",
       "      <td>0</td>\n",
       "      <td>1</td>\n",
       "      <td>2</td>\n",
       "      <td>0</td>\n",
       "      <td>Men</td>\n",
       "    </tr>\n",
       "    <tr>\n",
       "      <th>1</th>\n",
       "      <td>female</td>\n",
       "      <td>71.2833</td>\n",
       "      <td>2</td>\n",
       "      <td>1</td>\n",
       "      <td>C</td>\n",
       "      <td>38.0</td>\n",
       "      <td>0</td>\n",
       "      <td>1</td>\n",
       "      <td>0</td>\n",
       "      <td>0</td>\n",
       "      <td>1</td>\n",
       "      <td>0</td>\n",
       "      <td>0</td>\n",
       "      <td>0</td>\n",
       "      <td>0</td>\n",
       "      <td>0</td>\n",
       "      <td>0</td>\n",
       "      <td>2</td>\n",
       "      <td>0</td>\n",
       "      <td>Girls/Women</td>\n",
       "    </tr>\n",
       "    <tr>\n",
       "      <th>2</th>\n",
       "      <td>female</td>\n",
       "      <td>7.9250</td>\n",
       "      <td>3</td>\n",
       "      <td>0</td>\n",
       "      <td>S</td>\n",
       "      <td>26.0</td>\n",
       "      <td>0</td>\n",
       "      <td>3</td>\n",
       "      <td>0</td>\n",
       "      <td>0</td>\n",
       "      <td>0</td>\n",
       "      <td>0</td>\n",
       "      <td>0</td>\n",
       "      <td>0</td>\n",
       "      <td>0</td>\n",
       "      <td>0</td>\n",
       "      <td>1</td>\n",
       "      <td>1</td>\n",
       "      <td>1</td>\n",
       "      <td>Girls/Women</td>\n",
       "    </tr>\n",
       "    <tr>\n",
       "      <th>3</th>\n",
       "      <td>female</td>\n",
       "      <td>53.1000</td>\n",
       "      <td>4</td>\n",
       "      <td>1</td>\n",
       "      <td>S</td>\n",
       "      <td>35.0</td>\n",
       "      <td>0</td>\n",
       "      <td>1</td>\n",
       "      <td>0</td>\n",
       "      <td>0</td>\n",
       "      <td>1</td>\n",
       "      <td>0</td>\n",
       "      <td>0</td>\n",
       "      <td>0</td>\n",
       "      <td>0</td>\n",
       "      <td>0</td>\n",
       "      <td>0</td>\n",
       "      <td>2</td>\n",
       "      <td>0</td>\n",
       "      <td>Girls/Women</td>\n",
       "    </tr>\n",
       "    <tr>\n",
       "      <th>4</th>\n",
       "      <td>male</td>\n",
       "      <td>8.0500</td>\n",
       "      <td>5</td>\n",
       "      <td>0</td>\n",
       "      <td>S</td>\n",
       "      <td>35.0</td>\n",
       "      <td>0</td>\n",
       "      <td>3</td>\n",
       "      <td>0</td>\n",
       "      <td>0</td>\n",
       "      <td>0</td>\n",
       "      <td>0</td>\n",
       "      <td>0</td>\n",
       "      <td>0</td>\n",
       "      <td>0</td>\n",
       "      <td>0</td>\n",
       "      <td>1</td>\n",
       "      <td>1</td>\n",
       "      <td>1</td>\n",
       "      <td>Men</td>\n",
       "    </tr>\n",
       "  </tbody>\n",
       "</table>\n",
       "</div>"
      ],
      "text/plain": [
       "      Sex     Fare  PassengerId  SibSp Embarked   Age  Parch  Pclass  A  B  C  \\\n",
       "0    male   7.2500            1      1        S  22.0      0       3  0  0  0   \n",
       "1  female  71.2833            2      1        C  38.0      0       1  0  0  1   \n",
       "2  female   7.9250            3      0        S  26.0      0       3  0  0  0   \n",
       "3  female  53.1000            4      1        S  35.0      0       1  0  0  1   \n",
       "4    male   8.0500            5      0        S  35.0      0       3  0  0  0   \n",
       "\n",
       "   D  E  F  G  T  U  Fam_size  Alone        Title  \n",
       "0  0  0  0  0  0  1         2      0          Men  \n",
       "1  0  0  0  0  0  0         2      0  Girls/Women  \n",
       "2  0  0  0  0  0  1         1      1  Girls/Women  \n",
       "3  0  0  0  0  0  0         2      0  Girls/Women  \n",
       "4  0  0  0  0  0  1         1      1          Men  "
      ]
     },
     "execution_count": 36,
     "metadata": {},
     "output_type": "execute_result"
    }
   ],
   "source": [
    "a.head(5)"
   ]
  },
  {
   "cell_type": "code",
   "execution_count": 37,
   "metadata": {},
   "outputs": [
    {
     "name": "stdout",
     "output_type": "stream",
     "text": [
      "<class 'pandas.core.frame.DataFrame'>\n",
      "RangeIndex: 891 entries, 0 to 890\n",
      "Data columns (total 20 columns):\n",
      "Sex            891 non-null object\n",
      "Fare           891 non-null float64\n",
      "PassengerId    891 non-null int64\n",
      "SibSp          891 non-null int64\n",
      "Embarked       889 non-null object\n",
      "Age            714 non-null float64\n",
      "Parch          891 non-null int64\n",
      "Pclass         891 non-null int64\n",
      "A              891 non-null int64\n",
      "B              891 non-null int64\n",
      "C              891 non-null int64\n",
      "D              891 non-null int64\n",
      "E              891 non-null int64\n",
      "F              891 non-null int64\n",
      "G              891 non-null int64\n",
      "T              891 non-null int64\n",
      "U              891 non-null int64\n",
      "Fam_size       891 non-null int64\n",
      "Alone          891 non-null int64\n",
      "Title          891 non-null object\n",
      "dtypes: float64(2), int64(15), object(3)\n",
      "memory usage: 139.3+ KB\n"
     ]
    }
   ],
   "source": [
    "a.info()"
   ]
  },
  {
   "cell_type": "code",
   "execution_count": 38,
   "metadata": {},
   "outputs": [
    {
     "name": "stdout",
     "output_type": "stream",
     "text": [
      "<class 'pandas.core.frame.DataFrame'>\n",
      "RangeIndex: 418 entries, 0 to 417\n",
      "Data columns (total 20 columns):\n",
      "Sex            418 non-null object\n",
      "Fare           417 non-null float64\n",
      "PassengerId    418 non-null int64\n",
      "SibSp          418 non-null int64\n",
      "Embarked       418 non-null object\n",
      "Age            332 non-null float64\n",
      "Parch          418 non-null int64\n",
      "Pclass         418 non-null int64\n",
      "A              418 non-null int64\n",
      "B              418 non-null int64\n",
      "C              418 non-null int64\n",
      "D              418 non-null int64\n",
      "E              418 non-null int64\n",
      "F              418 non-null int64\n",
      "G              418 non-null int64\n",
      "T              418 non-null int64\n",
      "U              418 non-null int64\n",
      "Fam_size       418 non-null int64\n",
      "Alone          418 non-null int64\n",
      "Title          418 non-null object\n",
      "dtypes: float64(2), int64(15), object(3)\n",
      "memory usage: 65.4+ KB\n"
     ]
    }
   ],
   "source": [
    "b.info()"
   ]
  },
  {
   "cell_type": "code",
   "execution_count": 39,
   "metadata": {},
   "outputs": [
    {
     "name": "stderr",
     "output_type": "stream",
     "text": [
      "/anaconda3/lib/python3.7/site-packages/ipykernel_launcher.py:33: SettingWithCopyWarning: \n",
      "A value is trying to be set on a copy of a slice from a DataFrame.\n",
      "Try using .loc[row_indexer,col_indexer] = value instead\n",
      "\n",
      "See the caveats in the documentation: http://pandas.pydata.org/pandas-docs/stable/indexing.html#indexing-view-versus-copy\n",
      "/anaconda3/lib/python3.7/site-packages/ipykernel_launcher.py:34: SettingWithCopyWarning: \n",
      "A value is trying to be set on a copy of a slice from a DataFrame.\n",
      "Try using .loc[row_indexer,col_indexer] = value instead\n",
      "\n",
      "See the caveats in the documentation: http://pandas.pydata.org/pandas-docs/stable/indexing.html#indexing-view-versus-copy\n"
     ]
    },
    {
     "data": {
      "text/plain": [
       "(891, 28)"
      ]
     },
     "execution_count": 39,
     "metadata": {},
     "output_type": "execute_result"
    }
   ],
   "source": [
    "perpare_pipeline = FeatureUnion(transformer_list=[\n",
    "    (\"num_pipeline\", num_pipeline),\n",
    "    (\"cat_pipeline\", cat_pipeline)\n",
    "])\n",
    "\n",
    "full_pipe = Pipeline([\n",
    "    (\"add_pipeline\", add_pipeline),\n",
    "    (\"prep_pipeline\", perpare_pipeline)\n",
    "])\n",
    "\n",
    "X_train = full_pipe.fit_transform(X_tr)\n",
    "X_train.shape"
   ]
  },
  {
   "cell_type": "code",
   "execution_count": 40,
   "metadata": {},
   "outputs": [
    {
     "name": "stderr",
     "output_type": "stream",
     "text": [
      "/anaconda3/lib/python3.7/site-packages/ipykernel_launcher.py:33: SettingWithCopyWarning: \n",
      "A value is trying to be set on a copy of a slice from a DataFrame.\n",
      "Try using .loc[row_indexer,col_indexer] = value instead\n",
      "\n",
      "See the caveats in the documentation: http://pandas.pydata.org/pandas-docs/stable/indexing.html#indexing-view-versus-copy\n",
      "/anaconda3/lib/python3.7/site-packages/ipykernel_launcher.py:34: SettingWithCopyWarning: \n",
      "A value is trying to be set on a copy of a slice from a DataFrame.\n",
      "Try using .loc[row_indexer,col_indexer] = value instead\n",
      "\n",
      "See the caveats in the documentation: http://pandas.pydata.org/pandas-docs/stable/indexing.html#indexing-view-versus-copy\n",
      "/anaconda3/lib/python3.7/site-packages/pandas/core/indexing.py:189: SettingWithCopyWarning: \n",
      "A value is trying to be set on a copy of a slice from a DataFrame\n",
      "\n",
      "See the caveats in the documentation: http://pandas.pydata.org/pandas-docs/stable/indexing.html#indexing-view-versus-copy\n",
      "  self._setitem_with_indexer(indexer, value)\n"
     ]
    },
    {
     "data": {
      "text/plain": [
       "(418, 28)"
      ]
     },
     "execution_count": 40,
     "metadata": {},
     "output_type": "execute_result"
    }
   ],
   "source": [
    "#Scaled Test Set for predictions:\n",
    "X_test = full_pipe.fit_transform(Test)\n",
    "X_test.shape"
   ]
  },
  {
   "cell_type": "code",
   "execution_count": 41,
   "metadata": {},
   "outputs": [
    {
     "data": {
      "text/plain": [
       "StratifiedKFold(n_splits=10, random_state=None, shuffle=False)"
      ]
     },
     "execution_count": 41,
     "metadata": {},
     "output_type": "execute_result"
    }
   ],
   "source": [
    "#To create new model if pickle already even if pickle exists; load_pkl = False\n",
    "load_pkl = True\n",
    "\n",
    "cv_split=StratifiedKFold(n_splits=10)\n",
    "cv_split"
   ]
  },
  {
   "cell_type": "code",
   "execution_count": 42,
   "metadata": {},
   "outputs": [],
   "source": [
    "def model_cross_val(clf, name_clf, lp=load_pickle):\n",
    "    if pickle_exist(str(name_clf)) and (lp==True):\n",
    "        ml_clf = load_pickle(str(name_clf))\n",
    "    else:\n",
    "        ml_clf = clf\n",
    "        ml_clf.fit(X_train, y_train)\n",
    "        save_pickle(str(name_clf), ml_clf)\n",
    "    cvs =  cross_val_score(ml_clf, X_train, y_train, cv=cv_split, scoring=\"accuracy\") \n",
    "    return  np.mean(cvs)\n"
   ]
  },
  {
   "cell_type": "code",
   "execution_count": 43,
   "metadata": {},
   "outputs": [
    {
     "name": "stdout",
     "output_type": "stream",
     "text": [
      "Checking if pickle directory exists...\n",
      "Directory exists\n",
      "Pickle file does exists...\n",
      "Saving model...\n",
      "Saved LinearSVC successfully!\n",
      "\n"
     ]
    },
    {
     "name": "stderr",
     "output_type": "stream",
     "text": [
      "/anaconda3/lib/python3.7/site-packages/sklearn/svm/base.py:922: ConvergenceWarning: Liblinear failed to converge, increase the number of iterations.\n",
      "  \"the number of iterations.\", ConvergenceWarning)\n",
      "/anaconda3/lib/python3.7/site-packages/sklearn/svm/base.py:922: ConvergenceWarning: Liblinear failed to converge, increase the number of iterations.\n",
      "  \"the number of iterations.\", ConvergenceWarning)\n",
      "/anaconda3/lib/python3.7/site-packages/sklearn/svm/base.py:922: ConvergenceWarning: Liblinear failed to converge, increase the number of iterations.\n",
      "  \"the number of iterations.\", ConvergenceWarning)\n",
      "/anaconda3/lib/python3.7/site-packages/sklearn/svm/base.py:922: ConvergenceWarning: Liblinear failed to converge, increase the number of iterations.\n",
      "  \"the number of iterations.\", ConvergenceWarning)\n",
      "/anaconda3/lib/python3.7/site-packages/sklearn/svm/base.py:922: ConvergenceWarning: Liblinear failed to converge, increase the number of iterations.\n",
      "  \"the number of iterations.\", ConvergenceWarning)\n",
      "/anaconda3/lib/python3.7/site-packages/sklearn/svm/base.py:922: ConvergenceWarning: Liblinear failed to converge, increase the number of iterations.\n",
      "  \"the number of iterations.\", ConvergenceWarning)\n",
      "/anaconda3/lib/python3.7/site-packages/sklearn/svm/base.py:922: ConvergenceWarning: Liblinear failed to converge, increase the number of iterations.\n",
      "  \"the number of iterations.\", ConvergenceWarning)\n",
      "/anaconda3/lib/python3.7/site-packages/sklearn/svm/base.py:922: ConvergenceWarning: Liblinear failed to converge, increase the number of iterations.\n",
      "  \"the number of iterations.\", ConvergenceWarning)\n",
      "/anaconda3/lib/python3.7/site-packages/sklearn/svm/base.py:922: ConvergenceWarning: Liblinear failed to converge, increase the number of iterations.\n",
      "  \"the number of iterations.\", ConvergenceWarning)\n",
      "/anaconda3/lib/python3.7/site-packages/sklearn/svm/base.py:922: ConvergenceWarning: Liblinear failed to converge, increase the number of iterations.\n",
      "  \"the number of iterations.\", ConvergenceWarning)\n",
      "/anaconda3/lib/python3.7/site-packages/sklearn/svm/base.py:922: ConvergenceWarning: Liblinear failed to converge, increase the number of iterations.\n",
      "  \"the number of iterations.\", ConvergenceWarning)\n",
      "/anaconda3/lib/python3.7/site-packages/sklearn/svm/base.py:196: FutureWarning: The default value of gamma will change from 'auto' to 'scale' in version 0.22 to account better for unscaled features. Set gamma explicitly to 'auto' or 'scale' to avoid this warning.\n",
      "  \"avoid this warning.\", FutureWarning)\n"
     ]
    },
    {
     "name": "stdout",
     "output_type": "stream",
     "text": [
      "Checking if pickle directory exists...\n",
      "Directory exists\n",
      "Pickle file does exists...\n",
      "Saving model...\n",
      "Saved SVC successfully!\n",
      "\n"
     ]
    },
    {
     "name": "stderr",
     "output_type": "stream",
     "text": [
      "/anaconda3/lib/python3.7/site-packages/sklearn/svm/base.py:196: FutureWarning: The default value of gamma will change from 'auto' to 'scale' in version 0.22 to account better for unscaled features. Set gamma explicitly to 'auto' or 'scale' to avoid this warning.\n",
      "  \"avoid this warning.\", FutureWarning)\n",
      "/anaconda3/lib/python3.7/site-packages/sklearn/svm/base.py:196: FutureWarning: The default value of gamma will change from 'auto' to 'scale' in version 0.22 to account better for unscaled features. Set gamma explicitly to 'auto' or 'scale' to avoid this warning.\n",
      "  \"avoid this warning.\", FutureWarning)\n",
      "/anaconda3/lib/python3.7/site-packages/sklearn/svm/base.py:196: FutureWarning: The default value of gamma will change from 'auto' to 'scale' in version 0.22 to account better for unscaled features. Set gamma explicitly to 'auto' or 'scale' to avoid this warning.\n",
      "  \"avoid this warning.\", FutureWarning)\n",
      "/anaconda3/lib/python3.7/site-packages/sklearn/svm/base.py:196: FutureWarning: The default value of gamma will change from 'auto' to 'scale' in version 0.22 to account better for unscaled features. Set gamma explicitly to 'auto' or 'scale' to avoid this warning.\n",
      "  \"avoid this warning.\", FutureWarning)\n",
      "/anaconda3/lib/python3.7/site-packages/sklearn/svm/base.py:196: FutureWarning: The default value of gamma will change from 'auto' to 'scale' in version 0.22 to account better for unscaled features. Set gamma explicitly to 'auto' or 'scale' to avoid this warning.\n",
      "  \"avoid this warning.\", FutureWarning)\n",
      "/anaconda3/lib/python3.7/site-packages/sklearn/svm/base.py:196: FutureWarning: The default value of gamma will change from 'auto' to 'scale' in version 0.22 to account better for unscaled features. Set gamma explicitly to 'auto' or 'scale' to avoid this warning.\n",
      "  \"avoid this warning.\", FutureWarning)\n",
      "/anaconda3/lib/python3.7/site-packages/sklearn/svm/base.py:196: FutureWarning: The default value of gamma will change from 'auto' to 'scale' in version 0.22 to account better for unscaled features. Set gamma explicitly to 'auto' or 'scale' to avoid this warning.\n",
      "  \"avoid this warning.\", FutureWarning)\n",
      "/anaconda3/lib/python3.7/site-packages/sklearn/svm/base.py:196: FutureWarning: The default value of gamma will change from 'auto' to 'scale' in version 0.22 to account better for unscaled features. Set gamma explicitly to 'auto' or 'scale' to avoid this warning.\n",
      "  \"avoid this warning.\", FutureWarning)\n",
      "/anaconda3/lib/python3.7/site-packages/sklearn/svm/base.py:196: FutureWarning: The default value of gamma will change from 'auto' to 'scale' in version 0.22 to account better for unscaled features. Set gamma explicitly to 'auto' or 'scale' to avoid this warning.\n",
      "  \"avoid this warning.\", FutureWarning)\n",
      "/anaconda3/lib/python3.7/site-packages/sklearn/svm/base.py:196: FutureWarning: The default value of gamma will change from 'auto' to 'scale' in version 0.22 to account better for unscaled features. Set gamma explicitly to 'auto' or 'scale' to avoid this warning.\n",
      "  \"avoid this warning.\", FutureWarning)\n"
     ]
    },
    {
     "name": "stdout",
     "output_type": "stream",
     "text": [
      "Checking if pickle directory exists...\n",
      "Directory exists\n",
      "Pickle file does exists...\n",
      "Saving model...\n",
      "Saved NuSVC successfully!\n",
      "\n"
     ]
    },
    {
     "name": "stderr",
     "output_type": "stream",
     "text": [
      "/anaconda3/lib/python3.7/site-packages/sklearn/svm/base.py:196: FutureWarning: The default value of gamma will change from 'auto' to 'scale' in version 0.22 to account better for unscaled features. Set gamma explicitly to 'auto' or 'scale' to avoid this warning.\n",
      "  \"avoid this warning.\", FutureWarning)\n",
      "/anaconda3/lib/python3.7/site-packages/sklearn/svm/base.py:196: FutureWarning: The default value of gamma will change from 'auto' to 'scale' in version 0.22 to account better for unscaled features. Set gamma explicitly to 'auto' or 'scale' to avoid this warning.\n",
      "  \"avoid this warning.\", FutureWarning)\n",
      "/anaconda3/lib/python3.7/site-packages/sklearn/svm/base.py:196: FutureWarning: The default value of gamma will change from 'auto' to 'scale' in version 0.22 to account better for unscaled features. Set gamma explicitly to 'auto' or 'scale' to avoid this warning.\n",
      "  \"avoid this warning.\", FutureWarning)\n",
      "/anaconda3/lib/python3.7/site-packages/sklearn/svm/base.py:196: FutureWarning: The default value of gamma will change from 'auto' to 'scale' in version 0.22 to account better for unscaled features. Set gamma explicitly to 'auto' or 'scale' to avoid this warning.\n",
      "  \"avoid this warning.\", FutureWarning)\n",
      "/anaconda3/lib/python3.7/site-packages/sklearn/svm/base.py:196: FutureWarning: The default value of gamma will change from 'auto' to 'scale' in version 0.22 to account better for unscaled features. Set gamma explicitly to 'auto' or 'scale' to avoid this warning.\n",
      "  \"avoid this warning.\", FutureWarning)\n",
      "/anaconda3/lib/python3.7/site-packages/sklearn/svm/base.py:196: FutureWarning: The default value of gamma will change from 'auto' to 'scale' in version 0.22 to account better for unscaled features. Set gamma explicitly to 'auto' or 'scale' to avoid this warning.\n",
      "  \"avoid this warning.\", FutureWarning)\n",
      "/anaconda3/lib/python3.7/site-packages/sklearn/svm/base.py:196: FutureWarning: The default value of gamma will change from 'auto' to 'scale' in version 0.22 to account better for unscaled features. Set gamma explicitly to 'auto' or 'scale' to avoid this warning.\n",
      "  \"avoid this warning.\", FutureWarning)\n",
      "/anaconda3/lib/python3.7/site-packages/sklearn/svm/base.py:196: FutureWarning: The default value of gamma will change from 'auto' to 'scale' in version 0.22 to account better for unscaled features. Set gamma explicitly to 'auto' or 'scale' to avoid this warning.\n",
      "  \"avoid this warning.\", FutureWarning)\n",
      "/anaconda3/lib/python3.7/site-packages/sklearn/svm/base.py:196: FutureWarning: The default value of gamma will change from 'auto' to 'scale' in version 0.22 to account better for unscaled features. Set gamma explicitly to 'auto' or 'scale' to avoid this warning.\n",
      "  \"avoid this warning.\", FutureWarning)\n",
      "/anaconda3/lib/python3.7/site-packages/sklearn/svm/base.py:196: FutureWarning: The default value of gamma will change from 'auto' to 'scale' in version 0.22 to account better for unscaled features. Set gamma explicitly to 'auto' or 'scale' to avoid this warning.\n",
      "  \"avoid this warning.\", FutureWarning)\n",
      "/anaconda3/lib/python3.7/site-packages/sklearn/svm/base.py:196: FutureWarning: The default value of gamma will change from 'auto' to 'scale' in version 0.22 to account better for unscaled features. Set gamma explicitly to 'auto' or 'scale' to avoid this warning.\n",
      "  \"avoid this warning.\", FutureWarning)\n",
      "/anaconda3/lib/python3.7/site-packages/sklearn/linear_model/logistic.py:433: FutureWarning: Default solver will be changed to 'lbfgs' in 0.22. Specify a solver to silence this warning.\n",
      "  FutureWarning)\n",
      "/anaconda3/lib/python3.7/site-packages/sklearn/linear_model/logistic.py:433: FutureWarning: Default solver will be changed to 'lbfgs' in 0.22. Specify a solver to silence this warning.\n",
      "  FutureWarning)\n",
      "/anaconda3/lib/python3.7/site-packages/sklearn/linear_model/logistic.py:433: FutureWarning: Default solver will be changed to 'lbfgs' in 0.22. Specify a solver to silence this warning.\n",
      "  FutureWarning)\n",
      "/anaconda3/lib/python3.7/site-packages/sklearn/linear_model/logistic.py:433: FutureWarning: Default solver will be changed to 'lbfgs' in 0.22. Specify a solver to silence this warning.\n",
      "  FutureWarning)\n",
      "/anaconda3/lib/python3.7/site-packages/sklearn/linear_model/logistic.py:433: FutureWarning: Default solver will be changed to 'lbfgs' in 0.22. Specify a solver to silence this warning.\n",
      "  FutureWarning)\n",
      "/anaconda3/lib/python3.7/site-packages/sklearn/linear_model/logistic.py:433: FutureWarning: Default solver will be changed to 'lbfgs' in 0.22. Specify a solver to silence this warning.\n",
      "  FutureWarning)\n",
      "/anaconda3/lib/python3.7/site-packages/sklearn/linear_model/logistic.py:433: FutureWarning: Default solver will be changed to 'lbfgs' in 0.22. Specify a solver to silence this warning.\n",
      "  FutureWarning)\n",
      "/anaconda3/lib/python3.7/site-packages/sklearn/linear_model/logistic.py:433: FutureWarning: Default solver will be changed to 'lbfgs' in 0.22. Specify a solver to silence this warning.\n",
      "  FutureWarning)\n",
      "/anaconda3/lib/python3.7/site-packages/sklearn/linear_model/logistic.py:433: FutureWarning: Default solver will be changed to 'lbfgs' in 0.22. Specify a solver to silence this warning.\n",
      "  FutureWarning)\n",
      "/anaconda3/lib/python3.7/site-packages/sklearn/linear_model/logistic.py:433: FutureWarning: Default solver will be changed to 'lbfgs' in 0.22. Specify a solver to silence this warning.\n",
      "  FutureWarning)\n",
      "/anaconda3/lib/python3.7/site-packages/sklearn/linear_model/logistic.py:433: FutureWarning: Default solver will be changed to 'lbfgs' in 0.22. Specify a solver to silence this warning.\n",
      "  FutureWarning)\n",
      "/anaconda3/lib/python3.7/site-packages/sklearn/linear_model/stochastic_gradient.py:166: FutureWarning: max_iter and tol parameters have been added in SGDClassifier in 0.19. If both are left unset, they default to max_iter=5 and tol=None. If tol is not None, max_iter defaults to max_iter=1000. From 0.21, default max_iter will be 1000, and default tol will be 1e-3.\n",
      "  FutureWarning)\n"
     ]
    },
    {
     "name": "stdout",
     "output_type": "stream",
     "text": [
      "Checking if pickle directory exists...\n",
      "Directory exists\n",
      "Pickle file does exists...\n",
      "Saving model...\n",
      "Saved LogisticRegression successfully!\n",
      "\n",
      "Checking if pickle directory exists...\n",
      "Directory exists\n",
      "Pickle file does exists...\n",
      "Saving model...\n",
      "Saved SGDClassifier successfully!\n",
      "\n",
      "Checking if pickle directory exists...\n",
      "Directory exists\n",
      "Pickle file does exists...\n",
      "Saving model...\n",
      "Saved PassiveAggressiveClassifier successfully!\n",
      "\n",
      "Checking if pickle directory exists...\n",
      "Directory exists\n",
      "Pickle file does exists...\n",
      "Saving model...\n",
      "Saved Perceptron successfully!\n",
      "\n",
      "Checking if pickle directory exists...\n",
      "Directory exists\n",
      "Pickle file does exists...\n",
      "Saving model...\n",
      "Saved RidgeClassifier successfully!\n",
      "\n"
     ]
    },
    {
     "name": "stderr",
     "output_type": "stream",
     "text": [
      "/anaconda3/lib/python3.7/site-packages/sklearn/linear_model/stochastic_gradient.py:166: FutureWarning: max_iter and tol parameters have been added in SGDClassifier in 0.19. If both are left unset, they default to max_iter=5 and tol=None. If tol is not None, max_iter defaults to max_iter=1000. From 0.21, default max_iter will be 1000, and default tol will be 1e-3.\n",
      "  FutureWarning)\n",
      "/anaconda3/lib/python3.7/site-packages/sklearn/linear_model/stochastic_gradient.py:166: FutureWarning: max_iter and tol parameters have been added in SGDClassifier in 0.19. If both are left unset, they default to max_iter=5 and tol=None. If tol is not None, max_iter defaults to max_iter=1000. From 0.21, default max_iter will be 1000, and default tol will be 1e-3.\n",
      "  FutureWarning)\n",
      "/anaconda3/lib/python3.7/site-packages/sklearn/linear_model/stochastic_gradient.py:166: FutureWarning: max_iter and tol parameters have been added in SGDClassifier in 0.19. If both are left unset, they default to max_iter=5 and tol=None. If tol is not None, max_iter defaults to max_iter=1000. From 0.21, default max_iter will be 1000, and default tol will be 1e-3.\n",
      "  FutureWarning)\n",
      "/anaconda3/lib/python3.7/site-packages/sklearn/linear_model/stochastic_gradient.py:166: FutureWarning: max_iter and tol parameters have been added in SGDClassifier in 0.19. If both are left unset, they default to max_iter=5 and tol=None. If tol is not None, max_iter defaults to max_iter=1000. From 0.21, default max_iter will be 1000, and default tol will be 1e-3.\n",
      "  FutureWarning)\n",
      "/anaconda3/lib/python3.7/site-packages/sklearn/linear_model/stochastic_gradient.py:166: FutureWarning: max_iter and tol parameters have been added in SGDClassifier in 0.19. If both are left unset, they default to max_iter=5 and tol=None. If tol is not None, max_iter defaults to max_iter=1000. From 0.21, default max_iter will be 1000, and default tol will be 1e-3.\n",
      "  FutureWarning)\n",
      "/anaconda3/lib/python3.7/site-packages/sklearn/linear_model/stochastic_gradient.py:166: FutureWarning: max_iter and tol parameters have been added in SGDClassifier in 0.19. If both are left unset, they default to max_iter=5 and tol=None. If tol is not None, max_iter defaults to max_iter=1000. From 0.21, default max_iter will be 1000, and default tol will be 1e-3.\n",
      "  FutureWarning)\n",
      "/anaconda3/lib/python3.7/site-packages/sklearn/linear_model/stochastic_gradient.py:166: FutureWarning: max_iter and tol parameters have been added in SGDClassifier in 0.19. If both are left unset, they default to max_iter=5 and tol=None. If tol is not None, max_iter defaults to max_iter=1000. From 0.21, default max_iter will be 1000, and default tol will be 1e-3.\n",
      "  FutureWarning)\n",
      "/anaconda3/lib/python3.7/site-packages/sklearn/linear_model/stochastic_gradient.py:166: FutureWarning: max_iter and tol parameters have been added in SGDClassifier in 0.19. If both are left unset, they default to max_iter=5 and tol=None. If tol is not None, max_iter defaults to max_iter=1000. From 0.21, default max_iter will be 1000, and default tol will be 1e-3.\n",
      "  FutureWarning)\n",
      "/anaconda3/lib/python3.7/site-packages/sklearn/linear_model/stochastic_gradient.py:166: FutureWarning: max_iter and tol parameters have been added in SGDClassifier in 0.19. If both are left unset, they default to max_iter=5 and tol=None. If tol is not None, max_iter defaults to max_iter=1000. From 0.21, default max_iter will be 1000, and default tol will be 1e-3.\n",
      "  FutureWarning)\n",
      "/anaconda3/lib/python3.7/site-packages/sklearn/linear_model/stochastic_gradient.py:166: FutureWarning: max_iter and tol parameters have been added in SGDClassifier in 0.19. If both are left unset, they default to max_iter=5 and tol=None. If tol is not None, max_iter defaults to max_iter=1000. From 0.21, default max_iter will be 1000, and default tol will be 1e-3.\n",
      "  FutureWarning)\n",
      "/anaconda3/lib/python3.7/site-packages/sklearn/linear_model/stochastic_gradient.py:166: FutureWarning: max_iter and tol parameters have been added in PassiveAggressiveClassifier in 0.19. If both are left unset, they default to max_iter=5 and tol=None. If tol is not None, max_iter defaults to max_iter=1000. From 0.21, default max_iter will be 1000, and default tol will be 1e-3.\n",
      "  FutureWarning)\n",
      "/anaconda3/lib/python3.7/site-packages/sklearn/linear_model/stochastic_gradient.py:166: FutureWarning: max_iter and tol parameters have been added in PassiveAggressiveClassifier in 0.19. If both are left unset, they default to max_iter=5 and tol=None. If tol is not None, max_iter defaults to max_iter=1000. From 0.21, default max_iter will be 1000, and default tol will be 1e-3.\n",
      "  FutureWarning)\n",
      "/anaconda3/lib/python3.7/site-packages/sklearn/linear_model/stochastic_gradient.py:166: FutureWarning: max_iter and tol parameters have been added in PassiveAggressiveClassifier in 0.19. If both are left unset, they default to max_iter=5 and tol=None. If tol is not None, max_iter defaults to max_iter=1000. From 0.21, default max_iter will be 1000, and default tol will be 1e-3.\n",
      "  FutureWarning)\n",
      "/anaconda3/lib/python3.7/site-packages/sklearn/linear_model/stochastic_gradient.py:166: FutureWarning: max_iter and tol parameters have been added in PassiveAggressiveClassifier in 0.19. If both are left unset, they default to max_iter=5 and tol=None. If tol is not None, max_iter defaults to max_iter=1000. From 0.21, default max_iter will be 1000, and default tol will be 1e-3.\n",
      "  FutureWarning)\n",
      "/anaconda3/lib/python3.7/site-packages/sklearn/linear_model/stochastic_gradient.py:166: FutureWarning: max_iter and tol parameters have been added in PassiveAggressiveClassifier in 0.19. If both are left unset, they default to max_iter=5 and tol=None. If tol is not None, max_iter defaults to max_iter=1000. From 0.21, default max_iter will be 1000, and default tol will be 1e-3.\n",
      "  FutureWarning)\n",
      "/anaconda3/lib/python3.7/site-packages/sklearn/linear_model/stochastic_gradient.py:166: FutureWarning: max_iter and tol parameters have been added in PassiveAggressiveClassifier in 0.19. If both are left unset, they default to max_iter=5 and tol=None. If tol is not None, max_iter defaults to max_iter=1000. From 0.21, default max_iter will be 1000, and default tol will be 1e-3.\n",
      "  FutureWarning)\n",
      "/anaconda3/lib/python3.7/site-packages/sklearn/linear_model/stochastic_gradient.py:166: FutureWarning: max_iter and tol parameters have been added in PassiveAggressiveClassifier in 0.19. If both are left unset, they default to max_iter=5 and tol=None. If tol is not None, max_iter defaults to max_iter=1000. From 0.21, default max_iter will be 1000, and default tol will be 1e-3.\n",
      "  FutureWarning)\n",
      "/anaconda3/lib/python3.7/site-packages/sklearn/linear_model/stochastic_gradient.py:166: FutureWarning: max_iter and tol parameters have been added in PassiveAggressiveClassifier in 0.19. If both are left unset, they default to max_iter=5 and tol=None. If tol is not None, max_iter defaults to max_iter=1000. From 0.21, default max_iter will be 1000, and default tol will be 1e-3.\n",
      "  FutureWarning)\n",
      "/anaconda3/lib/python3.7/site-packages/sklearn/linear_model/stochastic_gradient.py:166: FutureWarning: max_iter and tol parameters have been added in PassiveAggressiveClassifier in 0.19. If both are left unset, they default to max_iter=5 and tol=None. If tol is not None, max_iter defaults to max_iter=1000. From 0.21, default max_iter will be 1000, and default tol will be 1e-3.\n",
      "  FutureWarning)\n",
      "/anaconda3/lib/python3.7/site-packages/sklearn/linear_model/stochastic_gradient.py:166: FutureWarning: max_iter and tol parameters have been added in PassiveAggressiveClassifier in 0.19. If both are left unset, they default to max_iter=5 and tol=None. If tol is not None, max_iter defaults to max_iter=1000. From 0.21, default max_iter will be 1000, and default tol will be 1e-3.\n",
      "  FutureWarning)\n",
      "/anaconda3/lib/python3.7/site-packages/sklearn/linear_model/stochastic_gradient.py:166: FutureWarning: max_iter and tol parameters have been added in PassiveAggressiveClassifier in 0.19. If both are left unset, they default to max_iter=5 and tol=None. If tol is not None, max_iter defaults to max_iter=1000. From 0.21, default max_iter will be 1000, and default tol will be 1e-3.\n",
      "  FutureWarning)\n",
      "/anaconda3/lib/python3.7/site-packages/sklearn/linear_model/stochastic_gradient.py:166: FutureWarning: max_iter and tol parameters have been added in Perceptron in 0.19. If both are left unset, they default to max_iter=5 and tol=None. If tol is not None, max_iter defaults to max_iter=1000. From 0.21, default max_iter will be 1000, and default tol will be 1e-3.\n",
      "  FutureWarning)\n",
      "/anaconda3/lib/python3.7/site-packages/sklearn/linear_model/stochastic_gradient.py:166: FutureWarning: max_iter and tol parameters have been added in Perceptron in 0.19. If both are left unset, they default to max_iter=5 and tol=None. If tol is not None, max_iter defaults to max_iter=1000. From 0.21, default max_iter will be 1000, and default tol will be 1e-3.\n",
      "  FutureWarning)\n",
      "/anaconda3/lib/python3.7/site-packages/sklearn/linear_model/stochastic_gradient.py:166: FutureWarning: max_iter and tol parameters have been added in Perceptron in 0.19. If both are left unset, they default to max_iter=5 and tol=None. If tol is not None, max_iter defaults to max_iter=1000. From 0.21, default max_iter will be 1000, and default tol will be 1e-3.\n",
      "  FutureWarning)\n",
      "/anaconda3/lib/python3.7/site-packages/sklearn/linear_model/stochastic_gradient.py:166: FutureWarning: max_iter and tol parameters have been added in Perceptron in 0.19. If both are left unset, they default to max_iter=5 and tol=None. If tol is not None, max_iter defaults to max_iter=1000. From 0.21, default max_iter will be 1000, and default tol will be 1e-3.\n",
      "  FutureWarning)\n",
      "/anaconda3/lib/python3.7/site-packages/sklearn/linear_model/stochastic_gradient.py:166: FutureWarning: max_iter and tol parameters have been added in Perceptron in 0.19. If both are left unset, they default to max_iter=5 and tol=None. If tol is not None, max_iter defaults to max_iter=1000. From 0.21, default max_iter will be 1000, and default tol will be 1e-3.\n",
      "  FutureWarning)\n",
      "/anaconda3/lib/python3.7/site-packages/sklearn/linear_model/stochastic_gradient.py:166: FutureWarning: max_iter and tol parameters have been added in Perceptron in 0.19. If both are left unset, they default to max_iter=5 and tol=None. If tol is not None, max_iter defaults to max_iter=1000. From 0.21, default max_iter will be 1000, and default tol will be 1e-3.\n",
      "  FutureWarning)\n",
      "/anaconda3/lib/python3.7/site-packages/sklearn/linear_model/stochastic_gradient.py:166: FutureWarning: max_iter and tol parameters have been added in Perceptron in 0.19. If both are left unset, they default to max_iter=5 and tol=None. If tol is not None, max_iter defaults to max_iter=1000. From 0.21, default max_iter will be 1000, and default tol will be 1e-3.\n",
      "  FutureWarning)\n",
      "/anaconda3/lib/python3.7/site-packages/sklearn/linear_model/stochastic_gradient.py:166: FutureWarning: max_iter and tol parameters have been added in Perceptron in 0.19. If both are left unset, they default to max_iter=5 and tol=None. If tol is not None, max_iter defaults to max_iter=1000. From 0.21, default max_iter will be 1000, and default tol will be 1e-3.\n",
      "  FutureWarning)\n",
      "/anaconda3/lib/python3.7/site-packages/sklearn/linear_model/stochastic_gradient.py:166: FutureWarning: max_iter and tol parameters have been added in Perceptron in 0.19. If both are left unset, they default to max_iter=5 and tol=None. If tol is not None, max_iter defaults to max_iter=1000. From 0.21, default max_iter will be 1000, and default tol will be 1e-3.\n",
      "  FutureWarning)\n",
      "/anaconda3/lib/python3.7/site-packages/sklearn/linear_model/stochastic_gradient.py:166: FutureWarning: max_iter and tol parameters have been added in Perceptron in 0.19. If both are left unset, they default to max_iter=5 and tol=None. If tol is not None, max_iter defaults to max_iter=1000. From 0.21, default max_iter will be 1000, and default tol will be 1e-3.\n",
      "  FutureWarning)\n",
      "/anaconda3/lib/python3.7/site-packages/sklearn/linear_model/stochastic_gradient.py:166: FutureWarning: max_iter and tol parameters have been added in Perceptron in 0.19. If both are left unset, they default to max_iter=5 and tol=None. If tol is not None, max_iter defaults to max_iter=1000. From 0.21, default max_iter will be 1000, and default tol will be 1e-3.\n",
      "  FutureWarning)\n"
     ]
    },
    {
     "name": "stdout",
     "output_type": "stream",
     "text": [
      "Checking if pickle directory exists...\n",
      "Directory exists\n",
      "Pickle file does exists...\n",
      "Saving model...\n",
      "Saved GaussianProcessClassifier successfully!\n",
      "\n",
      "Checking if pickle directory exists...\n",
      "Directory exists\n",
      "Pickle file does exists...\n",
      "Saving model...\n",
      "Saved BernoulliNB successfully!\n",
      "\n",
      "Checking if pickle directory exists...\n",
      "Directory exists\n",
      "Pickle file does exists...\n",
      "Saving model...\n",
      "Saved GaussianNB successfully!\n",
      "\n",
      "Checking if pickle directory exists...\n",
      "Directory exists\n",
      "Pickle file does exists...\n",
      "Saving model...\n",
      "Saved DecisionTreeClassifier successfully!\n",
      "\n",
      "Checking if pickle directory exists...\n",
      "Directory exists\n",
      "Pickle file does exists...\n",
      "Saving model...\n",
      "Saved KNeighborsClassifier successfully!\n",
      "\n",
      "Checking if pickle directory exists...\n",
      "Directory exists\n",
      "Pickle file does exists...\n",
      "Saving model...\n",
      "Saved RandomForestClassifier successfully!\n",
      "\n"
     ]
    },
    {
     "name": "stderr",
     "output_type": "stream",
     "text": [
      "/anaconda3/lib/python3.7/site-packages/sklearn/ensemble/forest.py:246: FutureWarning: The default value of n_estimators will change from 10 in version 0.20 to 100 in 0.22.\n",
      "  \"10 in version 0.20 to 100 in 0.22.\", FutureWarning)\n"
     ]
    },
    {
     "name": "stdout",
     "output_type": "stream",
     "text": [
      "Checking if pickle directory exists...\n",
      "Directory exists\n",
      "Pickle file does exists...\n",
      "Saving model...\n",
      "Saved AdaBoostClassifier successfully!\n",
      "\n",
      "Checking if pickle directory exists...\n",
      "Directory exists\n",
      "Pickle file does exists...\n",
      "Saving model...\n",
      "Saved ExtraTreesClassifier successfully!\n",
      "\n"
     ]
    },
    {
     "name": "stderr",
     "output_type": "stream",
     "text": [
      "/anaconda3/lib/python3.7/site-packages/sklearn/ensemble/forest.py:246: FutureWarning: The default value of n_estimators will change from 10 in version 0.20 to 100 in 0.22.\n",
      "  \"10 in version 0.20 to 100 in 0.22.\", FutureWarning)\n"
     ]
    },
    {
     "name": "stdout",
     "output_type": "stream",
     "text": [
      "Checking if pickle directory exists...\n",
      "Directory exists\n",
      "Pickle file does exists...\n",
      "Saving model...\n",
      "Saved GradientBoostingClassifier successfully!\n",
      "\n",
      "Checking if pickle directory exists...\n",
      "Directory exists\n",
      "Pickle file does exists...\n",
      "Saving model...\n",
      "Saved BaggingClassifier successfully!\n",
      "\n",
      "Checking if pickle directory exists...\n",
      "Directory exists\n",
      "Pickle file does exists...\n",
      "Saving model...\n",
      "Saved LinearDiscriminantAnalysis successfully!\n",
      "\n",
      "Checking if pickle directory exists...\n",
      "Directory exists\n",
      "Pickle file does exists...\n"
     ]
    },
    {
     "name": "stderr",
     "output_type": "stream",
     "text": [
      "/anaconda3/lib/python3.7/site-packages/sklearn/discriminant_analysis.py:388: UserWarning: Variables are collinear.\n",
      "  warnings.warn(\"Variables are collinear.\")\n",
      "/anaconda3/lib/python3.7/site-packages/sklearn/discriminant_analysis.py:388: UserWarning: Variables are collinear.\n",
      "  warnings.warn(\"Variables are collinear.\")\n",
      "/anaconda3/lib/python3.7/site-packages/sklearn/discriminant_analysis.py:388: UserWarning: Variables are collinear.\n",
      "  warnings.warn(\"Variables are collinear.\")\n",
      "/anaconda3/lib/python3.7/site-packages/sklearn/discriminant_analysis.py:388: UserWarning: Variables are collinear.\n",
      "  warnings.warn(\"Variables are collinear.\")\n",
      "/anaconda3/lib/python3.7/site-packages/sklearn/discriminant_analysis.py:388: UserWarning: Variables are collinear.\n",
      "  warnings.warn(\"Variables are collinear.\")\n",
      "/anaconda3/lib/python3.7/site-packages/sklearn/discriminant_analysis.py:388: UserWarning: Variables are collinear.\n",
      "  warnings.warn(\"Variables are collinear.\")\n",
      "/anaconda3/lib/python3.7/site-packages/sklearn/discriminant_analysis.py:388: UserWarning: Variables are collinear.\n",
      "  warnings.warn(\"Variables are collinear.\")\n",
      "/anaconda3/lib/python3.7/site-packages/sklearn/discriminant_analysis.py:388: UserWarning: Variables are collinear.\n",
      "  warnings.warn(\"Variables are collinear.\")\n",
      "/anaconda3/lib/python3.7/site-packages/sklearn/discriminant_analysis.py:388: UserWarning: Variables are collinear.\n",
      "  warnings.warn(\"Variables are collinear.\")\n",
      "/anaconda3/lib/python3.7/site-packages/sklearn/discriminant_analysis.py:388: UserWarning: Variables are collinear.\n",
      "  warnings.warn(\"Variables are collinear.\")\n",
      "/anaconda3/lib/python3.7/site-packages/sklearn/discriminant_analysis.py:388: UserWarning: Variables are collinear.\n",
      "  warnings.warn(\"Variables are collinear.\")\n",
      "/anaconda3/lib/python3.7/site-packages/sklearn/neural_network/multilayer_perceptron.py:562: ConvergenceWarning: Stochastic Optimizer: Maximum iterations (200) reached and the optimization hasn't converged yet.\n",
      "  % self.max_iter, ConvergenceWarning)\n"
     ]
    },
    {
     "name": "stdout",
     "output_type": "stream",
     "text": [
      "Saving model...\n",
      "Saved MLPClassifier successfully!\n",
      "\n"
     ]
    },
    {
     "name": "stderr",
     "output_type": "stream",
     "text": [
      "/anaconda3/lib/python3.7/site-packages/sklearn/neural_network/multilayer_perceptron.py:562: ConvergenceWarning: Stochastic Optimizer: Maximum iterations (200) reached and the optimization hasn't converged yet.\n",
      "  % self.max_iter, ConvergenceWarning)\n"
     ]
    }
   ],
   "source": [
    "clf_options = [          \n",
    "    LinearSVC(), #no proba\n",
    "    SVC(probability=True),\n",
    "    NuSVC(probability=True),\n",
    "    \n",
    "    LogisticRegression(),\n",
    "    SGDClassifier(),\n",
    "    PassiveAggressiveClassifier(), #no proba\n",
    "    Perceptron(), #no proba\n",
    "    RidgeClassifier(), #no proba\n",
    "    \n",
    "    GaussianProcessClassifier(),\n",
    "    \n",
    "    BernoulliNB(),\n",
    "    GaussianNB(),\n",
    "    \n",
    "    DecisionTreeClassifier(),\n",
    "    \n",
    "    KNeighborsClassifier(),\n",
    "    \n",
    "    \n",
    "    RandomForestClassifier(),\n",
    "    AdaBoostClassifier(DecisionTreeClassifier(),\n",
    "                       learning_rate=0.1),\n",
    "    \n",
    "    ExtraTreesClassifier(),\n",
    "    GradientBoostingClassifier(),\n",
    "    BaggingClassifier(),\n",
    "    \n",
    "    LinearDiscriminantAnalysis(),\n",
    "\n",
    "    MLPClassifier()\n",
    "\n",
    "] \n",
    " \n",
    "\n",
    "   \n",
    "compare_col = ['Clf Name', 'Clf Parameters', 'Clf Mean Accuracy'] \n",
    "clf_compare = pd.DataFrame(columns = compare_col)\n",
    "                 \n",
    "row=0\n",
    "          \n",
    "for clf in clf_options: \n",
    "    clf_name = clf.__class__.__name__\n",
    "                    \n",
    "    clf_compare.loc[row, 'Clf Name'] = clf_name\n",
    "    clf_compare.loc[row, 'Clf Parameters'] = str(clf.get_params()) \n",
    "    cvs = model_cross_val(clf, clf_name)\n",
    "    \n",
    "    clf_compare.loc[row, 'Clf Mean Accuracy'] = cvs\n",
    "    \n",
    "    row +=1\n",
    "\n",
    "               "
   ]
  },
  {
   "cell_type": "code",
   "execution_count": 44,
   "metadata": {},
   "outputs": [
    {
     "data": {
      "text/html": [
       "<div>\n",
       "<style scoped>\n",
       "    .dataframe tbody tr th:only-of-type {\n",
       "        vertical-align: middle;\n",
       "    }\n",
       "\n",
       "    .dataframe tbody tr th {\n",
       "        vertical-align: top;\n",
       "    }\n",
       "\n",
       "    .dataframe thead th {\n",
       "        text-align: right;\n",
       "    }\n",
       "</style>\n",
       "<table border=\"1\" class=\"dataframe\">\n",
       "  <thead>\n",
       "    <tr style=\"text-align: right;\">\n",
       "      <th></th>\n",
       "      <th>Clf Name</th>\n",
       "      <th>Clf Parameters</th>\n",
       "      <th>Clf Mean Accuracy</th>\n",
       "    </tr>\n",
       "  </thead>\n",
       "  <tbody>\n",
       "    <tr>\n",
       "      <th>0</th>\n",
       "      <td>LinearSVC</td>\n",
       "      <td>{'C': 1.0, 'class_weight': None, 'dual': True,...</td>\n",
       "      <td>0.830596</td>\n",
       "    </tr>\n",
       "    <tr>\n",
       "      <th>7</th>\n",
       "      <td>RidgeClassifier</td>\n",
       "      <td>{'alpha': 1.0, 'class_weight': None, 'copy_X':...</td>\n",
       "      <td>0.830583</td>\n",
       "    </tr>\n",
       "    <tr>\n",
       "      <th>18</th>\n",
       "      <td>LinearDiscriminantAnalysis</td>\n",
       "      <td>{'n_components': None, 'priors': None, 'shrink...</td>\n",
       "      <td>0.829459</td>\n",
       "    </tr>\n",
       "    <tr>\n",
       "      <th>3</th>\n",
       "      <td>LogisticRegression</td>\n",
       "      <td>{'C': 1.0, 'class_weight': None, 'dual': False...</td>\n",
       "      <td>0.828361</td>\n",
       "    </tr>\n",
       "    <tr>\n",
       "      <th>19</th>\n",
       "      <td>MLPClassifier</td>\n",
       "      <td>{'activation': 'relu', 'alpha': 0.0001, 'batch...</td>\n",
       "      <td>0.82494</td>\n",
       "    </tr>\n",
       "    <tr>\n",
       "      <th>13</th>\n",
       "      <td>RandomForestClassifier</td>\n",
       "      <td>{'bootstrap': True, 'class_weight': None, 'cri...</td>\n",
       "      <td>0.819359</td>\n",
       "    </tr>\n",
       "    <tr>\n",
       "      <th>15</th>\n",
       "      <td>ExtraTreesClassifier</td>\n",
       "      <td>{'bootstrap': False, 'class_weight': None, 'cr...</td>\n",
       "      <td>0.816038</td>\n",
       "    </tr>\n",
       "    <tr>\n",
       "      <th>1</th>\n",
       "      <td>SVC</td>\n",
       "      <td>{'C': 1.0, 'cache_size': 200, 'class_weight': ...</td>\n",
       "      <td>0.814928</td>\n",
       "    </tr>\n",
       "    <tr>\n",
       "      <th>16</th>\n",
       "      <td>GradientBoostingClassifier</td>\n",
       "      <td>{'criterion': 'friedman_mse', 'init': None, 'l...</td>\n",
       "      <td>0.814928</td>\n",
       "    </tr>\n",
       "    <tr>\n",
       "      <th>17</th>\n",
       "      <td>BaggingClassifier</td>\n",
       "      <td>{'base_estimator': None, 'bootstrap': True, 'b...</td>\n",
       "      <td>0.813803</td>\n",
       "    </tr>\n",
       "    <tr>\n",
       "      <th>2</th>\n",
       "      <td>NuSVC</td>\n",
       "      <td>{'cache_size': 200, 'class_weight': None, 'coe...</td>\n",
       "      <td>0.813792</td>\n",
       "    </tr>\n",
       "    <tr>\n",
       "      <th>8</th>\n",
       "      <td>GaussianProcessClassifier</td>\n",
       "      <td>{'copy_X_train': True, 'kernel': None, 'max_it...</td>\n",
       "      <td>0.811607</td>\n",
       "    </tr>\n",
       "    <tr>\n",
       "      <th>12</th>\n",
       "      <td>KNeighborsClassifier</td>\n",
       "      <td>{'algorithm': 'auto', 'leaf_size': 30, 'metric...</td>\n",
       "      <td>0.789109</td>\n",
       "    </tr>\n",
       "    <tr>\n",
       "      <th>9</th>\n",
       "      <td>BernoulliNB</td>\n",
       "      <td>{'alpha': 1.0, 'binarize': 0.0, 'class_prior':...</td>\n",
       "      <td>0.789033</td>\n",
       "    </tr>\n",
       "    <tr>\n",
       "      <th>14</th>\n",
       "      <td>AdaBoostClassifier</td>\n",
       "      <td>{'algorithm': 'SAMME.R', 'base_estimator__clas...</td>\n",
       "      <td>0.748622</td>\n",
       "    </tr>\n",
       "    <tr>\n",
       "      <th>6</th>\n",
       "      <td>Perceptron</td>\n",
       "      <td>{'alpha': 0.0001, 'class_weight': None, 'early...</td>\n",
       "      <td>0.746576</td>\n",
       "    </tr>\n",
       "    <tr>\n",
       "      <th>11</th>\n",
       "      <td>DecisionTreeClassifier</td>\n",
       "      <td>{'class_weight': None, 'criterion': 'gini', 'm...</td>\n",
       "      <td>0.744064</td>\n",
       "    </tr>\n",
       "    <tr>\n",
       "      <th>4</th>\n",
       "      <td>SGDClassifier</td>\n",
       "      <td>{'alpha': 0.0001, 'average': False, 'class_wei...</td>\n",
       "      <td>0.736513</td>\n",
       "    </tr>\n",
       "    <tr>\n",
       "      <th>5</th>\n",
       "      <td>PassiveAggressiveClassifier</td>\n",
       "      <td>{'C': 1.0, 'average': False, 'class_weight': N...</td>\n",
       "      <td>0.726966</td>\n",
       "    </tr>\n",
       "    <tr>\n",
       "      <th>10</th>\n",
       "      <td>GaussianNB</td>\n",
       "      <td>{'priors': None, 'var_smoothing': 1e-09}</td>\n",
       "      <td>0.706124</td>\n",
       "    </tr>\n",
       "  </tbody>\n",
       "</table>\n",
       "</div>"
      ],
      "text/plain": [
       "                       Clf Name  \\\n",
       "0                     LinearSVC   \n",
       "7               RidgeClassifier   \n",
       "18   LinearDiscriminantAnalysis   \n",
       "3            LogisticRegression   \n",
       "19                MLPClassifier   \n",
       "13       RandomForestClassifier   \n",
       "15         ExtraTreesClassifier   \n",
       "1                           SVC   \n",
       "16   GradientBoostingClassifier   \n",
       "17            BaggingClassifier   \n",
       "2                         NuSVC   \n",
       "8     GaussianProcessClassifier   \n",
       "12         KNeighborsClassifier   \n",
       "9                   BernoulliNB   \n",
       "14           AdaBoostClassifier   \n",
       "6                    Perceptron   \n",
       "11       DecisionTreeClassifier   \n",
       "4                 SGDClassifier   \n",
       "5   PassiveAggressiveClassifier   \n",
       "10                   GaussianNB   \n",
       "\n",
       "                                       Clf Parameters Clf Mean Accuracy  \n",
       "0   {'C': 1.0, 'class_weight': None, 'dual': True,...          0.830596  \n",
       "7   {'alpha': 1.0, 'class_weight': None, 'copy_X':...          0.830583  \n",
       "18  {'n_components': None, 'priors': None, 'shrink...          0.829459  \n",
       "3   {'C': 1.0, 'class_weight': None, 'dual': False...          0.828361  \n",
       "19  {'activation': 'relu', 'alpha': 0.0001, 'batch...           0.82494  \n",
       "13  {'bootstrap': True, 'class_weight': None, 'cri...          0.819359  \n",
       "15  {'bootstrap': False, 'class_weight': None, 'cr...          0.816038  \n",
       "1   {'C': 1.0, 'cache_size': 200, 'class_weight': ...          0.814928  \n",
       "16  {'criterion': 'friedman_mse', 'init': None, 'l...          0.814928  \n",
       "17  {'base_estimator': None, 'bootstrap': True, 'b...          0.813803  \n",
       "2   {'cache_size': 200, 'class_weight': None, 'coe...          0.813792  \n",
       "8   {'copy_X_train': True, 'kernel': None, 'max_it...          0.811607  \n",
       "12  {'algorithm': 'auto', 'leaf_size': 30, 'metric...          0.789109  \n",
       "9   {'alpha': 1.0, 'binarize': 0.0, 'class_prior':...          0.789033  \n",
       "14  {'algorithm': 'SAMME.R', 'base_estimator__clas...          0.748622  \n",
       "6   {'alpha': 0.0001, 'class_weight': None, 'early...          0.746576  \n",
       "11  {'class_weight': None, 'criterion': 'gini', 'm...          0.744064  \n",
       "4   {'alpha': 0.0001, 'average': False, 'class_wei...          0.736513  \n",
       "5   {'C': 1.0, 'average': False, 'class_weight': N...          0.726966  \n",
       "10           {'priors': None, 'var_smoothing': 1e-09}          0.706124  "
      ]
     },
     "execution_count": 44,
     "metadata": {},
     "output_type": "execute_result"
    }
   ],
   "source": [
    "clf_compare.sort_values(by = 'Clf Mean Accuracy', ascending = False, inplace = True)\n",
    "clf_compare"
   ]
  },
  {
   "cell_type": "code",
   "execution_count": 49,
   "metadata": {},
   "outputs": [],
   "source": [
    "#Parameters of classifiers (Random Search):\n",
    "\n",
    "#Linear SVC\n",
    "lin_svc_rs = {\n",
    "    'loss' : ['hinge','squared_hinge'],\n",
    "    'C' : reciprocal(0.01, 1000)\n",
    "}\n",
    "\n",
    "\n",
    "#SVC\n",
    "svc_rs = {\n",
    "    'C' : reciprocal(0.01, 1000),\n",
    "    'kernel' : ['linear', 'rbf'],\n",
    "    'gamma' : reciprocal(0.01, 10000)\n",
    "}\n",
    "\n",
    "#NuSVC\n",
    "nuSVC_rs = {\n",
    "    'kernel' : ['linear', 'rbf'],\n",
    "    'gamma' : reciprocal(0.01, 10000),\n",
    "}\n",
    "\n",
    "\n",
    "\n",
    "#Logistic Regression\n",
    "log_reg_rs = {\n",
    "    'penalty' : ['l1', 'l2'],\n",
    "    'C' : reciprocal(0.01, 1000) \n",
    "}\n",
    "\n",
    "#SGDClassifier\n",
    "SGDC_rs = {\n",
    "    'loss' : ['hinge','squared_hinge', 'perceptron'],\n",
    "    'penalty' : ['l1', 'l2'],\n",
    "    'alpha': reciprocal(0.1, 10000), \n",
    "    'warm_start' : [True, False]\n",
    "}\n",
    "\n",
    "\n",
    "\n",
    "\n",
    "#PassiveAggressiveClassifier\n",
    "pass_rs = {\n",
    "    'C' : reciprocal(0.01, 1000),\n",
    "    'fit_intercept' : [True, False]\n",
    "}\n",
    "\n",
    "\n",
    "#Perceptron\n",
    "perc_rs = {\n",
    "    'alpha': reciprocal(0.1, 10000), \n",
    "    'fit_intercept' : [True, False],\n",
    "    'shuffle' : [True, False],\n",
    "    'warm_start' : [True, False]\n",
    "}\n",
    "\n",
    "\n",
    "#RidgeClassifier\n",
    "ridge_rs = {\n",
    "    'alpha': reciprocal(0.1, 10000)\n",
    "}\n",
    "\n",
    "#GaussianProcessClassifier\n",
    "gaus_rs = {\n",
    "    'warm_start' : [True, False]\n",
    "}\n",
    "\n",
    "    \n",
    "#BernoulliNB\n",
    "bernNB_rs = {\n",
    "    'alpha': reciprocal(0.1, 10000),\n",
    "    'binarize': reciprocal(0.1, 10000),\n",
    "    'fit_prior' : [True, False]\n",
    "    \n",
    "}\n",
    "\n",
    "\n",
    "#GaussianNB\n",
    "guasNB_rs = {\n",
    "    'var_smoothing': reciprocal(1, 1000000),\n",
    "}\n",
    "\n",
    "#Decision Tree Classifier\n",
    "tree_rs = {\n",
    "    'criterion' : ['gini', 'entropy'],\n",
    "    'splitter' : ['best', 'random'],\n",
    "    'max_depth' : randint(1, 5),\n",
    "    'min_samples_split' : randint(2, 10),\n",
    "    'min_samples_leaf' : randint(1, 10),\n",
    "    'max_features' : randint(1, 10)\n",
    "}\n",
    "\n",
    "  \n",
    "#K-Neighbors Classifier\n",
    "k_neigh_rs = {\n",
    "    'n_neighbors': randint(3, 15),\n",
    "    'weights' : ['uniform','distance'],\n",
    "    'algorithm' : ['auto', 'ball_tree', 'kd_tree', 'brute'],\n",
    "    'leaf_size' : randint(2, 100),\n",
    "    'p' : randint(1, 2)\n",
    "}\n",
    "\n",
    "#Random Forest Classifier\n",
    "forest_rs = {\n",
    "    'n_estimators' : randint(10, 500),\n",
    "    'criterion' : ['gini', 'entropy'],\n",
    "    'max_depth' : randint(1, 5),\n",
    "    'min_samples_split' : randint(2, 15),\n",
    "    'min_samples_leaf' : randint(1, 15),\n",
    "    'max_features' : randint(1, 15)\n",
    "}\n",
    "    \n",
    "#AdaBoost Classifier\n",
    "ada_rs = {\n",
    "    'base_estimator__criterion' : ['gini', 'entropy'],\n",
    "    'base_estimator__splitter' : ['best', 'random'],\n",
    "    'n_estimators' : randint(1, 50),\n",
    "    'learning_rate' : reciprocal(0.6, 10000),\n",
    "    'algorithm' : ['SAMME', 'SAMME.R']\n",
    "    \n",
    "}\n",
    "\n",
    "\n",
    "#Extra Trees Classifier\n",
    "extra_tree_rs = {\n",
    "    'n_estimators' : randint(10, 500),\n",
    "    'criterion' : ['gini', 'entropy'],\n",
    "    'min_samples_split' : randint(2, 10),\n",
    "    'min_samples_leaf' : randint(1, 10),\n",
    "    'max_features' : randint(1, 10)    \n",
    "    \n",
    "}\n",
    "\n",
    "\n",
    "#Gradient Boosting Classifier\n",
    "grad_boost_rs = {\n",
    "    'loss' : ['deviance', 'exponential'],\n",
    "    'learning_rate' : reciprocal(0.6, 10000),\n",
    "    'n_estimators' : randint(10, 500),\n",
    "    'min_samples_split' : randint(2, 15),\n",
    "    'min_samples_leaf' : randint(1, 15),\n",
    "    'max_depth': randint(3, 15),\n",
    "    'max_features' : randint(1, 15)\n",
    "    \n",
    "}  \n",
    "\n",
    "\n",
    "bag_rs = {\n",
    "    'n_estimators' : randint(10, 50)\n",
    "}\n",
    "\n",
    "#LinearDiscriminantAnalysis\n",
    "linDes_rs = {\n",
    "    'solver' : ['svd']\n",
    "}\n",
    "    \n",
    "#QuadraticDiscriminantAnalysis\n",
    "quadDes_rs = {\n",
    "    'reg_param' : 0.0\n",
    "}\n",
    "\n",
    "\n",
    "#MLPClassifier\n",
    "MLPC_rs = {\n",
    "    'hidden_layer_sizes' : randint(10, 1000),\n",
    "    'alpha': reciprocal(0.1, 10000),\n",
    "    'warm_start' : [True, False]\n",
    "}\n",
    "\n",
    "\n",
    "\n",
    "param_option_rs = [\n",
    "    lin_svc_rs,\n",
    "    svc_rs,\n",
    "    nuSVC_rs,\n",
    "    log_reg_rs,\n",
    "    SGDC_rs,\n",
    "    pass_rs,\n",
    "    perc_rs,\n",
    "    ridge_rs,\n",
    "    gaus_rs,\n",
    "    bernNB_rs,\n",
    "    guasNB_rs,\n",
    "    tree_rs,\n",
    "    k_neigh_rs,\n",
    "    forest_rs,\n",
    "    ada_rs,\n",
    "    extra_tree_rs,\n",
    "    grad_boost_rs, \n",
    "    bag_rs,\n",
    "    linDes_rs,\n",
    "    MLPC_rs\n",
    "    \n",
    "    \n",
    "]\n"
   ]
  },
  {
   "cell_type": "code",
   "execution_count": 50,
   "metadata": {},
   "outputs": [],
   "source": [
    "#-------------------------------------------------------------------------------\n",
    "def model_rand_gs(clf, name_clf, clf_param, lp=load_pickle): \n",
    "\n",
    "    rand_clf = RandomizedSearchCV(clf, param_distributions=clf_param, cv=cv_split, \n",
    "                          verbose=2, n_jobs=-1, n_iter=100, scoring='accuracy')\n",
    "    \n",
    "    rand_clf.fit(X_train, y_train)\n",
    "    \n",
    "    best_est = rand_clf.best_estimator_\n",
    "    best_sco = rand_clf.best_score_ \n",
    "    \n",
    "    text_check = os.path.isfile(PICKLE_PATH+\"/best_score_rs_\"+str(name_clf)+\".txt\")\n",
    "    \n",
    "    if pickle_exist(\"best_rs_\"+str(name_clf)) and text_check and (lp==True):\n",
    "        #load current best score\n",
    "        prev_best_score = max(np.loadtxt(\n",
    "            (PICKLE_PATH+\"/best_score_rs_\"+str(name_clf)+\".txt\"), dtype=float))\n",
    "\n",
    "        if best_sco > prev_best_score:\n",
    "            temp = [best_sco, best_sco]\n",
    "            np.savetxt(\n",
    "                PICKLE_PATH+\"/best_score_rs_\"+str(name_clf)+\".txt\", temp, fmt='%f')\n",
    "            save_pickle(\"best_rs_\"+str(name_clf), best_est)\n",
    "        else:\n",
    "            #load in better parameters\n",
    "            best_sco = max(np.loadtxt(\n",
    "                PICKLE_PATH+\"/best_score_rs_\"+str(name_clf)+\".txt\", dtype=float))\n",
    "            best_est = load_pickle(\"best_rs_\"+str(name_clf))\n",
    "    else:\n",
    "        #make pickles if dont exist\n",
    "        temp = [best_sco, best_sco]\n",
    "        np.savetxt(\n",
    "            PICKLE_PATH+\"/best_score_rs_\"+str(name_clf)+\".txt\", temp, fmt='%f')\n",
    "        save_pickle(\"best_rs_\"+str(name_clf), best_est)\n"
   ]
  },
  {
   "cell_type": "code",
   "execution_count": 51,
   "metadata": {
    "scrolled": true
   },
   "outputs": [
    {
     "name": "stdout",
     "output_type": "stream",
     "text": [
      "0: LinearSVC\n",
      "Fitting 10 folds for each of 100 candidates, totalling 1000 fits\n"
     ]
    },
    {
     "name": "stderr",
     "output_type": "stream",
     "text": [
      "[Parallel(n_jobs=-1)]: Using backend LokyBackend with 8 concurrent workers.\n",
      "[Parallel(n_jobs=-1)]: Done 196 tasks      | elapsed:    2.2s\n",
      "[Parallel(n_jobs=-1)]: Done 985 out of 1000 | elapsed:    9.1s remaining:    0.1s\n",
      "[Parallel(n_jobs=-1)]: Done 1000 out of 1000 | elapsed:    9.2s finished\n",
      "/anaconda3/lib/python3.7/site-packages/sklearn/model_selection/_search.py:841: DeprecationWarning: The default of the `iid` parameter will change from True to False in version 0.22 and will be removed in 0.24. This will change numeric results when test-set sizes are unequal.\n",
      "  DeprecationWarning)\n",
      "/anaconda3/lib/python3.7/site-packages/sklearn/svm/base.py:922: ConvergenceWarning: Liblinear failed to converge, increase the number of iterations.\n",
      "  \"the number of iterations.\", ConvergenceWarning)\n"
     ]
    },
    {
     "name": "stdout",
     "output_type": "stream",
     "text": [
      "Checking if pickle directory exists...\n",
      "Directory exists\n",
      "Pickle file does exists...\n",
      "Saving model...\n",
      "Saved best_rs_LinearSVC successfully!\n",
      "\n",
      "Loading best_rs_LinearSVC from Pickle file...\n",
      "best_rs_LinearSVC successfully loaded!\n",
      "\n",
      "LinearSVC: <bound method BaseEstimator.get_params of LinearSVC(C=1.1353133343719801, class_weight=None, dual=True,\n",
      "     fit_intercept=True, intercept_scaling=1, loss='squared_hinge',\n",
      "     max_iter=1000, multi_class='ovr', penalty='l2', random_state=None,\n",
      "     tol=0.0001, verbose=0)>\n",
      "\n",
      "1: SVC\n",
      "Fitting 10 folds for each of 100 candidates, totalling 1000 fits\n"
     ]
    },
    {
     "name": "stderr",
     "output_type": "stream",
     "text": [
      "[Parallel(n_jobs=-1)]: Using backend LokyBackend with 8 concurrent workers.\n",
      "[Parallel(n_jobs=-1)]: Done  25 tasks      | elapsed:    1.5s\n",
      "[Parallel(n_jobs=-1)]: Done 146 tasks      | elapsed:  7.7min\n",
      "[Parallel(n_jobs=-1)]: Done 349 tasks      | elapsed:  8.7min\n",
      "[Parallel(n_jobs=-1)]: Done 632 tasks      | elapsed: 10.9min\n",
      "[Parallel(n_jobs=-1)]: Done 1000 out of 1000 | elapsed: 14.3min finished\n",
      "/anaconda3/lib/python3.7/site-packages/sklearn/model_selection/_search.py:841: DeprecationWarning: The default of the `iid` parameter will change from True to False in version 0.22 and will be removed in 0.24. This will change numeric results when test-set sizes are unequal.\n",
      "  DeprecationWarning)\n",
      "[Parallel(n_jobs=-1)]: Using backend LokyBackend with 8 concurrent workers.\n"
     ]
    },
    {
     "name": "stdout",
     "output_type": "stream",
     "text": [
      "Checking if pickle directory exists...\n",
      "Directory exists\n",
      "Pickle file does exists...\n",
      "Saving model...\n",
      "Saved best_rs_SVC successfully!\n",
      "\n",
      "Loading best_rs_SVC from Pickle file...\n",
      "best_rs_SVC successfully loaded!\n",
      "\n",
      "SVC: <bound method BaseEstimator.get_params of SVC(C=5.692764792921572, cache_size=200, class_weight=None, coef0=0.0,\n",
      "  decision_function_shape='ovr', degree=3, gamma=0.014365032614839502,\n",
      "  kernel='rbf', max_iter=-1, probability=True, random_state=None,\n",
      "  shrinking=True, tol=0.001, verbose=False)>\n",
      "\n",
      "2: NuSVC\n",
      "Fitting 10 folds for each of 100 candidates, totalling 1000 fits\n"
     ]
    },
    {
     "name": "stderr",
     "output_type": "stream",
     "text": [
      "[Parallel(n_jobs=-1)]: Done  34 tasks      | elapsed:    1.6s\n",
      "[Parallel(n_jobs=-1)]: Done 276 tasks      | elapsed:   10.3s\n",
      "[Parallel(n_jobs=-1)]: Done 682 tasks      | elapsed:   26.1s\n",
      "[Parallel(n_jobs=-1)]: Done 1000 out of 1000 | elapsed:   37.8s finished\n"
     ]
    },
    {
     "name": "stdout",
     "output_type": "stream",
     "text": [
      "Checking if pickle directory exists...\n",
      "Directory exists\n",
      "Pickle file does exists...\n",
      "Saving model...\n",
      "Saved best_rs_NuSVC successfully!\n",
      "\n",
      "Loading best_rs_NuSVC from Pickle file...\n",
      "best_rs_NuSVC successfully loaded!\n",
      "\n",
      "NuSVC: <bound method BaseEstimator.get_params of NuSVC(cache_size=200, class_weight=None, coef0=0.0,\n",
      "   decision_function_shape='ovr', degree=3, gamma=0.038720677477080634,\n",
      "   kernel='rbf', max_iter=-1, nu=0.5, probability=True, random_state=None,\n",
      "   shrinking=True, tol=0.001, verbose=False)>\n",
      "\n",
      "3: LogisticRegression\n",
      "Fitting 10 folds for each of 100 candidates, totalling 1000 fits\n"
     ]
    },
    {
     "name": "stderr",
     "output_type": "stream",
     "text": [
      "[Parallel(n_jobs=-1)]: Using backend LokyBackend with 8 concurrent workers.\n",
      "[Parallel(n_jobs=-1)]: Done 178 tasks      | elapsed:    3.6s\n",
      "[Parallel(n_jobs=-1)]: Done 1000 out of 1000 | elapsed:   10.7s finished\n",
      "/anaconda3/lib/python3.7/site-packages/sklearn/linear_model/logistic.py:433: FutureWarning: Default solver will be changed to 'lbfgs' in 0.22. Specify a solver to silence this warning.\n",
      "  FutureWarning)\n",
      "[Parallel(n_jobs=-1)]: Using backend LokyBackend with 8 concurrent workers.\n"
     ]
    },
    {
     "name": "stdout",
     "output_type": "stream",
     "text": [
      "Checking if pickle directory exists...\n",
      "Directory exists\n",
      "Pickle file does exists...\n",
      "Saving model...\n",
      "Saved best_rs_LogisticRegression successfully!\n",
      "\n",
      "Loading best_rs_LogisticRegression from Pickle file...\n",
      "best_rs_LogisticRegression successfully loaded!\n",
      "\n",
      "LogisticRegression: <bound method BaseEstimator.get_params of LogisticRegression(C=0.7902345776553784, class_weight=None, dual=False,\n",
      "          fit_intercept=True, intercept_scaling=1, max_iter=100,\n",
      "          multi_class='warn', n_jobs=None, penalty='l2', random_state=None,\n",
      "          solver='warn', tol=0.0001, verbose=0, warm_start=False)>\n",
      "\n",
      "4: SGDClassifier\n",
      "Fitting 10 folds for each of 100 candidates, totalling 1000 fits\n"
     ]
    },
    {
     "name": "stderr",
     "output_type": "stream",
     "text": [
      "[Parallel(n_jobs=-1)]: Done 214 tasks      | elapsed:    0.5s\n",
      "[Parallel(n_jobs=-1)]: Done 1000 out of 1000 | elapsed:    1.2s finished\n",
      "/anaconda3/lib/python3.7/site-packages/sklearn/model_selection/_search.py:841: DeprecationWarning: The default of the `iid` parameter will change from True to False in version 0.22 and will be removed in 0.24. This will change numeric results when test-set sizes are unequal.\n",
      "  DeprecationWarning)\n",
      "/anaconda3/lib/python3.7/site-packages/sklearn/linear_model/stochastic_gradient.py:166: FutureWarning: max_iter and tol parameters have been added in SGDClassifier in 0.19. If both are left unset, they default to max_iter=5 and tol=None. If tol is not None, max_iter defaults to max_iter=1000. From 0.21, default max_iter will be 1000, and default tol will be 1e-3.\n",
      "  FutureWarning)\n",
      "[Parallel(n_jobs=-1)]: Using backend LokyBackend with 8 concurrent workers.\n"
     ]
    },
    {
     "name": "stdout",
     "output_type": "stream",
     "text": [
      "Checking if pickle directory exists...\n",
      "Directory exists\n",
      "Pickle file does exists...\n",
      "Saving model...\n",
      "Saved best_rs_SGDClassifier successfully!\n",
      "\n",
      "Loading best_rs_SGDClassifier from Pickle file...\n",
      "best_rs_SGDClassifier successfully loaded!\n",
      "\n",
      "SGDClassifier: <bound method BaseEstimator.get_params of SGDClassifier(alpha=0.38481882065498585, average=False, class_weight=None,\n",
      "       early_stopping=False, epsilon=0.1, eta0=0.0, fit_intercept=True,\n",
      "       l1_ratio=0.15, learning_rate='optimal', loss='hinge', max_iter=None,\n",
      "       n_iter=None, n_iter_no_change=5, n_jobs=None, penalty='l2',\n",
      "       power_t=0.5, random_state=None, shuffle=True, tol=None,\n",
      "       validation_fraction=0.1, verbose=0, warm_start=False)>\n",
      "\n",
      "5: PassiveAggressiveClassifier\n",
      "Fitting 10 folds for each of 100 candidates, totalling 1000 fits\n"
     ]
    },
    {
     "name": "stderr",
     "output_type": "stream",
     "text": [
      "[Parallel(n_jobs=-1)]: Done 232 tasks      | elapsed:    0.4s\n",
      "[Parallel(n_jobs=-1)]: Done 1000 out of 1000 | elapsed:    1.1s finished\n",
      "/anaconda3/lib/python3.7/site-packages/sklearn/model_selection/_search.py:841: DeprecationWarning: The default of the `iid` parameter will change from True to False in version 0.22 and will be removed in 0.24. This will change numeric results when test-set sizes are unequal.\n",
      "  DeprecationWarning)\n",
      "/anaconda3/lib/python3.7/site-packages/sklearn/linear_model/stochastic_gradient.py:166: FutureWarning: max_iter and tol parameters have been added in PassiveAggressiveClassifier in 0.19. If both are left unset, they default to max_iter=5 and tol=None. If tol is not None, max_iter defaults to max_iter=1000. From 0.21, default max_iter will be 1000, and default tol will be 1e-3.\n",
      "  FutureWarning)\n",
      "[Parallel(n_jobs=-1)]: Using backend LokyBackend with 8 concurrent workers.\n"
     ]
    },
    {
     "name": "stdout",
     "output_type": "stream",
     "text": [
      "Checking if pickle directory exists...\n",
      "Directory exists\n",
      "Pickle file does exists...\n",
      "Saving model...\n",
      "Saved best_rs_PassiveAggressiveClassifier successfully!\n",
      "\n",
      "Loading best_rs_PassiveAggressiveClassifier from Pickle file...\n",
      "best_rs_PassiveAggressiveClassifier successfully loaded!\n",
      "\n",
      "PassiveAggressiveClassifier: <bound method BaseEstimator.get_params of PassiveAggressiveClassifier(C=0.023667291678445643, average=False,\n",
      "              class_weight=None, early_stopping=False, fit_intercept=True,\n",
      "              loss='hinge', max_iter=None, n_iter=None, n_iter_no_change=5,\n",
      "              n_jobs=None, random_state=None, shuffle=True, tol=None,\n",
      "              validation_fraction=0.1, verbose=0, warm_start=False)>\n",
      "\n",
      "6: Perceptron\n",
      "Fitting 10 folds for each of 100 candidates, totalling 1000 fits\n"
     ]
    },
    {
     "name": "stderr",
     "output_type": "stream",
     "text": [
      "[Parallel(n_jobs=-1)]: Done 250 tasks      | elapsed:    0.5s\n",
      "[Parallel(n_jobs=-1)]: Done 1000 out of 1000 | elapsed:    1.1s finished\n",
      "/anaconda3/lib/python3.7/site-packages/sklearn/model_selection/_search.py:841: DeprecationWarning: The default of the `iid` parameter will change from True to False in version 0.22 and will be removed in 0.24. This will change numeric results when test-set sizes are unequal.\n",
      "  DeprecationWarning)\n",
      "/anaconda3/lib/python3.7/site-packages/sklearn/linear_model/stochastic_gradient.py:166: FutureWarning: max_iter and tol parameters have been added in Perceptron in 0.19. If both are left unset, they default to max_iter=5 and tol=None. If tol is not None, max_iter defaults to max_iter=1000. From 0.21, default max_iter will be 1000, and default tol will be 1e-3.\n",
      "  FutureWarning)\n",
      "[Parallel(n_jobs=-1)]: Using backend LokyBackend with 8 concurrent workers.\n"
     ]
    },
    {
     "name": "stdout",
     "output_type": "stream",
     "text": [
      "Checking if pickle directory exists...\n",
      "Directory exists\n",
      "Pickle file does exists...\n",
      "Saving model...\n",
      "Saved best_rs_Perceptron successfully!\n",
      "\n",
      "Loading best_rs_Perceptron from Pickle file...\n",
      "best_rs_Perceptron successfully loaded!\n",
      "\n",
      "Perceptron: <bound method BaseEstimator.get_params of Perceptron(alpha=25.48326241018583, class_weight=None, early_stopping=False,\n",
      "      eta0=1.0, fit_intercept=False, max_iter=None, n_iter=None,\n",
      "      n_iter_no_change=5, n_jobs=None, penalty=None, random_state=0,\n",
      "      shuffle=False, tol=None, validation_fraction=0.1, verbose=0,\n",
      "      warm_start=True)>\n",
      "\n",
      "7: RidgeClassifier\n",
      "Fitting 10 folds for each of 100 candidates, totalling 1000 fits\n"
     ]
    },
    {
     "name": "stderr",
     "output_type": "stream",
     "text": [
      "[Parallel(n_jobs=-1)]: Done 214 tasks      | elapsed:    0.5s\n",
      "[Parallel(n_jobs=-1)]: Done 1000 out of 1000 | elapsed:    1.2s finished\n",
      "/anaconda3/lib/python3.7/site-packages/sklearn/model_selection/_search.py:841: DeprecationWarning: The default of the `iid` parameter will change from True to False in version 0.22 and will be removed in 0.24. This will change numeric results when test-set sizes are unequal.\n",
      "  DeprecationWarning)\n",
      "/anaconda3/lib/python3.7/site-packages/sklearn/model_selection/_search.py:271: UserWarning: The total space of parameters 2 is smaller than n_iter=100. Running 2 iterations. For exhaustive searches, use GridSearchCV.\n",
      "  % (grid_size, self.n_iter, grid_size), UserWarning)\n",
      "[Parallel(n_jobs=-1)]: Using backend LokyBackend with 8 concurrent workers.\n"
     ]
    },
    {
     "name": "stdout",
     "output_type": "stream",
     "text": [
      "Checking if pickle directory exists...\n",
      "Directory exists\n",
      "Pickle file does exists...\n",
      "Saving model...\n",
      "Saved best_rs_RidgeClassifier successfully!\n",
      "\n",
      "Loading best_rs_RidgeClassifier from Pickle file...\n",
      "best_rs_RidgeClassifier successfully loaded!\n",
      "\n",
      "RidgeClassifier: <bound method BaseEstimator.get_params of RidgeClassifier(alpha=0.2555812234059024, class_weight=None, copy_X=True,\n",
      "        fit_intercept=True, max_iter=None, normalize=False,\n",
      "        random_state=None, solver='auto', tol=0.001)>\n",
      "\n",
      "8: GaussianProcessClassifier\n",
      "Fitting 10 folds for each of 2 candidates, totalling 20 fits\n"
     ]
    },
    {
     "name": "stderr",
     "output_type": "stream",
     "text": [
      "[Parallel(n_jobs=-1)]: Done  16 out of  20 | elapsed:    2.1s remaining:    0.5s\n",
      "[Parallel(n_jobs=-1)]: Done  20 out of  20 | elapsed:    2.8s finished\n"
     ]
    },
    {
     "name": "stdout",
     "output_type": "stream",
     "text": [
      "Checking if pickle directory exists...\n",
      "Directory exists\n",
      "Pickle file does exists...\n",
      "Saving model...\n",
      "Saved best_rs_GaussianProcessClassifier successfully!\n",
      "\n",
      "Loading best_rs_GaussianProcessClassifier from Pickle file...\n",
      "best_rs_GaussianProcessClassifier successfully loaded!\n",
      "\n",
      "GaussianProcessClassifier: <bound method BaseEstimator.get_params of GaussianProcessClassifier(copy_X_train=True, kernel=None,\n",
      "             max_iter_predict=100, multi_class='one_vs_rest', n_jobs=None,\n",
      "             n_restarts_optimizer=0, optimizer='fmin_l_bfgs_b',\n",
      "             random_state=None, warm_start=True)>\n",
      "\n",
      "9: BernoulliNB\n",
      "Fitting 10 folds for each of 100 candidates, totalling 1000 fits\n"
     ]
    },
    {
     "name": "stderr",
     "output_type": "stream",
     "text": [
      "[Parallel(n_jobs=-1)]: Using backend LokyBackend with 8 concurrent workers.\n",
      "[Parallel(n_jobs=-1)]: Done 102 tasks      | elapsed:    0.2s\n",
      "[Parallel(n_jobs=-1)]: Done 1000 out of 1000 | elapsed:    1.0s finished\n",
      "/anaconda3/lib/python3.7/site-packages/sklearn/model_selection/_search.py:841: DeprecationWarning: The default of the `iid` parameter will change from True to False in version 0.22 and will be removed in 0.24. This will change numeric results when test-set sizes are unequal.\n",
      "  DeprecationWarning)\n",
      "[Parallel(n_jobs=-1)]: Using backend LokyBackend with 8 concurrent workers.\n"
     ]
    },
    {
     "name": "stdout",
     "output_type": "stream",
     "text": [
      "Checking if pickle directory exists...\n",
      "Directory exists\n",
      "Pickle file does exists...\n",
      "Saving model...\n",
      "Saved best_rs_BernoulliNB successfully!\n",
      "\n",
      "Loading best_rs_BernoulliNB from Pickle file...\n",
      "best_rs_BernoulliNB successfully loaded!\n",
      "\n",
      "BernoulliNB: <bound method BaseEstimator.get_params of BernoulliNB(alpha=0.2258438859620728, binarize=0.55618208399909,\n",
      "      class_prior=None, fit_prior=True)>\n",
      "\n",
      "10: GaussianNB\n",
      "Fitting 10 folds for each of 100 candidates, totalling 1000 fits\n"
     ]
    },
    {
     "name": "stderr",
     "output_type": "stream",
     "text": [
      "[Parallel(n_jobs=-1)]: Done 268 tasks      | elapsed:    0.5s\n",
      "[Parallel(n_jobs=-1)]: Done 1000 out of 1000 | elapsed:    1.1s finished\n",
      "/anaconda3/lib/python3.7/site-packages/sklearn/model_selection/_search.py:841: DeprecationWarning: The default of the `iid` parameter will change from True to False in version 0.22 and will be removed in 0.24. This will change numeric results when test-set sizes are unequal.\n",
      "  DeprecationWarning)\n",
      "[Parallel(n_jobs=-1)]: Using backend LokyBackend with 8 concurrent workers.\n"
     ]
    },
    {
     "name": "stdout",
     "output_type": "stream",
     "text": [
      "Checking if pickle directory exists...\n",
      "Directory exists\n",
      "Pickle file does exists...\n",
      "Saving model...\n",
      "Saved best_rs_GaussianNB successfully!\n",
      "\n",
      "Loading best_rs_GaussianNB from Pickle file...\n",
      "best_rs_GaussianNB successfully loaded!\n",
      "\n",
      "GaussianNB: <bound method BaseEstimator.get_params of GaussianNB(priors=None, var_smoothing=2.8089308015120573)>\n",
      "\n",
      "11: DecisionTreeClassifier\n",
      "Fitting 10 folds for each of 100 candidates, totalling 1000 fits\n"
     ]
    },
    {
     "name": "stderr",
     "output_type": "stream",
     "text": [
      "[Parallel(n_jobs=-1)]: Done 304 tasks      | elapsed:    0.4s\n",
      "[Parallel(n_jobs=-1)]: Done 1000 out of 1000 | elapsed:    0.8s finished\n",
      "/anaconda3/lib/python3.7/site-packages/sklearn/model_selection/_search.py:841: DeprecationWarning: The default of the `iid` parameter will change from True to False in version 0.22 and will be removed in 0.24. This will change numeric results when test-set sizes are unequal.\n",
      "  DeprecationWarning)\n",
      "[Parallel(n_jobs=-1)]: Using backend LokyBackend with 8 concurrent workers.\n"
     ]
    },
    {
     "name": "stdout",
     "output_type": "stream",
     "text": [
      "Checking if pickle directory exists...\n",
      "Directory exists\n",
      "Pickle file does exists...\n",
      "Saving model...\n",
      "Saved best_rs_DecisionTreeClassifier successfully!\n",
      "\n",
      "Loading best_rs_DecisionTreeClassifier from Pickle file...\n",
      "best_rs_DecisionTreeClassifier successfully loaded!\n",
      "\n",
      "DecisionTreeClassifier: <bound method BaseEstimator.get_params of DecisionTreeClassifier(class_weight=None, criterion='entropy', max_depth=4,\n",
      "            max_features=9, max_leaf_nodes=None, min_impurity_decrease=0.0,\n",
      "            min_impurity_split=None, min_samples_leaf=1,\n",
      "            min_samples_split=3, min_weight_fraction_leaf=0.0,\n",
      "            presort=False, random_state=None, splitter='best')>\n",
      "\n",
      "12: KNeighborsClassifier\n",
      "Fitting 10 folds for each of 100 candidates, totalling 1000 fits\n"
     ]
    },
    {
     "name": "stderr",
     "output_type": "stream",
     "text": [
      "[Parallel(n_jobs=-1)]: Done  88 tasks      | elapsed:    1.0s\n",
      "[Parallel(n_jobs=-1)]: Done 1000 out of 1000 | elapsed:    8.6s finished\n",
      "[Parallel(n_jobs=-1)]: Using backend LokyBackend with 8 concurrent workers.\n"
     ]
    },
    {
     "name": "stdout",
     "output_type": "stream",
     "text": [
      "Checking if pickle directory exists...\n",
      "Directory exists\n",
      "Pickle file does exists...\n",
      "Saving model...\n",
      "Saved best_rs_KNeighborsClassifier successfully!\n",
      "\n",
      "Loading best_rs_KNeighborsClassifier from Pickle file...\n",
      "best_rs_KNeighborsClassifier successfully loaded!\n",
      "\n",
      "KNeighborsClassifier: <bound method BaseEstimator.get_params of KNeighborsClassifier(algorithm='auto', leaf_size=88, metric='minkowski',\n",
      "           metric_params=None, n_jobs=None, n_neighbors=3, p=1,\n",
      "           weights='distance')>\n",
      "\n",
      "13: RandomForestClassifier\n",
      "Fitting 10 folds for each of 100 candidates, totalling 1000 fits\n"
     ]
    },
    {
     "name": "stderr",
     "output_type": "stream",
     "text": [
      "[Parallel(n_jobs=-1)]: Done  25 tasks      | elapsed:    2.7s\n",
      "[Parallel(n_jobs=-1)]: Done 146 tasks      | elapsed:   12.7s\n",
      "[Parallel(n_jobs=-1)]: Done 349 tasks      | elapsed:   33.0s\n",
      "[Parallel(n_jobs=-1)]: Done 632 tasks      | elapsed:  1.0min\n",
      "[Parallel(n_jobs=-1)]: Done 1000 out of 1000 | elapsed:  1.6min finished\n",
      "[Parallel(n_jobs=-1)]: Using backend LokyBackend with 8 concurrent workers.\n"
     ]
    },
    {
     "name": "stdout",
     "output_type": "stream",
     "text": [
      "Checking if pickle directory exists...\n",
      "Directory exists\n",
      "Pickle file does exists...\n",
      "Saving model...\n",
      "Saved best_rs_RandomForestClassifier successfully!\n",
      "\n",
      "Loading best_rs_RandomForestClassifier from Pickle file...\n",
      "best_rs_RandomForestClassifier successfully loaded!\n",
      "\n",
      "RandomForestClassifier: <bound method BaseEstimator.get_params of RandomForestClassifier(bootstrap=True, class_weight=None, criterion='entropy',\n",
      "            max_depth=4, max_features=14, max_leaf_nodes=None,\n",
      "            min_impurity_decrease=0.0, min_impurity_split=None,\n",
      "            min_samples_leaf=4, min_samples_split=5,\n",
      "            min_weight_fraction_leaf=0.0, n_estimators=71, n_jobs=None,\n",
      "            oob_score=False, random_state=None, verbose=0,\n",
      "            warm_start=False)>\n",
      "\n",
      "14: AdaBoostClassifier\n",
      "Fitting 10 folds for each of 100 candidates, totalling 1000 fits\n"
     ]
    },
    {
     "name": "stderr",
     "output_type": "stream",
     "text": [
      "[Parallel(n_jobs=-1)]: Done 214 tasks      | elapsed:    0.6s\n",
      "[Parallel(n_jobs=-1)]: Done 1000 out of 1000 | elapsed:    1.7s finished\n",
      "/anaconda3/lib/python3.7/site-packages/sklearn/model_selection/_search.py:841: DeprecationWarning: The default of the `iid` parameter will change from True to False in version 0.22 and will be removed in 0.24. This will change numeric results when test-set sizes are unequal.\n",
      "  DeprecationWarning)\n",
      "[Parallel(n_jobs=-1)]: Using backend LokyBackend with 8 concurrent workers.\n"
     ]
    },
    {
     "name": "stdout",
     "output_type": "stream",
     "text": [
      "Checking if pickle directory exists...\n",
      "Directory exists\n",
      "Pickle file does exists...\n",
      "Saving model...\n",
      "Saved best_rs_AdaBoostClassifier successfully!\n",
      "\n",
      "Loading best_rs_AdaBoostClassifier from Pickle file...\n",
      "best_rs_AdaBoostClassifier successfully loaded!\n",
      "\n",
      "AdaBoostClassifier: <bound method BaseEstimator.get_params of AdaBoostClassifier(algorithm='SAMME.R',\n",
      "          base_estimator=DecisionTreeClassifier(class_weight=None, criterion='entropy', max_depth=None,\n",
      "            max_features=None, max_leaf_nodes=None,\n",
      "            min_impurity_decrease=0.0, min_impurity_split=None,\n",
      "            min_samples_leaf=1, min_samples_split=2,\n",
      "            min_weight_fraction_leaf=0.0, presort=False, random_state=None,\n",
      "            splitter='random'),\n",
      "          learning_rate=92.12167742453491, n_estimators=48,\n",
      "          random_state=None)>\n",
      "\n",
      "15: ExtraTreesClassifier\n",
      "Fitting 10 folds for each of 100 candidates, totalling 1000 fits\n"
     ]
    },
    {
     "name": "stderr",
     "output_type": "stream",
     "text": [
      "[Parallel(n_jobs=-1)]: Done  25 tasks      | elapsed:    3.9s\n",
      "[Parallel(n_jobs=-1)]: Done 146 tasks      | elapsed:   16.8s\n",
      "[Parallel(n_jobs=-1)]: Done 349 tasks      | elapsed:   36.1s\n",
      "[Parallel(n_jobs=-1)]: Done 632 tasks      | elapsed:  1.1min\n",
      "[Parallel(n_jobs=-1)]: Done 1000 out of 1000 | elapsed:  1.7min finished\n",
      "[Parallel(n_jobs=-1)]: Using backend LokyBackend with 8 concurrent workers.\n"
     ]
    },
    {
     "name": "stdout",
     "output_type": "stream",
     "text": [
      "Checking if pickle directory exists...\n",
      "Directory exists\n",
      "Pickle file does exists...\n",
      "Saving model...\n",
      "Saved best_rs_ExtraTreesClassifier successfully!\n",
      "\n",
      "Loading best_rs_ExtraTreesClassifier from Pickle file...\n",
      "best_rs_ExtraTreesClassifier successfully loaded!\n",
      "\n",
      "ExtraTreesClassifier: <bound method BaseEstimator.get_params of ExtraTreesClassifier(bootstrap=False, class_weight=None, criterion='entropy',\n",
      "           max_depth=None, max_features=7, max_leaf_nodes=None,\n",
      "           min_impurity_decrease=0.0, min_impurity_split=None,\n",
      "           min_samples_leaf=1, min_samples_split=3,\n",
      "           min_weight_fraction_leaf=0.0, n_estimators=47, n_jobs=None,\n",
      "           oob_score=False, random_state=None, verbose=0, warm_start=False)>\n",
      "\n",
      "16: GradientBoostingClassifier\n",
      "Fitting 10 folds for each of 100 candidates, totalling 1000 fits\n"
     ]
    },
    {
     "name": "stderr",
     "output_type": "stream",
     "text": [
      "[Parallel(n_jobs=-1)]: Done  25 tasks      | elapsed:    1.4s\n",
      "[Parallel(n_jobs=-1)]: Done 146 tasks      | elapsed:   17.1s\n",
      "[Parallel(n_jobs=-1)]: Done 349 tasks      | elapsed:   40.4s\n",
      "[Parallel(n_jobs=-1)]: Done 632 tasks      | elapsed:  1.2min\n",
      "[Parallel(n_jobs=-1)]: Done 1000 out of 1000 | elapsed:  2.4min finished\n",
      "/anaconda3/lib/python3.7/site-packages/sklearn/model_selection/_search.py:841: DeprecationWarning: The default of the `iid` parameter will change from True to False in version 0.22 and will be removed in 0.24. This will change numeric results when test-set sizes are unequal.\n",
      "  DeprecationWarning)\n"
     ]
    },
    {
     "name": "stdout",
     "output_type": "stream",
     "text": [
      "Checking if pickle directory exists...\n",
      "Directory exists\n",
      "Pickle file does exists...\n",
      "Saving model...\n",
      "Saved best_rs_GradientBoostingClassifier successfully!\n",
      "\n",
      "Loading best_rs_GradientBoostingClassifier from Pickle file...\n",
      "best_rs_GradientBoostingClassifier successfully loaded!\n",
      "\n",
      "GradientBoostingClassifier: <bound method BaseEstimator.get_params of GradientBoostingClassifier(criterion='friedman_mse', init=None,\n",
      "              learning_rate=0.6670512539636684, loss='deviance',\n",
      "              max_depth=13, max_features=5, max_leaf_nodes=None,\n",
      "              min_impurity_decrease=0.0, min_impurity_split=None,\n",
      "              min_samples_leaf=7, min_samples_split=2,\n",
      "              min_weight_fraction_leaf=0.0, n_estimators=177,\n",
      "              n_iter_no_change=None, presort='auto', random_state=None,\n",
      "              subsample=1.0, tol=0.0001, validation_fraction=0.1,\n",
      "              verbose=0, warm_start=False)>\n",
      "\n",
      "17: BaggingClassifier\n",
      "Fitting 10 folds for each of 100 candidates, totalling 1000 fits\n"
     ]
    },
    {
     "name": "stderr",
     "output_type": "stream",
     "text": [
      "[Parallel(n_jobs=-1)]: Using backend LokyBackend with 8 concurrent workers.\n",
      "[Parallel(n_jobs=-1)]: Done  34 tasks      | elapsed:    0.8s\n",
      "[Parallel(n_jobs=-1)]: Done 276 tasks      | elapsed:    5.7s\n",
      "[Parallel(n_jobs=-1)]: Done 682 tasks      | elapsed:   14.8s\n",
      "[Parallel(n_jobs=-1)]: Done 1000 out of 1000 | elapsed:   21.8s finished\n",
      "/anaconda3/lib/python3.7/site-packages/sklearn/model_selection/_search.py:841: DeprecationWarning: The default of the `iid` parameter will change from True to False in version 0.22 and will be removed in 0.24. This will change numeric results when test-set sizes are unequal.\n",
      "  DeprecationWarning)\n",
      "/anaconda3/lib/python3.7/site-packages/sklearn/model_selection/_search.py:271: UserWarning: The total space of parameters 1 is smaller than n_iter=100. Running 1 iterations. For exhaustive searches, use GridSearchCV.\n",
      "  % (grid_size, self.n_iter, grid_size), UserWarning)\n",
      "[Parallel(n_jobs=-1)]: Using backend LokyBackend with 8 concurrent workers.\n"
     ]
    },
    {
     "name": "stdout",
     "output_type": "stream",
     "text": [
      "Checking if pickle directory exists...\n",
      "Directory exists\n",
      "Pickle file does exists...\n",
      "Saving model...\n",
      "Saved best_rs_BaggingClassifier successfully!\n",
      "\n",
      "Loading best_rs_BaggingClassifier from Pickle file...\n",
      "best_rs_BaggingClassifier successfully loaded!\n",
      "\n",
      "BaggingClassifier: <bound method BaseEstimator.get_params of BaggingClassifier(base_estimator=None, bootstrap=True,\n",
      "         bootstrap_features=False, max_features=1.0, max_samples=1.0,\n",
      "         n_estimators=43, n_jobs=None, oob_score=False, random_state=None,\n",
      "         verbose=0, warm_start=False)>\n",
      "\n",
      "18: LinearDiscriminantAnalysis\n",
      "Fitting 10 folds for each of 1 candidates, totalling 10 fits\n",
      "Checking if pickle directory exists...\n",
      "Directory exists\n",
      "Pickle file does exists...\n",
      "Saving model...\n",
      "Saved best_rs_LinearDiscriminantAnalysis successfully!\n",
      "\n",
      "Loading best_rs_LinearDiscriminantAnalysis from Pickle file...\n",
      "best_rs_LinearDiscriminantAnalysis successfully loaded!\n",
      "\n",
      "LinearDiscriminantAnalysis: <bound method BaseEstimator.get_params of LinearDiscriminantAnalysis(n_components=None, priors=None, shrinkage=None,\n",
      "              solver='svd', store_covariance=False, tol=0.0001)>\n",
      "\n",
      "19: MLPClassifier\n",
      "Fitting 10 folds for each of 100 candidates, totalling 1000 fits\n"
     ]
    },
    {
     "name": "stderr",
     "output_type": "stream",
     "text": [
      "[Parallel(n_jobs=-1)]: Done   7 out of  10 | elapsed:    0.0s remaining:    0.0s\n",
      "[Parallel(n_jobs=-1)]: Done  10 out of  10 | elapsed:    0.0s finished\n",
      "/anaconda3/lib/python3.7/site-packages/sklearn/discriminant_analysis.py:388: UserWarning: Variables are collinear.\n",
      "  warnings.warn(\"Variables are collinear.\")\n",
      "[Parallel(n_jobs=-1)]: Using backend LokyBackend with 8 concurrent workers.\n",
      "[Parallel(n_jobs=-1)]: Done  25 tasks      | elapsed:    7.5s\n",
      "[Parallel(n_jobs=-1)]: Done 146 tasks      | elapsed:  1.0min\n",
      "[Parallel(n_jobs=-1)]: Done 349 tasks      | elapsed:  2.5min\n",
      "[Parallel(n_jobs=-1)]: Done 632 tasks      | elapsed:  4.9min\n",
      "[Parallel(n_jobs=-1)]: Done 1000 out of 1000 | elapsed:  7.8min finished\n",
      "/anaconda3/lib/python3.7/site-packages/sklearn/model_selection/_search.py:841: DeprecationWarning: The default of the `iid` parameter will change from True to False in version 0.22 and will be removed in 0.24. This will change numeric results when test-set sizes are unequal.\n",
      "  DeprecationWarning)\n"
     ]
    },
    {
     "name": "stdout",
     "output_type": "stream",
     "text": [
      "Checking if pickle directory exists...\n",
      "Directory exists\n",
      "Pickle file does exists...\n",
      "Saving model...\n",
      "Saved best_rs_MLPClassifier successfully!\n",
      "\n",
      "Loading best_rs_MLPClassifier from Pickle file...\n",
      "best_rs_MLPClassifier successfully loaded!\n",
      "\n",
      "MLPClassifier: <bound method BaseEstimator.get_params of MLPClassifier(activation='relu', alpha=0.42390546485720554, batch_size='auto',\n",
      "       beta_1=0.9, beta_2=0.999, early_stopping=False, epsilon=1e-08,\n",
      "       hidden_layer_sizes=325, learning_rate='constant',\n",
      "       learning_rate_init=0.001, max_iter=200, momentum=0.9,\n",
      "       n_iter_no_change=10, nesterovs_momentum=True, power_t=0.5,\n",
      "       random_state=None, shuffle=True, solver='adam', tol=0.0001,\n",
      "       validation_fraction=0.1, verbose=False, warm_start=True)>\n",
      "\n"
     ]
    },
    {
     "name": "stderr",
     "output_type": "stream",
     "text": [
      "/anaconda3/lib/python3.7/site-packages/sklearn/neural_network/multilayer_perceptron.py:562: ConvergenceWarning: Stochastic Optimizer: Maximum iterations (200) reached and the optimization hasn't converged yet.\n",
      "  % self.max_iter, ConvergenceWarning)\n"
     ]
    }
   ],
   "source": [
    "best_col = ['Clf Name', 'Best Clf Parameters', 'Best Clf Accuracy Score'] \n",
    "best_compare_rs = pd.DataFrame(columns = best_col)\n",
    "          \n",
    "          \n",
    "row=0\n",
    "\n",
    "for clf, param in zip(clf_options, param_option_rs): \n",
    "    \n",
    "    clf_name = clf.__class__.__name__\n",
    "    best_compare_rs.loc[row, 'Clf Name'] = clf_name\n",
    "    \n",
    "    print(\"{}: {}\".format(row, clf_name))\n",
    "    \n",
    "    \n",
    "    #model_grid(clf, clf_name, param)\n",
    "    model_rand_gs(clf, clf_name, param)\n",
    "   \n",
    "    \n",
    "    best_score = max(np.loadtxt((PICKLE_PATH+\"/best_score_rs_\"+str(clf_name)+\".txt\"), dtype=float))\n",
    "    best_clf = load_pickle(\"best_rs_\"+str(clf_name))\n",
    "    \n",
    "    print(\"{}: {}\\n\".format(clf_name, best_clf.get_params))\n",
    "        \n",
    "    best_compare_rs.loc[row, 'Best Clf Parameters'] = str(best_clf.get_params())\n",
    "    best_compare_rs.loc[row, 'Best Clf Accuracy Score'] = str(best_score)\n",
    "    \n",
    "    row +=1\n",
    "                    "
   ]
  },
  {
   "cell_type": "code",
   "execution_count": 52,
   "metadata": {
    "scrolled": true
   },
   "outputs": [
    {
     "data": {
      "text/html": [
       "<div>\n",
       "<style scoped>\n",
       "    .dataframe tbody tr th:only-of-type {\n",
       "        vertical-align: middle;\n",
       "    }\n",
       "\n",
       "    .dataframe tbody tr th {\n",
       "        vertical-align: top;\n",
       "    }\n",
       "\n",
       "    .dataframe thead th {\n",
       "        text-align: right;\n",
       "    }\n",
       "</style>\n",
       "<table border=\"1\" class=\"dataframe\">\n",
       "  <thead>\n",
       "    <tr style=\"text-align: right;\">\n",
       "      <th></th>\n",
       "      <th>Clf Name</th>\n",
       "      <th>Best Clf Parameters</th>\n",
       "      <th>Best Clf Accuracy Score</th>\n",
       "    </tr>\n",
       "  </thead>\n",
       "  <tbody>\n",
       "    <tr>\n",
       "      <th>15</th>\n",
       "      <td>ExtraTreesClassifier</td>\n",
       "      <td>{'bootstrap': False, 'class_weight': None, 'cr...</td>\n",
       "      <td>0.836139</td>\n",
       "    </tr>\n",
       "    <tr>\n",
       "      <th>17</th>\n",
       "      <td>BaggingClassifier</td>\n",
       "      <td>{'base_estimator': None, 'bootstrap': True, 'b...</td>\n",
       "      <td>0.835017</td>\n",
       "    </tr>\n",
       "    <tr>\n",
       "      <th>13</th>\n",
       "      <td>RandomForestClassifier</td>\n",
       "      <td>{'bootstrap': True, 'class_weight': None, 'cri...</td>\n",
       "      <td>0.835017</td>\n",
       "    </tr>\n",
       "    <tr>\n",
       "      <th>7</th>\n",
       "      <td>RidgeClassifier</td>\n",
       "      <td>{'alpha': 0.2555812234059024, 'class_weight': ...</td>\n",
       "      <td>0.83165</td>\n",
       "    </tr>\n",
       "    <tr>\n",
       "      <th>0</th>\n",
       "      <td>LinearSVC</td>\n",
       "      <td>{'C': 1.1353133343719801, 'class_weight': None...</td>\n",
       "      <td>0.830527</td>\n",
       "    </tr>\n",
       "    <tr>\n",
       "      <th>1</th>\n",
       "      <td>SVC</td>\n",
       "      <td>{'C': 5.692764792921572, 'cache_size': 200, 'c...</td>\n",
       "      <td>0.830527</td>\n",
       "    </tr>\n",
       "    <tr>\n",
       "      <th>18</th>\n",
       "      <td>LinearDiscriminantAnalysis</td>\n",
       "      <td>{'n_components': None, 'priors': None, 'shrink...</td>\n",
       "      <td>0.829405</td>\n",
       "    </tr>\n",
       "    <tr>\n",
       "      <th>3</th>\n",
       "      <td>LogisticRegression</td>\n",
       "      <td>{'C': 0.7902345776553784, 'class_weight': None...</td>\n",
       "      <td>0.829405</td>\n",
       "    </tr>\n",
       "    <tr>\n",
       "      <th>5</th>\n",
       "      <td>PassiveAggressiveClassifier</td>\n",
       "      <td>{'C': 0.023667291678445643, 'average': False, ...</td>\n",
       "      <td>0.826038</td>\n",
       "    </tr>\n",
       "    <tr>\n",
       "      <th>11</th>\n",
       "      <td>DecisionTreeClassifier</td>\n",
       "      <td>{'class_weight': None, 'criterion': 'entropy',...</td>\n",
       "      <td>0.823793</td>\n",
       "    </tr>\n",
       "    <tr>\n",
       "      <th>19</th>\n",
       "      <td>MLPClassifier</td>\n",
       "      <td>{'activation': 'relu', 'alpha': 0.423905464857...</td>\n",
       "      <td>0.823793</td>\n",
       "    </tr>\n",
       "    <tr>\n",
       "      <th>12</th>\n",
       "      <td>KNeighborsClassifier</td>\n",
       "      <td>{'algorithm': 'auto', 'leaf_size': 88, 'metric...</td>\n",
       "      <td>0.820426</td>\n",
       "    </tr>\n",
       "    <tr>\n",
       "      <th>2</th>\n",
       "      <td>NuSVC</td>\n",
       "      <td>{'cache_size': 200, 'class_weight': None, 'coe...</td>\n",
       "      <td>0.817059</td>\n",
       "    </tr>\n",
       "    <tr>\n",
       "      <th>8</th>\n",
       "      <td>GaussianProcessClassifier</td>\n",
       "      <td>{'copy_X_train': True, 'kernel': None, 'max_it...</td>\n",
       "      <td>0.811448</td>\n",
       "    </tr>\n",
       "    <tr>\n",
       "      <th>16</th>\n",
       "      <td>GradientBoostingClassifier</td>\n",
       "      <td>{'criterion': 'friedman_mse', 'init': None, 'l...</td>\n",
       "      <td>0.810325</td>\n",
       "    </tr>\n",
       "    <tr>\n",
       "      <th>4</th>\n",
       "      <td>SGDClassifier</td>\n",
       "      <td>{'alpha': 0.38481882065498585, 'average': Fals...</td>\n",
       "      <td>0.799102</td>\n",
       "    </tr>\n",
       "    <tr>\n",
       "      <th>9</th>\n",
       "      <td>BernoulliNB</td>\n",
       "      <td>{'alpha': 0.2258438859620728, 'binarize': 0.55...</td>\n",
       "      <td>0.794613</td>\n",
       "    </tr>\n",
       "    <tr>\n",
       "      <th>14</th>\n",
       "      <td>AdaBoostClassifier</td>\n",
       "      <td>{'algorithm': 'SAMME.R', 'base_estimator__clas...</td>\n",
       "      <td>0.780022</td>\n",
       "    </tr>\n",
       "    <tr>\n",
       "      <th>6</th>\n",
       "      <td>Perceptron</td>\n",
       "      <td>{'alpha': 25.48326241018583, 'class_weight': N...</td>\n",
       "      <td>0.747475</td>\n",
       "    </tr>\n",
       "    <tr>\n",
       "      <th>10</th>\n",
       "      <td>GaussianNB</td>\n",
       "      <td>{'priors': None, 'var_smoothing': 2.8089308015...</td>\n",
       "      <td>0.709315</td>\n",
       "    </tr>\n",
       "  </tbody>\n",
       "</table>\n",
       "</div>"
      ],
      "text/plain": [
       "                       Clf Name  \\\n",
       "15         ExtraTreesClassifier   \n",
       "17            BaggingClassifier   \n",
       "13       RandomForestClassifier   \n",
       "7               RidgeClassifier   \n",
       "0                     LinearSVC   \n",
       "1                           SVC   \n",
       "18   LinearDiscriminantAnalysis   \n",
       "3            LogisticRegression   \n",
       "5   PassiveAggressiveClassifier   \n",
       "11       DecisionTreeClassifier   \n",
       "19                MLPClassifier   \n",
       "12         KNeighborsClassifier   \n",
       "2                         NuSVC   \n",
       "8     GaussianProcessClassifier   \n",
       "16   GradientBoostingClassifier   \n",
       "4                 SGDClassifier   \n",
       "9                   BernoulliNB   \n",
       "14           AdaBoostClassifier   \n",
       "6                    Perceptron   \n",
       "10                   GaussianNB   \n",
       "\n",
       "                                  Best Clf Parameters Best Clf Accuracy Score  \n",
       "15  {'bootstrap': False, 'class_weight': None, 'cr...                0.836139  \n",
       "17  {'base_estimator': None, 'bootstrap': True, 'b...                0.835017  \n",
       "13  {'bootstrap': True, 'class_weight': None, 'cri...                0.835017  \n",
       "7   {'alpha': 0.2555812234059024, 'class_weight': ...                 0.83165  \n",
       "0   {'C': 1.1353133343719801, 'class_weight': None...                0.830527  \n",
       "1   {'C': 5.692764792921572, 'cache_size': 200, 'c...                0.830527  \n",
       "18  {'n_components': None, 'priors': None, 'shrink...                0.829405  \n",
       "3   {'C': 0.7902345776553784, 'class_weight': None...                0.829405  \n",
       "5   {'C': 0.023667291678445643, 'average': False, ...                0.826038  \n",
       "11  {'class_weight': None, 'criterion': 'entropy',...                0.823793  \n",
       "19  {'activation': 'relu', 'alpha': 0.423905464857...                0.823793  \n",
       "12  {'algorithm': 'auto', 'leaf_size': 88, 'metric...                0.820426  \n",
       "2   {'cache_size': 200, 'class_weight': None, 'coe...                0.817059  \n",
       "8   {'copy_X_train': True, 'kernel': None, 'max_it...                0.811448  \n",
       "16  {'criterion': 'friedman_mse', 'init': None, 'l...                0.810325  \n",
       "4   {'alpha': 0.38481882065498585, 'average': Fals...                0.799102  \n",
       "9   {'alpha': 0.2258438859620728, 'binarize': 0.55...                0.794613  \n",
       "14  {'algorithm': 'SAMME.R', 'base_estimator__clas...                0.780022  \n",
       "6   {'alpha': 25.48326241018583, 'class_weight': N...                0.747475  \n",
       "10  {'priors': None, 'var_smoothing': 2.8089308015...                0.709315  "
      ]
     },
     "execution_count": 52,
     "metadata": {},
     "output_type": "execute_result"
    }
   ],
   "source": [
    "#Random Grid-search\n",
    "best_compare_rs.sort_values(by = 'Best Clf Accuracy Score', ascending = False, inplace = True)\n",
    "best_compare_rs\n"
   ]
  },
  {
   "cell_type": "code",
   "execution_count": null,
   "metadata": {},
   "outputs": [],
   "source": [
    "#Parameters of classifiers (Grid Search):\n",
    "\n",
    "#Linear SVC\n",
    "lin_svc_param = {\n",
    "    'loss' : ['hinge','squared_hinge'],\n",
    "    'C' : [1, 2, 5, 10]\n",
    "}\n",
    "\n",
    "#SVC\n",
    "svc_param = {\n",
    "    'C' : [1, 2, 5, 10],\n",
    "    'kernel' : ['linear', 'rbf'],\n",
    "    'gamma' : [ 0.001, 0.01, 0.1, 1]\n",
    "}\n",
    "\n",
    "#NuSVC\n",
    "svc_param = {\n",
    "    'kernel' : ['linear', 'rbf'],\n",
    "    'gamma' : [ 0.001, 0.01, 0.1, 1]\n",
    "}\n",
    "\n",
    "#Logistic Regression\n",
    "log_reg_param = {\n",
    "    'penalty' : ['l1', 'l2'],\n",
    "    'C': [1, 2, 5, 10]\n",
    "}\n",
    "\n",
    "#Decision Tree Classifier\n",
    "tree_param = {\n",
    "    'criterion' : ['gini', 'entropy'],\n",
    "    'splitter' : ['best', 'random'],\n",
    "    'max_depth' : [1, 2, 3, 5],\n",
    "    'min_samples_split' : [2, 5, 10],\n",
    "    'min_samples_leaf' : [1, 3, 10],\n",
    "    'max_features' : [1, 5, 10]\n",
    "}\n",
    "\n",
    "#Random Forest Classifier\n",
    "forest_param = {\n",
    "    'n_estimators' : [10, 50, 100],\n",
    "    'criterion' : ['gini', 'entropy'],\n",
    "    'max_depth' : [1, 2, 5],\n",
    "    'min_samples_split' : [2, 5, 10],\n",
    "    'min_samples_leaf' : [1, 3, 10],\n",
    "    'max_features' : [1, 5, 10]\n",
    "}\n",
    "\n",
    "#SGDClassifier\n",
    "SGDC_param = {\n",
    "    'loss' : ['hinge','squared_hinge', 'perceptron'],\n",
    "    'penalty' : ['l1', 'l2'],\n",
    "    'alpha' : [0.001, 0.01, 0.1, 1],\n",
    "    'warm_start' : [True, False]\n",
    "}\n",
    "\n",
    "#K-Neighbors Classifier\n",
    "k_neigh_param = {\n",
    "    'n_neighbors': [3, 4, 5, 10],\n",
    "    'weights' : ['uniform','distance'],\n",
    "    'algorithm' : ['auto', 'ball_tree', 'kd_tree', 'brute'],\n",
    "    'leaf_size' : [2, 10, 50, 100],\n",
    "    'p' : [1, 2]\n",
    "}\n",
    "\n",
    "#AdaBoost Classifier\n",
    "ada_param = {\n",
    "    'base_estimator__criterion' : ['gini', 'entropy'],\n",
    "    'base_estimator__splitter' : ['best', 'random'],\n",
    "    'n_estimators' : [1, 2, 5, 10, 50],\n",
    "    'learning_rate' : [0.001, 0.01, 0.1, 0.5, 1],\n",
    "    'algorithm' : ['SAMME', 'SAMME.R']\n",
    "    \n",
    "}\n",
    "\n",
    "#Extra Trees Classifier\n",
    "extra_tree_param = {\n",
    "    'n_estimators' : [100, 200, 300, 500],\n",
    "    'criterion' : ['gini', 'entropy'],\n",
    "    'min_samples_split' : [2, 5, 10],\n",
    "    'min_samples_leaf' : [1, 5,10],\n",
    "    'max_features' : [1, 5, 10]    \n",
    "    \n",
    "}\n",
    "\n",
    "#Gradient Boosting Classifier\n",
    "grad_boost_param = {\n",
    "    'loss' : ['deviance', 'exponential'],\n",
    "    'learning_rate' : [0.01, 0.1, 1],\n",
    "    'n_estimators' : [100, 200],\n",
    "    'min_samples_split' : [2, 5, 10],\n",
    "    'min_samples_leaf' : [1, 10, 100],\n",
    "    'max_depth': [3, 5, 10],\n",
    "    'max_features': [0.1, 0.3]\n",
    "    \n",
    "}   \n",
    "\n",
    "               \n",
    "                \n",
    "param_option_gs = [\n",
    "    lin_svc_param, #-\n",
    "    svc_param, #-\n",
    "    nuSVC_param, #-\n",
    "    log_reg_param, #-\n",
    "    SGDC_param, #-\n",
    "    pass_param,\n",
    "    perc_param,\n",
    "    ridge_param,\n",
    "    gaus_param,\n",
    "    bernNB_param,\n",
    "    guasNB_param,\n",
    "    tree_param,\n",
    "    k_neigh_param,\n",
    "    forest_param,\n",
    "    ada_param,\n",
    "    extra_tree_param,\n",
    "    grad_boost_param,\n",
    "    bag_param,\n",
    "    linDes_param,\n",
    "    MLPC_param\n",
    "]"
   ]
  },
  {
   "cell_type": "code",
   "execution_count": null,
   "metadata": {},
   "outputs": [],
   "source": [
    "\n",
    "def model_grid(clf, name_clf, clf_param, lp=load_pickle): \n",
    "\n",
    "    gs_clf = GridSearchCV(clf, param_grid=clf_param, cv=cv_split, \n",
    "                          verbose=2, n_jobs=-1, scoring='accuracy')\n",
    "    \n",
    "    gs_clf.fit(X_train, y_train)\n",
    "    \n",
    "    best_est = gs_clf.best_estimator_\n",
    "    best_sco = gs_clf.best_score_ \n",
    "    \n",
    "    text_check = os.path.isfile(PICKLE_PATH+\"/best_score_gs_\"+str(name_clf)+\".txt\")\n",
    "    \n",
    "    if pickle_exist(\"best_gs_\"+str(name_clf)) and text_check and (lp==True):\n",
    "        #load current best score\n",
    "        prev_best_score = max(np.loadtxt((PICKLE_PATH+\"/best_score_gs_\"+str(name_clf)+\".txt\"), dtype=float))\n",
    "\n",
    "        if best_sco > prev_best_score:\n",
    "            temp = [best_sco, best_sco]\n",
    "            np.savetxt(PICKLE_PATH+\"/best_score_gs_\"+str(name_clf)+\".txt\", temp, fmt='%f')\n",
    "            save_pickle(\"best_gs_\"+str(name_clf), best_est)\n",
    "        else:\n",
    "            #load in better parameters\n",
    "            best_sco = max(np.loadtxt(PICKLE_PATH+\"/best_score_gs_\"+str(name_clf)+\".txt\", dtype=float))\n",
    "            best_est = load_pickle(\"best_gs_\"+str(name_clf))\n",
    "    else:\n",
    "        #make pickles if dont exist\n",
    "        temp = [best_sco, best_sco]\n",
    "        np.savetxt(PICKLE_PATH+\"/best_score_gs_\"+str(name_clf)+\".txt\", temp, fmt='%f')\n",
    "        save_pickle(\"best_gs_\"+str(name_clf), best_est)\n",
    "\n",
    "    \n",
    "    "
   ]
  },
  {
   "cell_type": "code",
   "execution_count": null,
   "metadata": {},
   "outputs": [],
   "source": [
    "best_col = ['Clf Name', 'Best Clf Parameters', 'Best Clf Accuracy Score'] \n",
    "best_compare_gs = pd.DataFrame(columns = best_col)\n",
    "          \n",
    "          \n",
    "row=0\n",
    "\n",
    "for clf, param in zip(clf_options, param_option_gs): \n",
    "\n",
    "    \n",
    "    clf_name = clf.__class__.__name__\n",
    "    best_compare_rs.loc[row, 'Clf Name'] = clf_name\n",
    "    \n",
    "    print(\"{}: {}\".format(row, clf_name))\n",
    "    \n",
    "    model_grid(clf, clf_name, param)\n",
    "    \n",
    "    best_score = max(np.loadtxt((PICKLE_PATH+\"/best_score_gs_\"+str(clf_name)+\".txt\"), dtype=float))\n",
    "    best_clf = load_pickle(\"best_gs_\"+str(clf_name))\n",
    "    \n",
    "    best_compare_gs.loc[row, 'Best Clf Parameters'] = str(best_clf.get_params())\n",
    "    best_compare_gs.loc[row, 'Best Clf Accuracy Score'] = str(best_score)\n",
    "    \n",
    "    row +=1"
   ]
  },
  {
   "cell_type": "code",
   "execution_count": null,
   "metadata": {},
   "outputs": [],
   "source": [
    "#After Gridseach\n",
    "best_compare_gs.sort_values(by = 'Best Clf Accuracy Score', ascending = False, inplace = True)\n",
    "best_compare_gs"
   ]
  },
  {
   "cell_type": "code",
   "execution_count": null,
   "metadata": {},
   "outputs": [],
   "source": [
    "def load_best_clf(clf):\n",
    "    clf_name = clf.__class__.__name__\n",
    "    \n",
    "    gs_score = max(np.loadtxt((PICKLE_PATH+\"/best_score_gs_\"+str(clf_name)+\".txt\"), dtype=float))\n",
    "    rs_score = max(np.loadtxt((PICKLE_PATH+\"/best_score_rs_\"+str(clf_name)+\".txt\"), dtype=float))\n",
    "    \n",
    "    if gs_score > rs_score:\n",
    "        return load_pickle(\"best_gs_\"+str(clf_name))\n",
    "    else:\n",
    "        return load_pickle(\"best_rs_\"+str(clf_name))\n",
    "\n",
    "    \n",
    "    \n",
    "def load_best_score(clf):\n",
    "    clf_name = clf.__class__.__name__\n",
    "    \n",
    "    gs_score = max(np.loadtxt((PICKLE_PATH+\"/best_score_gs_\"+str(clf_name)+\".txt\"), dtype=float))\n",
    "    rs_score = max(np.loadtxt((PICKLE_PATH+\"/best_score_rs_\"+str(clf_name)+\".txt\"), dtype=float))\n",
    "    \n",
    "    if gs_score > rs_score:\n",
    "        return gs_score\n",
    "    else:\n",
    "        return rs_score"
   ]
  },
  {
   "cell_type": "code",
   "execution_count": null,
   "metadata": {},
   "outputs": [],
   "source": [
    "best_col = ['Clf Name', 'Best Clf Parameters', 'Best Clf Accuracy Score'] \n",
    "best_rs_or_gs = pd.DataFrame(columns = best_col)\n",
    "row=0\n",
    "\n",
    "for clf in clf_options:\n",
    "    clf_name = clf.__class__.__name__\n",
    "    best_rs_or_gs.loc[row, 'Clf Name'] = clf_name\n",
    "    \n",
    "    best_clf  = load_best_clf(clf)\n",
    "    best_score = load_best_score(clf)\n",
    "    \n",
    "    best_rs_or_gs.loc[row, 'Best Clf Parameters'] = str(best_clf.get_params())\n",
    "    best_rs_or_gs.loc[row, 'Best Clf Accuracy Score'] = str(best_score)\n",
    "    \n",
    "    row +=1\n",
    "    \n",
    "best_rs_or_gs.sort_values(by = 'Best Clf Accuracy Score', ascending = False, inplace = True)\n",
    "best_rs_or_gs    "
   ]
  },
  {
   "cell_type": "code",
   "execution_count": null,
   "metadata": {},
   "outputs": [],
   "source": []
  },
  {
   "cell_type": "code",
   "execution_count": null,
   "metadata": {},
   "outputs": [],
   "source": []
  },
  {
   "cell_type": "code",
   "execution_count": null,
   "metadata": {},
   "outputs": [],
   "source": [
    "#Feature importance:\n",
    "\n",
    "#NOTE: add val set and retrain\n"
   ]
  },
  {
   "cell_type": "code",
   "execution_count": null,
   "metadata": {},
   "outputs": [],
   "source": [
    "split = StratifiedShuffleSplit(n_splits=1, test_size=0.2, random_state=42)\n",
    "\n",
    "for train_index, ver_index in split.split(Train, Train[\"Survived\"]):\n",
    "    Train_strat = Train.loc[train_index]\n",
    "    Ver_strat = Train.loc[ver_index]\n",
    "\n",
    "print(\"Training set: {} entries, Verificaiton set: {} entries\".format(len(Train_strat),len(Ver_strat)))"
   ]
  },
  {
   "cell_type": "code",
   "execution_count": null,
   "metadata": {},
   "outputs": [],
   "source": [
    "y_training = Train_strat[\"Survived\"].copy()\n",
    "X_tr = Train_strat.drop(\"Survived\", axis=1)\n",
    "X_training = full_pipe.fit_transform(X_tr)\n",
    "\n",
    "y_verification = Ver_strat[\"Survived\"].copy()\n",
    "X_ver = Ver_strat.drop(\"Survived\", axis=1)\n",
    "X_verification = full_pipe.fit_transform(X_ver)"
   ]
  },
  {
   "cell_type": "code",
   "execution_count": null,
   "metadata": {},
   "outputs": [],
   "source": [
    "#lin_svc = load_best_clf(clf_options[0])\n",
    "svc = load_best_clf(clf_options[1])\n",
    "log_reg = load_best_clf(clf_options[2])\n",
    "tree = load_best_clf(clf_options[3])\n",
    "forest = load_best_clf(clf_options[4])\n",
    "SGDC = load_best_clf(clf_options[5])\n",
    "knn = load_best_clf(clf_options[6])\n",
    "ada = load_best_clf(clf_options[7])\n",
    "etree = load_best_clf(clf_options[8])\n",
    "gradb = load_best_clf(clf_options[9])\n",
    "#XGBC = load_best_clf(clf_options[10])\n",
    "\n",
    "svc.set_params(probability=True)\n",
    "\n",
    "    \n",
    "est = [('lin_svc', lin_svc), ('svc', svc), ('log_reg', log_reg),\n",
    "       ('forest', forest), ('SGDC', SGDC), ('tree', tree),\n",
    "       ('ada', ada), ('etree', etree), ('knn', knn),\n",
    "       ('gradb', gradb)]#, ('XGBC', XGBC)]\n",
    "\n",
    "\n",
    "\n",
    "vote_clf = VotingClassifier(estimators=est, voting='hard')\n",
    "\n",
    "vote_clf.fit(X_training, y_training)\n"
   ]
  },
  {
   "cell_type": "code",
   "execution_count": null,
   "metadata": {},
   "outputs": [],
   "source": [
    "for clf in (lin_svc, svc, log_reg, forest, \n",
    "            SGDC, tree, ada, etree, knn, \n",
    "            gradb, vote_clf):#, XGBC, vote_clf):\n",
    "\n",
    "    clf.fit(X_training, y_training)\n",
    "    y_pred = clf.predict(X_verification)\n",
    "    \n",
    "    name = clf.__class__.__name__\n",
    "    score = accuracy_score(y_verification, y_pred)\n",
    "    \n",
    "    print(\"{}: {:.2f}%\".format(name, 100*score))"
   ]
  },
  {
   "cell_type": "code",
   "execution_count": null,
   "metadata": {},
   "outputs": [],
   "source": [
    "#fit to whole dataset\n",
    "vote_clf.fit(X_train, y_train)"
   ]
  },
  {
   "cell_type": "code",
   "execution_count": null,
   "metadata": {},
   "outputs": [],
   "source": [
    "for clf in (lin_svc, svc, log_reg, forest, \n",
    "            SGDC, tree, ada, etree, knn, \n",
    "            gradb, vote_clf):# XGBC, vote_clf):\n",
    "\n",
    "    clf.fit(X_train, y_train)\n",
    "    y_pred = clf.predict(X_train)\n",
    "    \n",
    "    name = clf.__class__.__name__\n",
    "    score = accuracy_score(y_train, y_pred)\n",
    "    \n",
    "    print(\"{}: {:.2f}%\".format(name, 100*score))"
   ]
  },
  {
   "cell_type": "code",
   "execution_count": null,
   "metadata": {},
   "outputs": [],
   "source": [
    "def make_csv(csv_name, save_loc=TITANIC_PATH):\n",
    "    curr_path = os.getcwd()\n",
    "    save_path = os.path.join(curr_path, save_loc)\n",
    "    os.chdir(save_path)\n",
    "    \n",
    "    max_i = 0\n",
    "    \n",
    "    len_name = len(csv_name)\n",
    "           \n",
    "    for file in glob.glob(csv_name+'*.csv'):\n",
    "        \n",
    "        file_name = file[:len(file)-4]\n",
    "        file_ver = file_name[len_name:]\n",
    "        \n",
    "        if int(file_ver) > max_i:\n",
    "            max_i = int(file_ver)\n",
    "        \n",
    "    new_ver = csv_name+str(max_i+1)+'.csv'\n",
    "        \n",
    "        \n",
    "        \n",
    "    os.chdir(curr_path)\n",
    "    \n",
    "    return os.path.join(save_path, new_ver)\n",
    "    "
   ]
  },
  {
   "cell_type": "code",
   "execution_count": null,
   "metadata": {},
   "outputs": [],
   "source": [
    "PassengerId = Test['PassengerId']\n",
    "\n",
    "Survived_pred = vote_clf.predict(X_test) \n",
    "\n",
    "\n",
    "Submission = pd.DataFrame({ 'PassengerId': PassengerId,\n",
    "                            'Survived': Survived_pred })\n",
    "\n",
    "name = \"Submission\"\n",
    "file_name = make_csv(name)\n",
    "\n",
    "Submission.to_csv(file_name, index=False)\n"
   ]
  },
  {
   "cell_type": "code",
   "execution_count": null,
   "metadata": {},
   "outputs": [],
   "source": [
    "Submission.head(5)"
   ]
  },
  {
   "cell_type": "code",
   "execution_count": null,
   "metadata": {},
   "outputs": [],
   "source": []
  },
  {
   "cell_type": "code",
   "execution_count": null,
   "metadata": {},
   "outputs": [],
   "source": []
  }
 ],
 "metadata": {
  "kernelspec": {
   "display_name": "Python 3",
   "language": "python",
   "name": "python3"
  },
  "language_info": {
   "codemirror_mode": {
    "name": "ipython",
    "version": 3
   },
   "file_extension": ".py",
   "mimetype": "text/x-python",
   "name": "python",
   "nbconvert_exporter": "python",
   "pygments_lexer": "ipython3",
   "version": "3.7.1"
  }
 },
 "nbformat": 4,
 "nbformat_minor": 2
}
