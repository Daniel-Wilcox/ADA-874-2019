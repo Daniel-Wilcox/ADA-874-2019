{
 "cells": [
  {
   "cell_type": "markdown",
   "metadata": {},
   "source": [
    "# Support Vector Machines\n",
    "\n",
    "## Daniel Wilcox: 19147414\n",
    "\n",
    "This example problem can be found within chapter 5 of the \"Hands-on Machine Learning with Scikit-Learn and TensorFlow\" by Aurélien Géron. \n",
    "\n",
    "This project will be investigating the theory behind support vector machines and how to implament them."
   ]
  },
  {
   "cell_type": "code",
   "execution_count": 1,
   "metadata": {},
   "outputs": [],
   "source": [
    "#General imports for operating system, unzip and URL's\n",
    "import os\n",
    "from six.moves import urllib\n",
    "from scipy.io import loadmat\n",
    "from sklearn.datasets import fetch_mldata\n",
    "import pickle\n",
    "\n",
    "#Graphics\n",
    "import matplotlib\n",
    "import matplotlib.pyplot as plt\n",
    "\n",
    "#Array Manipulation\n",
    "import numpy as np\n",
    "\n",
    "#Shuffles data to test/train sets that represent the original data\n",
    "from sklearn.model_selection import StratifiedShuffleSplit\n",
    "\n",
    "from sklearn.datasets import make_moons\n",
    "from sklearn import datasets\n",
    "\n",
    "from sklearn.preprocessing import StandardScaler\n",
    "from sklearn.svm import LinearSVC\n",
    "from sklearn.preprocessing import PolynomialFeatures\n",
    "from sklearn.svm import SVC\n",
    "from sklearn.linear_model import SGDClassifier\n",
    "from sklearn.multiclass import OneVsOneClassifier\n",
    "\n",
    "from sklearn.metrics import accuracy_score\n",
    "\n",
    "from sklearn.model_selection import RandomizedSearchCV\n",
    "from scipy.stats import reciprocal, uniform\n",
    "\n",
    "from sklearn.datasets import fetch_california_housing\n",
    "from sklearn.model_selection import train_test_split\n",
    "from sklearn.svm import LinearSVR\n",
    "from sklearn.metrics import mean_squared_error\n",
    "from sklearn.svm import SVR\n"
   ]
  },
  {
   "cell_type": "code",
   "execution_count": 2,
   "metadata": {},
   "outputs": [],
   "source": [
    "def notify(title, text):\n",
    "    os.system(\"\"\"\n",
    "              osascript -e 'display notification \"{}\" with title \"{}\"'\n",
    "              \"\"\".format(text, title))\n",
    "    os.system('osascript -e \"beep 1\"')\n",
    "    \n",
    "#notify(\"Python: Chapter 5\", \"Classifier is complete\")"
   ]
  },
  {
   "cell_type": "code",
   "execution_count": 3,
   "metadata": {},
   "outputs": [],
   "source": [
    "#The Location to save the models\n",
    "PICKLE_PATH = \"PickleModels/Chap5\""
   ]
  },
  {
   "cell_type": "code",
   "execution_count": 4,
   "metadata": {},
   "outputs": [],
   "source": [
    "#Pickle functions\n",
    "\n",
    "\n",
    "def save_pickle(model_name, model, pic_path=PICKLE_PATH):\n",
    "    print(\"Saving model...\")\n",
    "    \n",
    "    cwd = os.getcwd()\n",
    "    os.chdir(cwd+\"/\"+pic_path)\n",
    "        \n",
    "    f = open(model_name, \"wb\")\n",
    "    pickle.dump(model, f)\n",
    "    f.close()\n",
    "    \n",
    "    os.chdir(cwd)\n",
    "    print(\"Saved \"+model_name+\" successfully!\\n\")\n",
    "    return None\n",
    "    \n",
    "    \n",
    "\n",
    "def load_pickle(model_name, pic_path=PICKLE_PATH):\n",
    "    print(\"Loading \"+model_name+\" from Pickle file...\")\n",
    "    \n",
    "    cwd = os.getcwd()\n",
    "    os.chdir(cwd+\"/\"+pic_path)\n",
    "    \n",
    "    f = open(model_name, \"rb\")\n",
    "    p = pickle.load(f)\n",
    "    f.close()\n",
    "    \n",
    "    os.chdir(cwd)\n",
    "    print(model_name+\" successfully loaded!\\n\")\n",
    "    return p\n",
    "\n",
    "def pickle_exist(model_name, pic_path=PICKLE_PATH):\n",
    "    #check if pickle file exists\n",
    "    print(\"Checking if pickle directory exists...\")\n",
    "    if not os.path.isdir(pic_path):\n",
    "        os.makedirs(pic_path)\n",
    "        print(\"Directory does NOT exists\")\n",
    "        print(\"Creating directory\")\n",
    "    \n",
    "    else: \n",
    "        print(\"Directory exists\")\n",
    "        \n",
    "    if os.path.isfile(pic_path+\"/\"+model_name):\n",
    "        print(\"Pickle file does exists...\")\n",
    "        return True\n",
    "    else:\n",
    "        print(\"Pickle file does NOT exists...\")\n",
    "        return False\n",
    "    \n",
    "    \n",
    "\n",
    "#SAVING FILES WITH PICKLE\n",
    "#save_clf = open(\"name_clf.pickle\",\"wb\")\n",
    "#   save_clf: name of file variable (info on file created)\n",
    "#   open(\"name_clf.pickle\",\"wb\"): open file named \"name_clf.pickle\" (.pickle extension)\n",
    "#      \"wb\": write in bytes\n",
    "\n",
    "#pickle.dump(clf_want, save_clf)\n",
    "#   pickle.dump: dump contents of clf_want into file save_clf\n",
    "\n",
    "#save_clf.close()\n",
    "#   close the file\n",
    "\n",
    "#--------------------------------------------------------------\n",
    "\n",
    "#OPENING FILES WITH PICKLE\n",
    "#clf_file_want = open(\"name_clf.pickle\",\"rb\")\n",
    "#   clf_file_want: name of file variable (file is stored in here)\n",
    "#   open(\"name_clf.pickle\",\"rb\"): open the contents of \"name_clf.pickle\"\n",
    "#   \"rb\": read in bytes\n",
    "\n",
    "\n",
    "#clf_load_in = pickle.load(clf_file_want)\n",
    "#   clf_load_in: name of new classifier \n",
    "#   pickle.load(clf_file_want): load contents of file variable into classifier's variable\n",
    "\n",
    "\n",
    "#clf_load_in.close()\n",
    "#   close the file"
   ]
  },
  {
   "cell_type": "markdown",
   "metadata": {},
   "source": [
    "# Exercises\n",
    "1. What is the fundamental idea behind Support Vector Machines?\n",
    "2. What is a support vector?\n",
    "3. Why is it important to scale the inputs when using SVMs?\n",
    "4. Can an SVM classifier output a confidence score when it classifies an instance? What about a probability?\n",
    "5. Should you use the primal or the dual form of the SVM problem to train a model on a training set with millions of instances and hundreds of features?\n",
    "6. Say you trained an SVM classifier with an RBF kernel. It seems to underfit the training set: should you increase or decrease γ (gamma)? What about C?\n",
    "7. How should you set the QP parameters (H, f, A, and b) to solve the soft margin linear SVM classifier problem using an off-the-shelf QP solver?\n"
   ]
  },
  {
   "cell_type": "markdown",
   "metadata": {},
   "source": [
    "8. Train a LinearSVC on a linearly separable dataset. Then train an SVC and a SGDClassifier on the same dataset. See if you can get them to produce roughly the same model.\n"
   ]
  },
  {
   "cell_type": "code",
   "execution_count": 5,
   "metadata": {},
   "outputs": [],
   "source": [
    "iris = datasets.load_iris()\n",
    "\n",
    "#Petal length and Petal width\n",
    "X = iris[\"data\"][:, (2, 3)]\n",
    "\n",
    "#labels for all Iris-...\n",
    "y = iris[\"target\"]\n",
    "\n",
    "#Index's for iris-Setosa(0) and iris-Versicolor(1)\n",
    "index = (y == 0) | (y == 1)\n",
    "\n",
    "#new X and y (only iris-Versicolor and iris-Setosa)\n",
    "X_new = X[index]\n",
    "y_new = y[index]\n",
    "\n",
    "ind_set = (y_new == 0)\n",
    "ind_ver = (y_new == 1)\n",
    "\n",
    "X_set = X_new[ind_set]\n",
    "X_ver = X_new[ind_ver]\n"
   ]
  },
  {
   "cell_type": "code",
   "execution_count": 6,
   "metadata": {},
   "outputs": [
    {
     "data": {
      "image/png": "[encoded data removed]",
      "text/plain": [
       "<Figure size 432x288 with 1 Axes>"
      ]
     },
     "metadata": {
      "needs_background": "light"
     },
     "output_type": "display_data"
    }
   ],
   "source": [
    "plt.plot(X_ver[:, 0], X_ver[:, 1], \"go\", label=\"Iris-Versicolor\")\n",
    "plt.plot(X_set[:, 0], X_set[:, 1], \"bs\", label=\"Iris-Setosa\")\n",
    "plt.xlabel(\"Petal Length\")\n",
    "plt.ylabel(\"Petal Width\")\n",
    "plt.title(\"Linear Separable Data: Iris Dataset\")\n",
    "plt.legend(loc='upper left')\n",
    "plt.show()"
   ]
  },
  {
   "cell_type": "code",
   "execution_count": 7,
   "metadata": {},
   "outputs": [
    {
     "name": "stdout",
     "output_type": "stream",
     "text": [
      "Checking if pickle directory exists...\n",
      "Directory exists\n",
      "Pickle file does exists...\n",
      "Saving model...\n",
      "Saved lin_clf successfully!\n",
      "\n",
      "Checking if pickle directory exists...\n",
      "Directory exists\n",
      "Pickle file does exists...\n",
      "Loading svc_clf from Pickle file...\n",
      "svc_clf successfully loaded!\n",
      "\n",
      "Checking if pickle directory exists...\n",
      "Directory exists\n",
      "Pickle file does exists...\n",
      "Loading sgd_clf from Pickle file...\n",
      "sgd_clf successfully loaded!\n",
      "\n"
     ]
    }
   ],
   "source": [
    "C = 1\n",
    "m = len(X_new)\n",
    "\n",
    "#Scale data\n",
    "scale = StandardScaler()\n",
    "X_scaled = scale.fit_transform(X_new)\n",
    "\n",
    "#To create new model if pickle already even if pickle exists; load_pkl = False\n",
    "load_pkl = True\n",
    "\n",
    "    \n",
    "#Linear Support Vector Classifier\n",
    "if pickle_exist(\"lin_clf\") and load_pkl:\n",
    "    lin_clf = load_pickle(\"lin_clf\")\n",
    "else:\n",
    "    lin_clf = LinearSVC(loss=\"hinge\", C=C, \n",
    "                        random_state=42)\n",
    "    lin_clf.fit(X_scaled, y_new)\n",
    "    save_pickle(\"lin_clf\", lin_clf)\n",
    "\n",
    "#Support Vector Machine Classifier    \n",
    "if pickle_exist(\"svc_clf\") and load_pickle:\n",
    "    svc_clf = load_pickle(\"svc_clf\")\n",
    "else:\n",
    "    svc_clf = SVC(kernel=\"linear\",  C=C)\n",
    "    svc_clf.fit(X_scaled, y_new)\n",
    "    save_pickle(\"svc_clf\", svc_clf)\n",
    "\n",
    "#Stochastic Gradient Descent Classifier    \n",
    "if pickle_exist(\"sgd_clf\") and load_pickle:\n",
    "    sgd_clf = load_pickle(\"sgd_clf\")\n",
    "else:\n",
    "    sgd_clf = SGDClassifier(\n",
    "        loss=\"hinge\", alpha=1/(m*C), random_state=42)\n",
    "    sgd_clf.fit(X_scaled, y_new)\n",
    "    save_pickle(\"sgd_clf\", sgd_clf)\n"
   ]
  },
  {
   "cell_type": "code",
   "execution_count": 8,
   "metadata": {},
   "outputs": [
    {
     "name": "stdout",
     "output_type": "stream",
     "text": [
      "Classifiers predictions for the point: 3, 1\n",
      "Linear Classifier:\t [1]\n",
      "SVM Classifier:\t\t [1]\n",
      "SGD Classifier:\t\t [1]\n"
     ]
    }
   ],
   "source": [
    "point = [3, 1]\n",
    "ans1 = lin_clf.predict([point])\n",
    "ans2 = svc_clf.predict([point])\n",
    "ans3 = sgd_clf.predict([point])\n",
    "\n",
    "print(\"Classifiers predictions for the point: {}, {}\".format(point[0], point[1]))\n",
    "print(\"Linear Classifier:\\t\", ans1)\n",
    "print(\"SVM Classifier:\\t\\t\", ans2)\n",
    "print(\"SGD Classifier:\\t\\t\", ans3)"
   ]
  },
  {
   "cell_type": "code",
   "execution_count": 9,
   "metadata": {},
   "outputs": [
    {
     "name": "stdout",
     "output_type": "stream",
     "text": [
      "\t\t\t   Intercept   |      Coefficients\n",
      "---------------------------------------|-----------------------------\n",
      "Linear Classifier:\t [0.29588877] | [[1.0607458  1.00177835]]\n",
      "SVM Classifier:\t\t [0.32182521] | [[1.04342638 0.94747825]]\n",
      "SGD Classifier:\t\t [0.32737966] | [[1.2072264 1.0771503]]\n"
     ]
    }
   ],
   "source": [
    "print(\"\\t\\t\\t   Intercept   |      Coefficients\")\n",
    "print(\"---------------------------------------|-----------------------------\")\n",
    "print(\"Linear Classifier:\\t\", lin_clf.intercept_,\"|\", lin_clf.coef_)\n",
    "print(\"SVM Classifier:\\t\\t\", svc_clf.intercept_,\"|\", svc_clf.coef_)\n",
    "print(\"SGD Classifier:\\t\\t\", sgd_clf.intercept_,\"|\", sgd_clf.coef_)"
   ]
  },
  {
   "cell_type": "code",
   "execution_count": 10,
   "metadata": {},
   "outputs": [],
   "source": [
    "#Equation:    (w^t).x + b = y_hat\n",
    "#On the line: w0*x0 + w1*x1 + b = 0\n",
    "#To get y = mx + c, let x1 = y, and x0 = x\n",
    "\n",
    "#Thus: x1 = -w0/w1 * x0 - b/w1\n",
    "#       y = (m     * x)  +  c\n",
    "\n",
    "lin_m = -lin_clf.coef_[0, 0]/lin_clf.coef_[0, 1]\n",
    "lin_c = -lin_clf.intercept_[0]/lin_clf.coef_[0, 1]\n",
    "\n",
    "svc_m = -svc_clf.coef_[0, 0]/svc_clf.coef_[0, 1]\n",
    "svc_c = -svc_clf.intercept_[0]/svc_clf.coef_[0, 1]\n",
    "\n",
    "sgd_m = -sgd_clf.coef_[0, 0]/sgd_clf.coef_[0, 1]\n",
    "sgd_c = -sgd_clf.intercept_[0]/sgd_clf.coef_[0, 1]   "
   ]
  },
  {
   "cell_type": "code",
   "execution_count": 11,
   "metadata": {},
   "outputs": [],
   "source": [
    "x_line = [-6, 6]\n",
    "\n",
    "# Transform back to original scale: \n",
    "lin_line = scale.inverse_transform([[x_line[0], x_line[0] * lin_m + lin_c],\n",
    "                                    [x_line[1], x_line[1] * lin_m + lin_c]])\n",
    "\n",
    "svc_line = scale.inverse_transform([[x_line[0], x_line[0] * svc_m + svc_c], \n",
    "                                    [x_line[1], x_line[1] * svc_m + svc_c]])\n",
    "\n",
    "sgd_line = scale.inverse_transform([[x_line[0], x_line[0] * sgd_m + sgd_c], \n",
    "                                    [x_line[1], x_line[1] * sgd_m + sgd_c]])\n"
   ]
  },
  {
   "cell_type": "code",
   "execution_count": 12,
   "metadata": {},
   "outputs": [
    {
     "data": {
      "image/png": "[encoded data removed]",
      "text/plain": [
       "<Figure size 432x288 with 1 Axes>"
      ]
     },
     "metadata": {
      "needs_background": "light"
     },
     "output_type": "display_data"
    }
   ],
   "source": [
    "plt.plot(X_ver[:, 0], X_ver[:, 1], \"go\", label=\"Iris-Versicolor\")\n",
    "plt.plot(X_set[:, 0], X_set[:, 1], \"bs\", label=\"Iris-Setosa\")\n",
    "\n",
    "plt.plot(lin_line[:, 0], lin_line[:, 1], \"g-\", label=\"Linear SVC\")\n",
    "plt.plot(svc_line[:, 0], svc_line[:, 1], \"b-\", label=\"SVC\")\n",
    "plt.plot(sgd_line[:, 0], sgd_line[:, 1], \"r-\", label=\"SGDClassifier\")\n",
    "\n",
    "plt.xlabel(\"Petal Length\")\n",
    "plt.ylabel(\"Petal Width\")\n",
    "plt.title(\"Linear Separable Data: Iris Dataset\")\n",
    "plt.axis([0.5, 5, 0, 2])\n",
    "plt.legend(loc='upper left')\n",
    "plt.show()\n",
    "\n"
   ]
  },
  {
   "cell_type": "markdown",
   "metadata": {},
   "source": [
    "9. Train an SVM classifier on the MNIST dataset. Since SVM classifiers are binary classifiers, you will need to use one-versus-all to classify all 10 digits. You may want to tune the hyperparameters using small validation sets to speed up the process. What accuracy can you reach?"
   ]
  },
  {
   "cell_type": "code",
   "execution_count": 13,
   "metadata": {},
   "outputs": [],
   "source": [
    "#The Location to save the dataset\n",
    "MNIST_PATH = \"datasets/MNIST\"\n",
    "MNIST_URL = \"https://github.com/amplab/datascience-sp14/raw/master/lab7/mldata/mnist-original.mat\"\n",
    "MNIST_MAT = \"/mnist-original.mat\""
   ]
  },
  {
   "cell_type": "code",
   "execution_count": 14,
   "metadata": {},
   "outputs": [],
   "source": [
    "def load_MNIST_data(mnist_path=MNIST_PATH, mnist_mat=MNIST_MAT):\n",
    "        mnist_raw = loadmat(mnist_path+mnist_mat)\n",
    "        mnist = {\"data\": mnist_raw[\"data\"].T,\n",
    "                 \"target\": mnist_raw[\"label\"][0],\n",
    "                 \"Col_names\": [\"target\", \"data\"],\n",
    "                 \"DESCR\": \"mldata.org dataset: mnist-original\",\n",
    "                }\n",
    "        print(\"Data Successfully extracted from mnist.mat!\")\n",
    "        return mnist\n",
    "        \n",
    "    \n",
    "def get_MNIST_data(mnist_path=MNIST_PATH, mnist_url=MNIST_URL, mnist_mat=MNIST_MAT):\n",
    "    \n",
    "    print(\"Checking if directory exists...\")\n",
    "    if not os.path.isdir(mnist_path):\n",
    "        os.makedirs(mnist_path)\n",
    "        print(\"Creating directory\")\n",
    "    \n",
    "    else: \n",
    "        print(\"Directory exists\")\n",
    "        \n",
    "        #------------------------------------------------------------------\n",
    "        #uncomment if connected to internet\n",
    "        #try:\n",
    "            #print(\"\\nAttempting to get MNIST data from mldata.org ...\")\n",
    "            #mnist = fetch_mldata('MNIST original')\n",
    "            #print(\"\\nSuccess!\")\n",
    "            #return mnist\n",
    "    \n",
    "        #except urllib.error.HTTPError as ex:\n",
    "            #print(\"\\nCan't reach mldata.org, attempting alternative...\")\n",
    "            #print(\"Checking if mnist.mat file exists...\")  \n",
    "            \n",
    "        #------------------------------------------------------------------\n",
    "        #followig if, else should fall under 'except' \n",
    "            \n",
    "        if os.path.isfile(mnist_path+mnist_mat):\n",
    "            print(\"mnist.mat file does exists...\")\n",
    "            print(\"extracting data from mnist.mat...\")\n",
    "            \n",
    "            mnist = load_MNIST_data(mnist_path, mnist_mat)\n",
    "            print(\"\\nSuccess!\")\n",
    "            return mnist\n",
    "        \n",
    "        else:\n",
    "            print(\"mnist.mat file doesn't exists...\")\n",
    "            print(\"downloading mnist.mat file...\")\n",
    "            url_response = urllib.request.urlopen(mnist_url)\n",
    "            \n",
    "            print(\"\\nCreating .mat file\")\n",
    "            with open(mnist_path+mnist_mat, \"wb\") as f:\n",
    "                contents = url_response.read()\n",
    "                f.write(contents)\n",
    "            mnist = load_MNIST_data(mnist_path, mnist_mat)\n",
    "            print(\"\\nSuccess!\")\n",
    "            return mnist"
   ]
  },
  {
   "cell_type": "code",
   "execution_count": 15,
   "metadata": {},
   "outputs": [
    {
     "name": "stdout",
     "output_type": "stream",
     "text": [
      "Checking if directory exists...\n",
      "Directory exists\n",
      "mnist.mat file does exists...\n",
      "extracting data from mnist.mat...\n",
      "Data Successfully extracted from mnist.mat!\n",
      "\n",
      "Success!\n"
     ]
    },
    {
     "data": {
      "text/plain": [
       "{'data': array([[0, 0, 0, ..., 0, 0, 0],\n",
       "        [0, 0, 0, ..., 0, 0, 0],\n",
       "        [0, 0, 0, ..., 0, 0, 0],\n",
       "        ...,\n",
       "        [0, 0, 0, ..., 0, 0, 0],\n",
       "        [0, 0, 0, ..., 0, 0, 0],\n",
       "        [0, 0, 0, ..., 0, 0, 0]], dtype=uint8),\n",
       " 'target': array([0., 0., 0., ..., 9., 9., 9.]),\n",
       " 'Col_names': ['target', 'data'],\n",
       " 'DESCR': 'mldata.org dataset: mnist-original'}"
      ]
     },
     "execution_count": 15,
     "metadata": {},
     "output_type": "execute_result"
    }
   ],
   "source": [
    "mnist = get_MNIST_data(MNIST_PATH, MNIST_URL, MNIST_MAT)\n",
    "mnist    "
   ]
  },
  {
   "cell_type": "code",
   "execution_count": 16,
   "metadata": {},
   "outputs": [
    {
     "name": "stdout",
     "output_type": "stream",
     "text": [
      "Shape of \"Data\": (70000, 784)\n",
      "Shape of \"target\": (70000,)\n",
      "\n"
     ]
    }
   ],
   "source": [
    "X, y = mnist[\"data\"], mnist[\"target\"]\n",
    "print(\"Shape of \\\"Data\\\": {}\\nShape of \\\"target\\\": {}\\n\".format(X.shape,y.shape))"
   ]
  },
  {
   "cell_type": "code",
   "execution_count": 17,
   "metadata": {},
   "outputs": [],
   "source": [
    "#MNIST is already split into train and test\n",
    "X_train, X_test, y_train, y_test = X[:60000], X[60000:], y[:60000], y[60000:]\n",
    "\n",
    "\n",
    "#Shuffle training set to guarentee cross-validation folds are similar.\n",
    "np.random.seed(42)\n",
    "shuffle_index = np.random.permutation(60000)\n",
    "X_train, y_train = X_train[shuffle_index], y_train[shuffle_index]\n"
   ]
  },
  {
   "cell_type": "code",
   "execution_count": 18,
   "metadata": {},
   "outputs": [
    {
     "name": "stdout",
     "output_type": "stream",
     "text": [
      "Checking if pickle directory exists...\n",
      "Directory exists\n",
      "Pickle file does exists...\n"
     ]
    },
    {
     "name": "stderr",
     "output_type": "stream",
     "text": [
      "/anaconda3/lib/python3.7/site-packages/sklearn/svm/base.py:922: ConvergenceWarning: Liblinear failed to converge, increase the number of iterations.\n",
      "  \"the number of iterations.\", ConvergenceWarning)\n"
     ]
    },
    {
     "name": "stdout",
     "output_type": "stream",
     "text": [
      "Saving model...\n",
      "Saved lin_clf_mnist successfully!\n",
      "\n",
      "Accuracy score of linear SVC: 84.38666666666667%\n"
     ]
    }
   ],
   "source": [
    "#Linear SVM Classifier  \n",
    "if pickle_exist(\"lin_clf_mnist\") and load_pkl:\n",
    "    lin_clf_mnist = load_pickle(\"lin_clf_mnist\")\n",
    "else:\n",
    "    lin_clf_mnist = LinearSVC(random_state=42)    \n",
    "    lin_clf_mnist.fit(X_train, y_train)\n",
    "    save_pickle(\"lin_clf_mnist\", lin_clf_mnist)\n",
    "    \n",
    "y_pred_lin = lin_clf_mnist.predict(X_train)\n",
    "acc_1 = accuracy_score(y_train, y_pred_lin)\n",
    "\n",
    "#notify(\"Python: Chapter 5\", \"lin_clf_mnist is complete\")\n",
    "\n",
    "print(\"Accuracy score of linear SVC: {}%\".format(acc_1*100))"
   ]
  },
  {
   "cell_type": "code",
   "execution_count": 19,
   "metadata": {},
   "outputs": [],
   "source": [
    "#Scale Data\n",
    "X_train_scale = scale.fit_transform((X_train.astype(np.float32)))\n",
    "X_test_scale = scale.fit_transform((X_test.astype(np.float32)))"
   ]
  },
  {
   "cell_type": "code",
   "execution_count": 20,
   "metadata": {},
   "outputs": [
    {
     "name": "stdout",
     "output_type": "stream",
     "text": [
      "Checking if pickle directory exists...\n",
      "Directory exists\n",
      "Pickle file does exists...\n"
     ]
    },
    {
     "name": "stderr",
     "output_type": "stream",
     "text": [
      "/anaconda3/lib/python3.7/site-packages/sklearn/svm/base.py:922: ConvergenceWarning: Liblinear failed to converge, increase the number of iterations.\n",
      "  \"the number of iterations.\", ConvergenceWarning)\n"
     ]
    },
    {
     "name": "stdout",
     "output_type": "stream",
     "text": [
      "Saving model...\n",
      "Saved lin_clf_mnist_sc successfully!\n",
      "\n",
      "Accuracy score of scaled linear SVC: 92.19333333333334%\n"
     ]
    }
   ],
   "source": [
    "#Linear SVM Classifier  (Scaled) \n",
    "if pickle_exist(\"lin_clf_mnist_sc\") and load_pkl:\n",
    "    lin_clf_mnist_sc = load_pickle(\"lin_clf_mnist_sc\")\n",
    "else:\n",
    "    lin_clf_mnist_sc = LinearSVC(random_state=42)    \n",
    "    lin_clf_mnist_sc.fit(X_train_scale, y_train)\n",
    "    save_pickle(\"lin_clf_mnist_sc\", lin_clf_mnist_sc)\n",
    "    \n",
    "y_pred_lin_sc = lin_clf_mnist_sc.predict(X_train_scale)\n",
    "acc_2 = accuracy_score(y_train, y_pred_lin_sc)\n",
    "\n",
    "#notify(\"Python: Chapter 5\", \"y_pred_lin_sc is complete\")\n",
    "\n",
    "print(\"Accuracy score of scaled linear SVC: {}%\".format(acc_2*100))"
   ]
  },
  {
   "cell_type": "code",
   "execution_count": 21,
   "metadata": {},
   "outputs": [
    {
     "name": "stdout",
     "output_type": "stream",
     "text": [
      "Number of entries in \"X_train_scale\": 60000\n",
      "\n",
      "Reduced number of entries in \"X_train_scale\": 10000\n",
      "\n"
     ]
    }
   ],
   "source": [
    "print(\"Number of entries in \\\"X_train_scale\\\": {}\\n\".format(len(X_train_scale)))\n",
    "\n",
    "#Fraction of training data\n",
    "frac = 1/6\n",
    "ind_frac = int(len(X_train_scale)*frac)\n",
    "print(\"Reduced number of entries in \\\"X_train_scale\\\": {}\\n\".format(len(X_train_scale[:ind_frac])))"
   ]
  },
  {
   "cell_type": "code",
   "execution_count": 22,
   "metadata": {},
   "outputs": [
    {
     "name": "stdout",
     "output_type": "stream",
     "text": [
      "Checking if pickle directory exists...\n",
      "Directory exists\n",
      "Pickle file does exists...\n",
      "Saving model...\n",
      "Saved ovr_clf successfully!\n",
      "\n",
      "Accuracy score of One-Vs-Rest Classifier: 98.09%\n"
     ]
    }
   ],
   "source": [
    "#One-Vs-Rest Classifier   \n",
    "if pickle_exist(\"ovr_clf\") and load_pkl:\n",
    "    ovr_clf = load_pickle(\"ovr_clf\")\n",
    "else:\n",
    "    ovr_clf = SVC(decision_function_shape=\"ovr\", gamma=\"auto\")\n",
    "    ovr_clf.fit(X_train_scale[:ind_frac], y_train[:ind_frac])\n",
    "    save_pickle(\"ovr_clf\", ovr_clf)\n",
    "\n",
    "y_pred_ovr = ovr_clf.predict(X_train_scale[:ind_frac])\n",
    "acc_3 = accuracy_score(y_train[:ind_frac], y_pred_ovr)\n",
    "\n",
    "#notify(\"Python: Chapter 5\", \"ovr_clf is complete\")    \n",
    "\n",
    "\n",
    "print(\"Accuracy score of One-Vs-Rest Classifier: {}%\".format(acc_3*100))"
   ]
  },
  {
   "cell_type": "code",
   "execution_count": 23,
   "metadata": {},
   "outputs": [
    {
     "name": "stdout",
     "output_type": "stream",
     "text": [
      "Fitting 3 folds for each of 100 candidates, totalling 300 fits\n"
     ]
    },
    {
     "name": "stderr",
     "output_type": "stream",
     "text": [
      "[Parallel(n_jobs=4)]: Using backend LokyBackend with 4 concurrent workers.\n",
      "[Parallel(n_jobs=4)]: Done  33 tasks      | elapsed:   12.9s\n",
      "[Parallel(n_jobs=4)]: Done 154 tasks      | elapsed:   49.7s\n",
      "[Parallel(n_jobs=4)]: Done 300 out of 300 | elapsed:  1.6min finished\n",
      "/anaconda3/lib/python3.7/site-packages/sklearn/model_selection/_search.py:841: DeprecationWarning: The default of the `iid` parameter will change from True to False in version 0.22 and will be removed in 0.24. This will change numeric results when test-set sizes are unequal.\n",
      "  DeprecationWarning)\n"
     ]
    },
    {
     "data": {
      "text/plain": [
       "RandomizedSearchCV(cv=3, error_score='raise-deprecating',\n",
       "          estimator=SVC(C=1.0, cache_size=200, class_weight=None, coef0=0.0,\n",
       "  decision_function_shape='ovr', degree=3, gamma='auto', kernel='rbf',\n",
       "  max_iter=-1, probability=False, random_state=None, shrinking=True,\n",
       "  tol=0.001, verbose=False),\n",
       "          fit_params=None, iid='warn', n_iter=100, n_jobs=4,\n",
       "          param_distributions={'gamma': <scipy.stats._distn_infrastructure.rv_frozen object at 0x1a1b48a860>, 'C': <scipy.stats._distn_infrastructure.rv_frozen object at 0x1a1b365748>},\n",
       "          pre_dispatch='2*n_jobs', random_state=None, refit=True,\n",
       "          return_train_score='warn', scoring=None, verbose=2)"
      ]
     },
     "execution_count": 23,
     "metadata": {},
     "output_type": "execute_result"
    }
   ],
   "source": [
    "param_distributions = {\n",
    "    \"gamma\": reciprocal(0.001, 0.1), \n",
    "    \"C\": uniform(1, 10)\n",
    "}\n",
    "\n",
    "rand_search = RandomizedSearchCV(ovr_clf, param_distributions, \n",
    "                                 n_iter=100, verbose=2, cv=3, n_jobs=4)\n",
    "\n",
    "rand_search.fit(X_train_scale[:(int(ind_frac/10))],\n",
    "                y_train[:(int(ind_frac/10))])"
   ]
  },
  {
   "cell_type": "code",
   "execution_count": 24,
   "metadata": {},
   "outputs": [
    {
     "name": "stdout",
     "output_type": "stream",
     "text": [
      "Checking if pickle directory exists...\n",
      "Directory exists\n",
      "Pickle file does exists...\n",
      "Saving model...\n",
      "Saved best_rand_clf successfully!\n",
      "\n"
     ]
    }
   ],
   "source": [
    "best_est = rand_search.best_estimator_\n",
    "best_sco = rand_search.best_score_ \n",
    "text_check = os.path.isfile(PICKLE_PATH+\"/best_rand_clf_score.txt\")\n",
    "    \n",
    "if pickle_exist(\"best_rand_clf\") and text_check and load_pkl:\n",
    "    #load current best score\n",
    "    prev_best_score = max(np.loadtxt('best_rand_clf_score.txt', dtype=float))\n",
    "\n",
    "    if best_sco > prev_best_score:\n",
    "        temp = [best_sco, best_sco]\n",
    "        np.savetxt('best_rand_clf_score.txt', temp, fmt='%f')\n",
    "        save_pickle(\"best_rand_clf\", rand_search)\n",
    "    else:\n",
    "        #load in better parameters\n",
    "        best_sco = max(np.loadtxt('best_rand_clf_score.txt', dtype=float))\n",
    "        rand_search = load_pickle(\"best_rand_clf\")\n",
    "else:\n",
    "    #make pickles if dont exist\n",
    "    temp = [best_sco, best_sco]\n",
    "    np.savetxt('best_rand_clf_score.txt', temp, fmt='%f')\n",
    "    save_pickle(\"best_rand_clf\", rand_search)\n",
    "    \n",
    "    \n"
   ]
  },
  {
   "cell_type": "code",
   "execution_count": 25,
   "metadata": {},
   "outputs": [
    {
     "name": "stdout",
     "output_type": "stream",
     "text": [
      "Best score is: 86.6%\n",
      "Best Estimator:\n",
      " SVC(C=3.749264472284362, cache_size=200, class_weight=None, coef0=0.0,\n",
      "  decision_function_shape='ovr', degree=3, gamma=0.0012011223430001825,\n",
      "  kernel='rbf', max_iter=-1, probability=False, random_state=None,\n",
      "  shrinking=True, tol=0.001, verbose=False)\n"
     ]
    }
   ],
   "source": [
    "print(\"Best score is: {}%\\nBest Estimator:\\n\".format(best_sco*100), rand_search.best_estimator_)"
   ]
  },
  {
   "cell_type": "code",
   "execution_count": 26,
   "metadata": {},
   "outputs": [
    {
     "name": "stdout",
     "output_type": "stream",
     "text": [
      "Training: Accuracy score of Random One-Vs-Rest Classifier: 88.42%\n",
      "\n",
      "Testing: Accuracy score of Random One-Vs-Rest Classifier: 88.39%\n"
     ]
    }
   ],
   "source": [
    "#rand_search.best_estimator_.fit(X_train_scale, y_train)\n",
    "\n",
    "y_pred_rand_train = rand_search.best_estimator_.predict(X_train_scale)\n",
    "acc_rand_train = accuracy_score(y_train, y_pred_rand_train)\n",
    "\n",
    "print(\"Training: Accuracy score of Random One-Vs-Rest Classifier: {}%\\n\".format(acc_rand_train*100))\n",
    "\n",
    "y_pred_rand_test = rand_search.best_estimator_.predict(X_test_scale)\n",
    "acc_rand_test = accuracy_score(y_test, y_pred_rand_test)\n",
    "\n",
    "print(\"Testing: Accuracy score of Random One-Vs-Rest Classifier: {}%\".format(acc_rand_test*100))\n"
   ]
  },
  {
   "cell_type": "markdown",
   "metadata": {},
   "source": [
    "10. Train an SVM regressor on the California housing dataset."
   ]
  },
  {
   "cell_type": "code",
   "execution_count": 27,
   "metadata": {},
   "outputs": [],
   "source": [
    "Houses = fetch_california_housing()\n",
    "X_H = Houses[\"data\"]\n",
    "y_H = Houses[\"target\"]"
   ]
  },
  {
   "cell_type": "code",
   "execution_count": 28,
   "metadata": {},
   "outputs": [],
   "source": [
    "#Split Data\n",
    "X_H_train, X_H_test, y_H_train, y_H_test = train_test_split(X_H, y_H, test_size=0.2, random_state=42)\n",
    "\n",
    "#scale data\n",
    "X_H_train_sc = scale.fit_transform(X_H_train)\n",
    "X_H_test_sc = scale.transform(X_H_test)"
   ]
  },
  {
   "cell_type": "code",
   "execution_count": 29,
   "metadata": {},
   "outputs": [
    {
     "name": "stdout",
     "output_type": "stream",
     "text": [
      "Checking if pickle directory exists...\n",
      "Directory exists\n",
      "Pickle file does exists...\n",
      "Saving model...\n",
      "Saved lin_svr successfully!\n",
      "\n",
      "Mean Square Error for Linear SVR: 95.45170440733739%\n",
      "Root Mean Square Error for Linear SVR: 97.6993881287582%\n"
     ]
    },
    {
     "name": "stderr",
     "output_type": "stream",
     "text": [
      "/anaconda3/lib/python3.7/site-packages/sklearn/svm/base.py:922: ConvergenceWarning: Liblinear failed to converge, increase the number of iterations.\n",
      "  \"the number of iterations.\", ConvergenceWarning)\n"
     ]
    }
   ],
   "source": [
    "#Linear SVR\n",
    "if pickle_exist(\"lin_svr\") and load_pkl:\n",
    "    lin_svr = load_pickle(\"lin_svr\")\n",
    "else:\n",
    "    lin_svr = LinearSVR(random_state=42)    \n",
    "    lin_svr.fit(X_H_train_sc, y_H_train)\n",
    "    save_pickle(\"lin_svr\", lin_svr)\n",
    "    \n",
    "y_pred_svr_lin = lin_svr.predict(X_H_train_sc)\n",
    "mse = mean_squared_error(y_H_train, y_pred_svr_lin)\n",
    "print(\"Mean Square Error for Linear SVR: {}%\".format(mse*100))\n",
    "print(\"Root Mean Square Error for Linear SVR: {}%\".format(np.sqrt(mse)*100))"
   ]
  },
  {
   "cell_type": "code",
   "execution_count": 30,
   "metadata": {},
   "outputs": [
    {
     "name": "stderr",
     "output_type": "stream",
     "text": [
      "[Parallel(n_jobs=4)]: Using backend LokyBackend with 4 concurrent workers.\n"
     ]
    },
    {
     "name": "stdout",
     "output_type": "stream",
     "text": [
      "Fitting 3 folds for each of 30 candidates, totalling 90 fits\n"
     ]
    },
    {
     "name": "stderr",
     "output_type": "stream",
     "text": [
      "[Parallel(n_jobs=4)]: Done  33 tasks      | elapsed:  1.3min\n",
      "[Parallel(n_jobs=4)]: Done  90 out of  90 | elapsed:  3.4min finished\n"
     ]
    },
    {
     "data": {
      "text/plain": [
       "RandomizedSearchCV(cv=3, error_score='raise-deprecating',\n",
       "          estimator=SVR(C=1.0, cache_size=200, coef0=0.0, degree=3, epsilon=0.1,\n",
       "  gamma='auto_deprecated', kernel='rbf', max_iter=-1, shrinking=True,\n",
       "  tol=0.001, verbose=False),\n",
       "          fit_params=None, iid='warn', n_iter=30, n_jobs=4,\n",
       "          param_distributions={'gamma': <scipy.stats._distn_infrastructure.rv_frozen object at 0x1a1b536908>, 'C': <scipy.stats._distn_infrastructure.rv_frozen object at 0x1a1b3ed7b8>},\n",
       "          pre_dispatch='2*n_jobs', random_state=42, refit=True,\n",
       "          return_train_score='warn', scoring=None, verbose=2)"
      ]
     },
     "execution_count": 30,
     "metadata": {},
     "output_type": "execute_result"
    }
   ],
   "source": [
    "#Random SVR\n",
    "param_distributions = {\n",
    "    \"gamma\": reciprocal(0.001, 0.1), \n",
    "    \"C\": uniform(1, 10)\n",
    "}\n",
    "\n",
    "\n",
    "rand_SVR = RandomizedSearchCV(SVR(), param_distributions, n_iter=30, \n",
    "                              verbose=2, cv=3, random_state=42, n_jobs=4)\n",
    "rand_SVR.fit(X_H_train_sc, y_H_train)\n"
   ]
  },
  {
   "cell_type": "code",
   "execution_count": 31,
   "metadata": {},
   "outputs": [
    {
     "name": "stdout",
     "output_type": "stream",
     "text": [
      "Checking if pickle directory exists...\n",
      "Directory exists\n",
      "Pickle file does exists...\n",
      "Saving model...\n",
      "Saved best_rand_svr successfully!\n",
      "\n"
     ]
    }
   ],
   "source": [
    "best_est_svr = rand_SVR.best_estimator_\n",
    "best_sco_svr = rand_SVR.best_score_ \n",
    "text_check = os.path.isfile(PICKLE_PATH+\"/best_rand_svr_score.txt\")\n",
    "    \n",
    "if pickle_exist(\"best_rand_svr_score\") and text_check and load_pkl:\n",
    "    #load current best score\n",
    "    prev_best_score = max(np.loadtxt('best_rand_svr_score.txt', dtype=float))\n",
    "    \n",
    "    if best_sco_svr > prev_best_score: \n",
    "        temp = [best_sco_svr, best_sco_svr]\n",
    "        np.savetxt('best_rand_svr_score.txt', temp, fmt='%f')\n",
    "        save_pickle(\"best_rand_svr\", rand_SVR)\n",
    "    else:\n",
    "        #load in better parameters\n",
    "        best_sco_svr = max(np.loadtxt('best_rand_svr_score.txt', dtype=float))\n",
    "        rand_SVR = load_pickle(\"best_rand_svr\")\n",
    "else:\n",
    "    #make pickles if dont exist\n",
    "    temp = [best_sco_svr, best_sco_svr]\n",
    "    np.savetxt('best_rand_svr_score.txt', temp, fmt='%f')\n",
    "    save_pickle(\"best_rand_svr\", rand_SVR)\n",
    "    \n",
    "\n",
    "    "
   ]
  },
  {
   "cell_type": "code",
   "execution_count": 32,
   "metadata": {},
   "outputs": [
    {
     "name": "stdout",
     "output_type": "stream",
     "text": [
      "Best score is: 73.82549678673655%\n",
      "Best SVR Estimator:\n",
      " SVR(C=4.745401188473625, cache_size=200, coef0=0.0, degree=3, epsilon=0.1,\n",
      "  gamma=0.07969454818643928, kernel='rbf', max_iter=-1, shrinking=True,\n",
      "  tol=0.001, verbose=False)\n"
     ]
    }
   ],
   "source": [
    "print(\"Best score is: {}%\\nBest SVR Estimator:\\n\".format(best_sco_svr*100), rand_SVR.best_estimator_)"
   ]
  },
  {
   "cell_type": "code",
   "execution_count": 33,
   "metadata": {},
   "outputs": [
    {
     "name": "stdout",
     "output_type": "stream",
     "text": [
      "Training: RMSE for Random SVR: 57.275247707853595%\n"
     ]
    }
   ],
   "source": [
    "y_pred_rand_SVR = rand_SVR.best_estimator_.predict(X_H_train_sc)\n",
    "mse_2 = mean_squared_error(y_H_train, y_pred_rand_SVR)\n",
    "\n",
    "print(\"Training: RMSE for Random SVR: {}%\".format(np.sqrt(mse_2)*100))"
   ]
  },
  {
   "cell_type": "code",
   "execution_count": 34,
   "metadata": {},
   "outputs": [
    {
     "name": "stdout",
     "output_type": "stream",
     "text": [
      "Testing: RMSE for Random SVR: 59.29168385528734%\n"
     ]
    }
   ],
   "source": [
    "y_pred_rand_SVR_test = rand_SVR.best_estimator_.predict(X_H_test_sc)\n",
    "mse_3 = mean_squared_error(y_H_test, y_pred_rand_SVR_test)\n",
    "\n",
    "print(\"Testing: RMSE for Random SVR: {}%\".format(np.sqrt(mse_3)*100))"
   ]
  },
  {
   "cell_type": "code",
   "execution_count": 35,
   "metadata": {},
   "outputs": [],
   "source": [
    "notify(\"Python: Chapter 5\", \"All is complete\")"
   ]
  },
  {
   "cell_type": "code",
   "execution_count": null,
   "metadata": {},
   "outputs": [],
   "source": []
  },
  {
   "cell_type": "code",
   "execution_count": null,
   "metadata": {},
   "outputs": [],
   "source": []
  }
 ],
 "metadata": {
  "kernelspec": {
   "display_name": "Python 3",
   "language": "python",
   "name": "python3"
  },
  "language_info": {
   "codemirror_mode": {
    "name": "ipython",
    "version": 3
   },
   "file_extension": ".py",
   "mimetype": "text/x-python",
   "name": "python",
   "nbconvert_exporter": "python",
   "pygments_lexer": "ipython3",
   "version": "3.7.1"
  }
 },
 "nbformat": 4,
 "nbformat_minor": 2
}
